path = 'C:\\Users\\delbe\\OneDrive\\Documents\\FHNW\\ecallistoValidation\\FITS\\2017\\09\\06'

engine = create_engine("mysql+pymysql://" + 'root' + ":" + 'delberin1992' + "@" + 'localhost' + "/" + 'ecallisto_DB')

df = 0

for root, dirs, files in os.walk(path):
    for name in files:
        if name.endswith('.fit.gz'):
            instruments = os.path.join(root, name)
            
            hdulist = astropy.io.fits.open(instruments)
            
            instrument_name = hdulist[0].header['INSTRUME'] 
            date_obs = hdulist[0].header['DATE-OBS'] 
            time_obs = hdulist[0].header['TIME-OBS']
            date_end = hdulist[0].header['DATE-END'] 
            time_end = hdulist[0].header['TIME-END'] 
            
            # combine date and time obs, date and time end
            start_time = __to_timestamp(date_obs, time_obs)
            end_time = __to_timestamp(date_end, time_end)
            
            # creating dataframe in pandas
            data={'file_name':[name],
                  'instrument_name':[instrument_name],
                  'start_time':[start_time] ,
                  'end_time':[end_time]    
                  }
             
            data_frame = pd.DataFrame(data, index = [df]) 
            
            # connection between pandas and sql 
            data_frame.to_sql('ecallisto_data', con = engine,if_exists = 'append', chunksize = 10000, index=False)
           # print(data_frame)
                       
            df = df + 1
