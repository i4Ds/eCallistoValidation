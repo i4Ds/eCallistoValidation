{
 "cells": [
  {
   "cell_type": "code",
   "execution_count": 6,
   "metadata": {},
   "outputs": [
    {
     "ename": "ModuleNotFoundError",
     "evalue": "No module named 'eCallistoValidation'",
     "output_type": "error",
     "traceback": [
      "\u001b[1;31m---------------------------------------------------------------------------\u001b[0m",
      "\u001b[1;31mModuleNotFoundError\u001b[0m                       Traceback (most recent call last)",
      "\u001b[1;32m<ipython-input-6-6991ae7b8193>\u001b[0m in \u001b[0;36m<module>\u001b[1;34m\u001b[0m\n\u001b[1;32m----> 1\u001b[1;33m \u001b[1;32mfrom\u001b[0m \u001b[0mvalidation\u001b[0m \u001b[1;32mimport\u001b[0m \u001b[1;33m*\u001b[0m\u001b[1;33m\u001b[0m\u001b[1;33m\u001b[0m\u001b[0m\n\u001b[0m",
      "\u001b[1;32m~\\OneDrive\\Desktop\\eCallistoValidation\\sources\\validation.py\u001b[0m in \u001b[0;36m<module>\u001b[1;34m\u001b[0m\n\u001b[0;32m     16\u001b[0m \u001b[1;32mimport\u001b[0m \u001b[0mmatplotlib\u001b[0m\u001b[1;33m.\u001b[0m\u001b[0mpyplot\u001b[0m \u001b[1;32mas\u001b[0m \u001b[0mplt\u001b[0m\u001b[1;33m\u001b[0m\u001b[1;33m\u001b[0m\u001b[0m\n\u001b[0;32m     17\u001b[0m \u001b[1;32mimport\u001b[0m \u001b[0mre\u001b[0m\u001b[1;33m\u001b[0m\u001b[1;33m\u001b[0m\u001b[0m\n\u001b[1;32m---> 18\u001b[1;33m \u001b[1;32mfrom\u001b[0m \u001b[0meCallistoValidation\u001b[0m\u001b[1;33m.\u001b[0m\u001b[0mconfigs\u001b[0m \u001b[1;32mimport\u001b[0m \u001b[0mconfig\u001b[0m \u001b[1;32mas\u001b[0m \u001b[0mtest_config\u001b[0m\u001b[1;33m\u001b[0m\u001b[1;33m\u001b[0m\u001b[0m\n\u001b[0m\u001b[0;32m     19\u001b[0m \u001b[1;32mfrom\u001b[0m \u001b[0mscipy\u001b[0m \u001b[1;32mimport\u001b[0m \u001b[0minterpolate\u001b[0m\u001b[1;33m\u001b[0m\u001b[1;33m\u001b[0m\u001b[0m\n\u001b[0;32m     20\u001b[0m \u001b[1;32mfrom\u001b[0m \u001b[0mcopy\u001b[0m \u001b[1;32mimport\u001b[0m \u001b[0mdeepcopy\u001b[0m\u001b[1;33m\u001b[0m\u001b[1;33m\u001b[0m\u001b[0m\n",
      "\u001b[1;31mModuleNotFoundError\u001b[0m: No module named 'eCallistoValidation'"
     ]
    }
   ],
   "source": [
    "from validation import *"
   ]
  },
  {
   "cell_type": "code",
   "execution_count": null,
   "metadata": {},
   "outputs": [],
   "source": [
    "def get_plot(self):\n",
    "    try:\n",
    "        # First Column, Original Spectrogram\n",
    "        spec = CallistoSpectrogram.read(self)\n",
    "        data_absolute = get_abs_data(spec)\n",
    "        \n",
    "        std_data_org = round(np.std(data_absolute), 3)\n",
    "        mean_data_org = round(np.mean(data_absolute), 3)\n",
    "        snr_data_org = round((mean_data_org / std_data_org), 3)\n",
    "\n",
    "        fig1, axs1 = plt.subplots(1, 4, figsize=(25, 7))\n",
    "        ax1 = spec.plot()\n",
    "        ax1.title.set_text(f\"Original Data, \\n std = {std_data_org}, mean = {mean_data_org}, snr = {snr_data_org}\")\n",
    "        plt.close()\n",
    "\n",
    "        # Second column, Constbacksub + elimwrongchannels\n",
    "        spec2 = spec.subtract_bg(\"constbacksub\", \"elimwrongchannels\")\n",
    "        data_absolute3 = get_abs_data(spec2)\n",
    "        \n",
    "        std_data_elim = round(np.std(data_absolute3), 3)\n",
    "        mean_data_elim = round(np.mean(data_absolute3), 3)\n",
    "        snr_data_elim = round((mean_data_elim / std_data_elim), 3)\n",
    "\n",
    "        fig2 = plt.subplots(1, 4, figsize=(25, 7))\n",
    "        ax2 = spec2.plot()\n",
    "        ax2.title.set_text(f\"Background subtracted,\\n std = {std_data_elim}, mean = {mean_data_elim}, snr = {snr_data_elim}\")\n",
    "        plt.close()\n",
    "\n",
    "        # Third column, subtract_bg_sliding_window\n",
    "        spec3 = spec.subtract_bg(\"subtract_bg_sliding_window\", window_width=800, affected_width=1, amount=0.05,\n",
    "                                 change_points=True)\n",
    "        data_absolute4 = get_abs_data(spec3)\n",
    "    \n",
    "        std_data_sub = round(np.std(data_absolute4), 3)\n",
    "        mean_data_sub = round(np.mean(data_absolute4), 3)\n",
    "        snr_data_sub = round((mean_data_sub / std_data_sub), 3)\n",
    "        \n",
    "        fig3 = plt.figure(figsize=(25, 7))\n",
    "        ax3 = spec3.plot()\n",
    "        ax3.title.set_text(f\"Gliding background subtracted (window=800),\\n std = {std_data_sub}, mean = {mean_data_sub}, snr = {snr_data_sub}\")\n",
    "        plt.close()\n",
    "\n",
    "        fig4, ax4 = plt.subplots(figsize=(25, 7))\n",
    "\n",
    "        # If Log is True, the histogram axis will be set to a log scale\n",
    "        n, bins, patches = ax4.hist([data_absolute3, data_absolute4], histtype='step', bins=25, log = True,\n",
    "                                    label=['Background subtracted', 'Gliding background subtracted'])\n",
    "\n",
    "        # Set title for the histograms and show the std/snr values.\n",
    "        ax4.title.set_text(f\"Histograms, std = {std_data_elim}, snr = {snr_data_elim}\")\n",
    "        plt.legend()\n",
    "\n",
    "        plt.legend()\n",
    "        plt.close()\n",
    "\n",
    "        # Plot final plot by moving axes to the figure\n",
    "        fig_target, (axA, axB, axC, axD) = plt.subplots(\n",
    "            1, 4, figsize=(30, 7))\n",
    "        plt.suptitle(fig1._suptitle.get_text())\n",
    "\n",
    "        move_axes(fig_target, ax1, axA)\n",
    "        move_axes(fig_target, ax2, axB)\n",
    "        move_axes(fig_target, ax3, axC)\n",
    "        move_axes(fig_target, ax4, axD)\n",
    "\n",
    "        for ax in (ax1, ax2, ax3):\n",
    "            ax.set_xlabel('Time[UT]')\n",
    "            ax.set_ylabel('Frequency[MHz]')\n",
    "\n",
    "        ax4.set_xlabel('Pixel values')\n",
    "        ax4.set_ylabel('Number of pixels')\n",
    "\n",
    "    except Exception as err:\n",
    "        \n",
    "        # => file is the name of the file in case if there is an error\n",
    "        print(f\"The Error message is: {err} and the file name is {file}\")\n",
    "           "
   ]
  },
  {
   "cell_type": "code",
   "execution_count": null,
   "metadata": {},
   "outputs": [],
   "source": [
    "Path = 'Spec_test'\n",
    "\n",
    "with PdfPages('BgSubImages_test.pdf') as pdf:\n",
    "    \n",
    "    for root, dirs, files in os.walk(Path):\n",
    "            for file in files:\n",
    "                if file.endswith('.fit.gz'):\n",
    "                    full_path = os.path.join(root, file)\n",
    "\n",
    "                    spec_pdf = get_plot(full_path)\n",
    "\n",
    "                    pdf.savefig(spec_pdf)\n",
    "                    plt.close()"
   ]
  }
 ],
 "metadata": {
  "kernelspec": {
   "display_name": "Python 3",
   "language": "python",
   "name": "python3"
  },
  "language_info": {
   "codemirror_mode": {
    "name": "ipython",
    "version": 3
   },
   "file_extension": ".py",
   "mimetype": "text/x-python",
   "name": "python",
   "nbconvert_exporter": "python",
   "pygments_lexer": "ipython3",
   "version": "3.8.3"
  }
 },
 "nbformat": 4,
 "nbformat_minor": 4
}
