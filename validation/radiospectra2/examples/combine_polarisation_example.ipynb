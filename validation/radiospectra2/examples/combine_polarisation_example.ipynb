{
 "cells": [
  {
   "cell_type": "markdown",
   "metadata": {},
   "source": [
    "## Combine Polarization\n",
    "### combine_polarization produces a merged copy of two polarization of the same event from one instrument."
   ]
  },
  {
   "cell_type": "code",
   "execution_count": null,
   "metadata": {},
   "outputs": [],
   "source": [
    "# import local radiospectra module\n",
    "\n",
    "import os, sys\n",
    "top_dir = os.path.split(os.path.realpath('.'))[0]\n",
    "if top_dir != sys.path[0] and top_dir != sys.path[1]:\n",
    "    sys.path.insert(1,top_dir)\n",
    "path_to_import = os.path.abspath(top_dir + os.sep + \"radiospectra\")\n",
    "\n",
    "import radiospectra\n",
    "if(path_to_import != os.path.abspath(radiospectra.__path__[0])):\n",
    "    print(f'Module to import: {path_to_import}')\n",
    "    print(f'Module that was imported: {os.path.abspath(radiospectra.__path__[0])}')\n",
    "    raise Exception('Wrong radiospectra module was imported. (not local)')\n",
    "else:\n",
    "    print(f'Imported local radiospectra from: {os.path.abspath(radiospectra.__path__[0])}')\n",
    "from radiospectra.sources import CallistoSpectrogram"
   ]
  },
  {
   "cell_type": "code",
   "execution_count": null,
   "metadata": {},
   "outputs": [],
   "source": [
    "# image display settings\n",
    "%matplotlib inline\n",
    "import matplotlib.pyplot as plt\n",
    "plt.rcParams[\"figure.figsize\"] = (25,10)"
   ]
  },
  {
   "cell_type": "code",
   "execution_count": null,
   "metadata": {
    "scrolled": false
   },
   "outputs": [],
   "source": [
    "#define both spectra's to pass them to the function\n",
    "Spec_1 = CallistoSpectrogram.from_url(\"http://soleil.i4ds.ch/solarradio/data/2002-20yy_Callisto/2018/04/01/ALASKA-COHOE_20180401_161500_00.fit.gz\")\n",
    "Spec_2 = CallistoSpectrogram.from_url(\"http://soleil.i4ds.ch/solarradio/data/2002-20yy_Callisto/2018/04/01/ALASKA-COHOE_20180401_161500_01.fit.gz\")\n",
    "Spec_1.peek()\n",
    "Spec_2.peek()"
   ]
  },
  {
   "cell_type": "code",
   "execution_count": null,
   "metadata": {
    "scrolled": true
   },
   "outputs": [],
   "source": [
    "#combine_polarisation checks headers of the given spectrograms and evaluates a combined spectragram.\n",
    "#Note: The new combined spec uses the header of Spec_1.\n",
    "\n",
    "Combined_Spec = CallistoSpectrogram.combine_polarisation(Spec_1,Spec_2)\n",
    "Combined_Spec.peek()"
   ]
  },
  {
   "cell_type": "code",
   "execution_count": null,
   "metadata": {},
   "outputs": [],
   "source": []
  },
  {
   "cell_type": "markdown",
   "metadata": {},
   "source": [
    "### Detect and evaluates polarizations from a list of spectrograms\n",
    "### Returns a dictionary of all spectrograms of your input sorted by their PWM_VAL and last two recognition digits. \n",
    "### Also returns a list for every recorded and combined polarization.\n",
    "\n",
    "### Attention:\n",
    "### BLEN7M and PHOENIX Instruments don't work with this funktion."
   ]
  },
  {
   "cell_type": "code",
   "execution_count": null,
   "metadata": {},
   "outputs": [],
   "source": [
    "# Example for processing spectrograms from one instruments.\n",
    "# Creating one list of the already existing polarisation.\n",
    "\n",
    "specs = []\n",
    "for root, dirs, files in os.walk(\"example_combine_SKYMAP\", topdown = False):\n",
    "    for file in files:\n",
    "        full_name = os.path.join(root, file)\n",
    "        image = CallistoSpectrogram.read(full_name)\n",
    "        specs.append(image)"
   ]
  },
  {
   "cell_type": "code",
   "execution_count": null,
   "metadata": {},
   "outputs": [],
   "source": [
    "sorted_specs = CallistoSpectrogram.detect_and_combine_polarisations(specs)\n",
    "sorted_specs"
   ]
  },
  {
   "cell_type": "code",
   "execution_count": null,
   "metadata": {},
   "outputs": [],
   "source": [
    "for PWM_VAL, spec_list in sorted_specs.items():\n",
    "    x = CallistoSpectrogram.new_join_many(spec_list)\n",
    "    x.peek()"
   ]
  },
  {
   "cell_type": "code",
   "execution_count": null,
   "metadata": {},
   "outputs": [],
   "source": [
    "# Example for processing spectrograms from two polarisations.\n",
    "# Creating three lists. Two with already existing polarisations\n",
    "# and one list with combined spectrograms.\n",
    "\n",
    "specs2 = []\n",
    "for root, dirs, files in os.walk(\"example_combine_Alaska-COHOE\", topdown = False):\n",
    "    for file in files:\n",
    "        full_name = os.path.join(root, file)\n",
    "        image = CallistoSpectrogram.read(full_name)\n",
    "        specs2.append(image)"
   ]
  },
  {
   "cell_type": "code",
   "execution_count": null,
   "metadata": {},
   "outputs": [],
   "source": [
    "sorted_specs2 = CallistoSpectrogram.detect_and_combine_polarisations(specs2)\n",
    "sorted_specs2"
   ]
  },
  {
   "cell_type": "code",
   "execution_count": null,
   "metadata": {},
   "outputs": [],
   "source": [
    "for PWM_VAL, spec_list in sorted_specs2.items():\n",
    "    x = CallistoSpectrogram.new_join_many(spec_list)\n",
    "    x.peek()"
   ]
  },
  {
   "cell_type": "code",
   "execution_count": null,
   "metadata": {},
   "outputs": [],
   "source": [
    "# Example for processing spectrograms from three polarisations with two polarisating ones.\n",
    "# Creating four lists. Three with already existing polarisations\n",
    "# and one list with combined spectrograms. In this case 100_00 and 100_01 where found \n",
    "# to be matchable.\n",
    "\n",
    "specs3 = []\n",
    "for root, dirs, files in os.walk(\"example_combine_ALASKA-COHOE_2\", topdown = False):\n",
    "    for file in files:\n",
    "        full_name = os.path.join(root, file)\n",
    "        image = CallistoSpectrogram.read(full_name)\n",
    "        specs3.append(image)"
   ]
  },
  {
   "cell_type": "code",
   "execution_count": null,
   "metadata": {},
   "outputs": [],
   "source": [
    "sorted_specs3 = CallistoSpectrogram.detect_and_combine_polarisations(specs3)\n",
    "sorted_specs3"
   ]
  },
  {
   "cell_type": "code",
   "execution_count": null,
   "metadata": {},
   "outputs": [],
   "source": [
    "for PWM_VAL, spec_list in sorted_specs3.items():\n",
    "    x = CallistoSpectrogram.new_join_many(spec_list)\n",
    "    x.peek()"
   ]
  },
  {
   "cell_type": "code",
   "execution_count": null,
   "metadata": {},
   "outputs": [],
   "source": [
    "# Example for processing spectrograms with four polarisations.\n",
    "# Creating five lists. Four created from already existing polarisations\n",
    "# and in this example one list consisting of combined spectrograms.\n",
    "\n",
    "specs4 = []\n",
    "for root, dirs, files in os.walk(\"example_combine_MRO\", topdown = False):\n",
    "    for file in files:\n",
    "        full_name = os.path.join(root, file)\n",
    "        image = CallistoSpectrogram.read(full_name)\n",
    "        specs4.append(image)"
   ]
  },
  {
   "cell_type": "code",
   "execution_count": null,
   "metadata": {},
   "outputs": [],
   "source": [
    "sorted_specs4 = CallistoSpectrogram.detect_and_combine_polarisations(specs4)\n",
    "sorted_specs4"
   ]
  },
  {
   "cell_type": "code",
   "execution_count": null,
   "metadata": {},
   "outputs": [],
   "source": [
    "for PWM_VAL, spec_list in sorted_specs4.items():\n",
    "    x = CallistoSpectrogram.new_join_many(spec_list)\n",
    "    x.peek()"
   ]
  },
  {
   "cell_type": "code",
   "execution_count": null,
   "metadata": {},
   "outputs": [],
   "source": []
  }
 ],
 "metadata": {
  "kernelspec": {
   "display_name": "Python 3",
   "language": "python",
   "name": "python3"
  },
  "language_info": {
   "codemirror_mode": {
    "name": "ipython",
    "version": 3
   },
   "file_extension": ".py",
   "mimetype": "text/x-python",
   "name": "python",
   "nbconvert_exporter": "python",
   "pygments_lexer": "ipython3",
   "version": "3.7.4"
  }
 },
 "nbformat": 4,
 "nbformat_minor": 2
}
