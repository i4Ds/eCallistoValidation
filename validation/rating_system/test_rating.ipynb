{
 "cells": [
  {
   "cell_type": "markdown",
   "source": [
    "## This Jupyter is to test the Rating class\n"
   ],
   "metadata": {
    "collapsed": false
   }
  },
  {
   "cell_type": "code",
   "execution_count": 1,
   "outputs": [],
   "source": [
    "from rating import *\n",
    "\n",
    "rating = Rating('2019-09-08 08:00:00', '2023-02-08 18:45:00')\n",
    "df = rating.rate_stations()\n"
   ],
   "metadata": {
    "collapsed": false,
    "ExecuteTime": {
     "end_time": "2023-07-27T11:58:49.486701300Z",
     "start_time": "2023-07-27T11:57:49.010693500Z"
    }
   }
  },
  {
   "cell_type": "code",
   "execution_count": 2,
   "outputs": [
    {
     "data": {
      "text/plain": "            station_name   snr   std  snr_rating  std_rating\n47                  MRT3  1.19  0.38        4.13        1.60\n15                 EGYPT  1.13  0.38        4.03        1.60\n46                  MRT2  1.03  0.40        4.02        1.63\n2           ALASKA-COHOE  1.06  0.46        3.97        1.78\n45                  MRT1  1.02  0.94        3.95        3.01\n..                   ...   ...   ...         ...         ...\n77  THAILAND-Pathumthani  0.57  1.34        1.92        3.94\n52      NORWAY-RANDABERG  0.51  0.47        1.81        1.79\n51    NORWAY-NY-AALESUND  0.48  0.77        1.78        2.01\n81      USA-ARIZONA-ERAU  0.41  2.04        1.66        3.94\n79                  UNAM  0.40  2.38        1.63        4.00\n\n[82 rows x 5 columns]",
      "text/html": "<div>\n<style scoped>\n    .dataframe tbody tr th:only-of-type {\n        vertical-align: middle;\n    }\n\n    .dataframe tbody tr th {\n        vertical-align: top;\n    }\n\n    .dataframe thead th {\n        text-align: right;\n    }\n</style>\n<table border=\"1\" class=\"dataframe\">\n  <thead>\n    <tr style=\"text-align: right;\">\n      <th></th>\n      <th>station_name</th>\n      <th>snr</th>\n      <th>std</th>\n      <th>snr_rating</th>\n      <th>std_rating</th>\n    </tr>\n  </thead>\n  <tbody>\n    <tr>\n      <th>47</th>\n      <td>MRT3</td>\n      <td>1.19</td>\n      <td>0.38</td>\n      <td>4.13</td>\n      <td>1.60</td>\n    </tr>\n    <tr>\n      <th>15</th>\n      <td>EGYPT</td>\n      <td>1.13</td>\n      <td>0.38</td>\n      <td>4.03</td>\n      <td>1.60</td>\n    </tr>\n    <tr>\n      <th>46</th>\n      <td>MRT2</td>\n      <td>1.03</td>\n      <td>0.40</td>\n      <td>4.02</td>\n      <td>1.63</td>\n    </tr>\n    <tr>\n      <th>2</th>\n      <td>ALASKA-COHOE</td>\n      <td>1.06</td>\n      <td>0.46</td>\n      <td>3.97</td>\n      <td>1.78</td>\n    </tr>\n    <tr>\n      <th>45</th>\n      <td>MRT1</td>\n      <td>1.02</td>\n      <td>0.94</td>\n      <td>3.95</td>\n      <td>3.01</td>\n    </tr>\n    <tr>\n      <th>...</th>\n      <td>...</td>\n      <td>...</td>\n      <td>...</td>\n      <td>...</td>\n      <td>...</td>\n    </tr>\n    <tr>\n      <th>77</th>\n      <td>THAILAND-Pathumthani</td>\n      <td>0.57</td>\n      <td>1.34</td>\n      <td>1.92</td>\n      <td>3.94</td>\n    </tr>\n    <tr>\n      <th>52</th>\n      <td>NORWAY-RANDABERG</td>\n      <td>0.51</td>\n      <td>0.47</td>\n      <td>1.81</td>\n      <td>1.79</td>\n    </tr>\n    <tr>\n      <th>51</th>\n      <td>NORWAY-NY-AALESUND</td>\n      <td>0.48</td>\n      <td>0.77</td>\n      <td>1.78</td>\n      <td>2.01</td>\n    </tr>\n    <tr>\n      <th>81</th>\n      <td>USA-ARIZONA-ERAU</td>\n      <td>0.41</td>\n      <td>2.04</td>\n      <td>1.66</td>\n      <td>3.94</td>\n    </tr>\n    <tr>\n      <th>79</th>\n      <td>UNAM</td>\n      <td>0.40</td>\n      <td>2.38</td>\n      <td>1.63</td>\n      <td>4.00</td>\n    </tr>\n  </tbody>\n</table>\n<p>82 rows × 5 columns</p>\n</div>"
     },
     "execution_count": 2,
     "metadata": {},
     "output_type": "execute_result"
    }
   ],
   "source": [
    "df\n"
   ],
   "metadata": {
    "collapsed": false,
    "ExecuteTime": {
     "end_time": "2023-07-27T11:59:21.151555600Z",
     "start_time": "2023-07-27T11:59:21.101847100Z"
    }
   }
  }
 ],
 "metadata": {
  "kernelspec": {
   "display_name": "Python 3",
   "language": "python",
   "name": "python3"
  },
  "language_info": {
   "codemirror_mode": {
    "name": "ipython",
    "version": 2
   },
   "file_extension": ".py",
   "mimetype": "text/x-python",
   "name": "python",
   "nbconvert_exporter": "python",
   "pygments_lexer": "ipython2",
   "version": "2.7.6"
  }
 },
 "nbformat": 4,
 "nbformat_minor": 0
}
