{
 "cells": [
  {
   "cell_type": "markdown",
   "source": [
    "## This Jupyter is to test the Rating class\n"
   ],
   "metadata": {
    "collapsed": false
   }
  },
  {
   "cell_type": "code",
   "execution_count": 3,
   "outputs": [],
   "source": [
    "from rating import *\n",
    "\n",
    "rating = Rating('2019-09-08 08:00:00', '2023-02-08 18:45:00')\n",
    "df = rating.rate_stations()\n"
   ],
   "metadata": {
    "collapsed": false,
    "ExecuteTime": {
     "end_time": "2023-08-10T11:26:14.254521500Z",
     "start_time": "2023-08-10T11:25:44.498672900Z"
    }
   }
  },
  {
   "cell_type": "code",
   "execution_count": 4,
   "outputs": [
    {
     "data": {
      "text/plain": "            station_name   snr   std  snr_rating  std_rating\n101      SWISS-ZURICH_59  1.25  0.35        4.38        1.55\n108              ZSTS_59  1.25  0.35        4.37        1.56\n0        ALASKA-COHOE_00  1.21  0.37        4.29        1.60\n9      AUSTRIA-OE3FLB_55  1.19  0.43        4.26        1.76\n64               MRT3_02  1.13  0.48        4.17        1.69\n..                   ...   ...   ...         ...         ...\n71   NORWAY-RANDABERG_01  0.51  0.46        1.74        1.87\n95   SWISS-HEITERSWIL_59  0.41  2.35        1.61        4.02\n107  USA-ARIZONA-ERAU_01  0.42  1.90        1.61        4.02\n49               KRIM_01  0.40  2.21        1.58        4.03\n105              UNAM_59  0.38  2.38        1.58        3.97\n\n[109 rows x 5 columns]",
      "text/html": "<div>\n<style scoped>\n    .dataframe tbody tr th:only-of-type {\n        vertical-align: middle;\n    }\n\n    .dataframe tbody tr th {\n        vertical-align: top;\n    }\n\n    .dataframe thead th {\n        text-align: right;\n    }\n</style>\n<table border=\"1\" class=\"dataframe\">\n  <thead>\n    <tr style=\"text-align: right;\">\n      <th></th>\n      <th>station_name</th>\n      <th>snr</th>\n      <th>std</th>\n      <th>snr_rating</th>\n      <th>std_rating</th>\n    </tr>\n  </thead>\n  <tbody>\n    <tr>\n      <th>101</th>\n      <td>SWISS-ZURICH_59</td>\n      <td>1.25</td>\n      <td>0.35</td>\n      <td>4.38</td>\n      <td>1.55</td>\n    </tr>\n    <tr>\n      <th>108</th>\n      <td>ZSTS_59</td>\n      <td>1.25</td>\n      <td>0.35</td>\n      <td>4.37</td>\n      <td>1.56</td>\n    </tr>\n    <tr>\n      <th>0</th>\n      <td>ALASKA-COHOE_00</td>\n      <td>1.21</td>\n      <td>0.37</td>\n      <td>4.29</td>\n      <td>1.60</td>\n    </tr>\n    <tr>\n      <th>9</th>\n      <td>AUSTRIA-OE3FLB_55</td>\n      <td>1.19</td>\n      <td>0.43</td>\n      <td>4.26</td>\n      <td>1.76</td>\n    </tr>\n    <tr>\n      <th>64</th>\n      <td>MRT3_02</td>\n      <td>1.13</td>\n      <td>0.48</td>\n      <td>4.17</td>\n      <td>1.69</td>\n    </tr>\n    <tr>\n      <th>...</th>\n      <td>...</td>\n      <td>...</td>\n      <td>...</td>\n      <td>...</td>\n      <td>...</td>\n    </tr>\n    <tr>\n      <th>71</th>\n      <td>NORWAY-RANDABERG_01</td>\n      <td>0.51</td>\n      <td>0.46</td>\n      <td>1.74</td>\n      <td>1.87</td>\n    </tr>\n    <tr>\n      <th>95</th>\n      <td>SWISS-HEITERSWIL_59</td>\n      <td>0.41</td>\n      <td>2.35</td>\n      <td>1.61</td>\n      <td>4.02</td>\n    </tr>\n    <tr>\n      <th>107</th>\n      <td>USA-ARIZONA-ERAU_01</td>\n      <td>0.42</td>\n      <td>1.90</td>\n      <td>1.61</td>\n      <td>4.02</td>\n    </tr>\n    <tr>\n      <th>49</th>\n      <td>KRIM_01</td>\n      <td>0.40</td>\n      <td>2.21</td>\n      <td>1.58</td>\n      <td>4.03</td>\n    </tr>\n    <tr>\n      <th>105</th>\n      <td>UNAM_59</td>\n      <td>0.38</td>\n      <td>2.38</td>\n      <td>1.58</td>\n      <td>3.97</td>\n    </tr>\n  </tbody>\n</table>\n<p>109 rows × 5 columns</p>\n</div>"
     },
     "execution_count": 4,
     "metadata": {},
     "output_type": "execute_result"
    }
   ],
   "source": [
    "df"
   ],
   "metadata": {
    "collapsed": false,
    "ExecuteTime": {
     "end_time": "2023-08-10T11:26:18.399167400Z",
     "start_time": "2023-08-10T11:26:18.378444500Z"
    }
   }
  },
  {
   "cell_type": "code",
   "execution_count": 3,
   "outputs": [],
   "source": [],
   "metadata": {
    "collapsed": false,
    "ExecuteTime": {
     "end_time": "2023-08-10T11:16:57.374968200Z",
     "start_time": "2023-08-10T11:16:57.334355800Z"
    }
   }
  }
 ],
 "metadata": {
  "kernelspec": {
   "display_name": "Python 3",
   "language": "python",
   "name": "python3"
  },
  "language_info": {
   "codemirror_mode": {
    "name": "ipython",
    "version": 2
   },
   "file_extension": ".py",
   "mimetype": "text/x-python",
   "name": "python",
   "nbconvert_exporter": "python",
   "pygments_lexer": "ipython2",
   "version": "2.7.6"
  }
 },
 "nbformat": 4,
 "nbformat_minor": 0
}
