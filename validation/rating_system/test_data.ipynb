{
 "cells": [
  {
   "cell_type": "code",
   "execution_count": 1,
   "metadata": {
    "collapsed": true,
    "ExecuteTime": {
     "end_time": "2023-07-18T09:36:43.211968600Z",
     "start_time": "2023-07-18T09:36:40.823840Z"
    }
   },
   "outputs": [
    {
     "name": "stderr",
     "output_type": "stream",
     "text": [
      "/tmp/pycharm_project_368/validation/rating_system/radiospectra/version.py:12: UserWarning: could not determine radiospectra package version; this indicates a broken installation\n",
      "  warnings.warn(\n"
     ]
    }
   ],
   "source": [
    "from daily_observations import *\n"
   ]
  },
  {
   "cell_type": "code",
   "execution_count": 2,
   "outputs": [
    {
     "data": {
      "text/plain": "   Station   Sunrise    Sunset               Obs_start             Obs_end  \\\n0  MRT3_02  02:04:33  13:44:21 2020-10-16 06:45:00.365 2020-10-16 18:14:57   \n1  MRT3_02  02:04:54  13:43:36 2020-10-17 02:00:00.568 2020-10-17 18:14:57   \n2  MRT3_02  02:05:15  13:42:51 2020-10-18 02:00:00.466 2020-10-18 13:58:57   \n\n   Duration   Avg-SNR   Avg-STD  \n0  11:29:56  1.232000  0.349100  \n1  16:14:56  1.231388  0.352612  \n2  11:58:56  1.229562  0.352375  ",
      "text/html": "<div>\n<style scoped>\n    .dataframe tbody tr th:only-of-type {\n        vertical-align: middle;\n    }\n\n    .dataframe tbody tr th {\n        vertical-align: top;\n    }\n\n    .dataframe thead th {\n        text-align: right;\n    }\n</style>\n<table border=\"1\" class=\"dataframe\">\n  <thead>\n    <tr style=\"text-align: right;\">\n      <th></th>\n      <th>Station</th>\n      <th>Sunrise</th>\n      <th>Sunset</th>\n      <th>Obs_start</th>\n      <th>Obs_end</th>\n      <th>Duration</th>\n      <th>Avg-SNR</th>\n      <th>Avg-STD</th>\n    </tr>\n  </thead>\n  <tbody>\n    <tr>\n      <th>0</th>\n      <td>MRT3_02</td>\n      <td>02:04:33</td>\n      <td>13:44:21</td>\n      <td>2020-10-16 06:45:00.365</td>\n      <td>2020-10-16 18:14:57</td>\n      <td>11:29:56</td>\n      <td>1.232000</td>\n      <td>0.349100</td>\n    </tr>\n    <tr>\n      <th>1</th>\n      <td>MRT3_02</td>\n      <td>02:04:54</td>\n      <td>13:43:36</td>\n      <td>2020-10-17 02:00:00.568</td>\n      <td>2020-10-17 18:14:57</td>\n      <td>16:14:56</td>\n      <td>1.231388</td>\n      <td>0.352612</td>\n    </tr>\n    <tr>\n      <th>2</th>\n      <td>MRT3_02</td>\n      <td>02:05:15</td>\n      <td>13:42:51</td>\n      <td>2020-10-18 02:00:00.466</td>\n      <td>2020-10-18 13:58:57</td>\n      <td>11:58:56</td>\n      <td>1.229562</td>\n      <td>0.352375</td>\n    </tr>\n  </tbody>\n</table>\n</div>"
     },
     "execution_count": 2,
     "metadata": {},
     "output_type": "execute_result"
    }
   ],
   "source": [
    "start_date = '2022-03-08 14:30:03'\n",
    "end_date = '2022-03-09 14:30:03'\n",
    "station_name = 'INDONESIA'\n",
    "\n",
    "daily_observation = DailyObservation(start_date, end_date, station_name)\n",
    "daily_observation.data"
   ],
   "metadata": {
    "collapsed": false,
    "ExecuteTime": {
     "end_time": "2023-07-18T09:50:16.387993Z",
     "start_time": "2023-07-18T09:36:48.829169100Z"
    }
   }
  },
  {
   "cell_type": "code",
   "execution_count": 3,
   "outputs": [
    {
     "data": {
      "text/plain": "   Station          Duration   Avg-SNR   Avg-STD\n0  MRT3_02  1 days, 15:43:48  1.230983  0.351362",
      "text/html": "<div>\n<style scoped>\n    .dataframe tbody tr th:only-of-type {\n        vertical-align: middle;\n    }\n\n    .dataframe tbody tr th {\n        vertical-align: top;\n    }\n\n    .dataframe thead th {\n        text-align: right;\n    }\n</style>\n<table border=\"1\" class=\"dataframe\">\n  <thead>\n    <tr style=\"text-align: right;\">\n      <th></th>\n      <th>Station</th>\n      <th>Duration</th>\n      <th>Avg-SNR</th>\n      <th>Avg-STD</th>\n    </tr>\n  </thead>\n  <tbody>\n    <tr>\n      <th>0</th>\n      <td>MRT3_02</td>\n      <td>1 days, 15:43:48</td>\n      <td>1.230983</td>\n      <td>0.351362</td>\n    </tr>\n  </tbody>\n</table>\n</div>"
     },
     "execution_count": 3,
     "metadata": {},
     "output_type": "execute_result"
    }
   ],
   "source": [
    "total_duration_data = daily_observation.calculate_total_duration()\n",
    "total_duration_data"
   ],
   "metadata": {
    "collapsed": false,
    "ExecuteTime": {
     "end_time": "2023-07-18T09:54:33.402469100Z",
     "start_time": "2023-07-18T09:54:33.357251200Z"
    }
   }
  },
  {
   "cell_type": "code",
   "execution_count": null,
   "outputs": [],
   "source": [],
   "metadata": {
    "collapsed": false
   }
  }
 ],
 "metadata": {
  "kernelspec": {
   "display_name": "Python 3",
   "language": "python",
   "name": "python3"
  },
  "language_info": {
   "codemirror_mode": {
    "name": "ipython",
    "version": 2
   },
   "file_extension": ".py",
   "mimetype": "text/x-python",
   "name": "python",
   "nbconvert_exporter": "python",
   "pygments_lexer": "ipython2",
   "version": "2.7.6"
  }
 },
 "nbformat": 4,
 "nbformat_minor": 0
}
