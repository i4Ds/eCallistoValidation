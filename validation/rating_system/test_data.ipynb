{
 "cells": [
  {
   "cell_type": "code",
   "execution_count": 1,
   "metadata": {
    "collapsed": true,
    "ExecuteTime": {
     "end_time": "2023-07-13T12:38:18.883045Z",
     "start_time": "2023-07-13T12:38:18.637257800Z"
    }
   },
   "outputs": [
    {
     "ename": "ModuleNotFoundError",
     "evalue": "No module named 'daily_observations'",
     "output_type": "error",
     "traceback": [
      "\u001B[0;31m---------------------------------------------------------------------------\u001B[0m",
      "\u001B[0;31mModuleNotFoundError\u001B[0m                       Traceback (most recent call last)",
      "Cell \u001B[0;32mIn[1], line 1\u001B[0m\n\u001B[0;32m----> 1\u001B[0m \u001B[38;5;28;01mfrom\u001B[39;00m \u001B[38;5;21;01mdaily_observations\u001B[39;00m \u001B[38;5;28;01mimport\u001B[39;00m \u001B[38;5;241m*\u001B[39m\n",
      "\u001B[0;31mModuleNotFoundError\u001B[0m: No module named 'daily_observations'"
     ]
    }
   ],
   "source": [
    "from daily_observations import *"
   ]
  },
  {
   "cell_type": "code",
   "execution_count": 4,
   "outputs": [
    {
     "data": {
      "text/plain": "        Station   Sunrise    Sunset               Obs_start  \\\n0  SWISS-HB9SCT  05:52:17  17:19:57 2022-03-08 14:30:00.583   \n1  SWISS-HB9SCT  05:50:20  17:21:24 2022-03-09 06:45:00.795   \n2  SWISS-HB9SCT  05:48:23  17:22:51 2022-03-10 06:45:00.631   \n\n              Obs_end  Duration   Avg-SNR   Avg-STD  \n0 2022-03-08 16:14:57  01:44:56  0.958143  0.890286  \n1 2022-03-09 16:14:57  09:29:56  0.930539  0.921645  \n2 2022-03-10 14:45:00  07:59:59  0.944125  0.927672  ",
      "text/html": "<div>\n<style scoped>\n    .dataframe tbody tr th:only-of-type {\n        vertical-align: middle;\n    }\n\n    .dataframe tbody tr th {\n        vertical-align: top;\n    }\n\n    .dataframe thead th {\n        text-align: right;\n    }\n</style>\n<table border=\"1\" class=\"dataframe\">\n  <thead>\n    <tr style=\"text-align: right;\">\n      <th></th>\n      <th>Station</th>\n      <th>Sunrise</th>\n      <th>Sunset</th>\n      <th>Obs_start</th>\n      <th>Obs_end</th>\n      <th>Duration</th>\n      <th>Avg-SNR</th>\n      <th>Avg-STD</th>\n    </tr>\n  </thead>\n  <tbody>\n    <tr>\n      <th>0</th>\n      <td>SWISS-HB9SCT</td>\n      <td>05:52:17</td>\n      <td>17:19:57</td>\n      <td>2022-03-08 14:30:00.583</td>\n      <td>2022-03-08 16:14:57</td>\n      <td>01:44:56</td>\n      <td>0.958143</td>\n      <td>0.890286</td>\n    </tr>\n    <tr>\n      <th>1</th>\n      <td>SWISS-HB9SCT</td>\n      <td>05:50:20</td>\n      <td>17:21:24</td>\n      <td>2022-03-09 06:45:00.795</td>\n      <td>2022-03-09 16:14:57</td>\n      <td>09:29:56</td>\n      <td>0.930539</td>\n      <td>0.921645</td>\n    </tr>\n    <tr>\n      <th>2</th>\n      <td>SWISS-HB9SCT</td>\n      <td>05:48:23</td>\n      <td>17:22:51</td>\n      <td>2022-03-10 06:45:00.631</td>\n      <td>2022-03-10 14:45:00</td>\n      <td>07:59:59</td>\n      <td>0.944125</td>\n      <td>0.927672</td>\n    </tr>\n  </tbody>\n</table>\n</div>"
     },
     "execution_count": 4,
     "metadata": {},
     "output_type": "execute_result"
    }
   ],
   "source": [
    "start_date = '2022-03-08 14:30:03'\n",
    "end_date = '2022-03-10 14:30:03'\n",
    "station_name = 'SWISS-HB9SCT'\n",
    "\n",
    "daily_observation = DailyObservation(start_date, end_date, station_name)\n",
    "daily_observation.data"
   ],
   "metadata": {
    "collapsed": false,
    "ExecuteTime": {
     "end_time": "2023-06-09T09:06:23.531570500Z",
     "start_time": "2023-06-09T08:56:01.795018300Z"
    }
   }
  },
  {
   "cell_type": "code",
   "execution_count": 5,
   "outputs": [
    {
     "data": {
      "text/plain": "        Station  Duration   Avg-SNR   Avg-STD  snr_rating  std_rating\n0  SWISS-HB9SCT  19:14:51  0.944269  0.913201         5.0         5.0",
      "text/html": "<div>\n<style scoped>\n    .dataframe tbody tr th:only-of-type {\n        vertical-align: middle;\n    }\n\n    .dataframe tbody tr th {\n        vertical-align: top;\n    }\n\n    .dataframe thead th {\n        text-align: right;\n    }\n</style>\n<table border=\"1\" class=\"dataframe\">\n  <thead>\n    <tr style=\"text-align: right;\">\n      <th></th>\n      <th>Station</th>\n      <th>Duration</th>\n      <th>Avg-SNR</th>\n      <th>Avg-STD</th>\n      <th>snr_rating</th>\n      <th>std_rating</th>\n    </tr>\n  </thead>\n  <tbody>\n    <tr>\n      <th>0</th>\n      <td>SWISS-HB9SCT</td>\n      <td>19:14:51</td>\n      <td>0.944269</td>\n      <td>0.913201</td>\n      <td>5.0</td>\n      <td>5.0</td>\n    </tr>\n  </tbody>\n</table>\n</div>"
     },
     "execution_count": 5,
     "metadata": {},
     "output_type": "execute_result"
    }
   ],
   "source": [
    "total_duration_data = daily_observation.calculate_total_duration()\n",
    "total_duration_data"
   ],
   "metadata": {
    "collapsed": false,
    "ExecuteTime": {
     "end_time": "2023-06-09T09:06:30.756039Z",
     "start_time": "2023-06-09T09:06:30.740129300Z"
    }
   }
  },
  {
   "cell_type": "code",
   "execution_count": null,
   "outputs": [],
   "source": [],
   "metadata": {
    "collapsed": false
   }
  }
 ],
 "metadata": {
  "kernelspec": {
   "display_name": "Python 3",
   "language": "python",
   "name": "python3"
  },
  "language_info": {
   "codemirror_mode": {
    "name": "ipython",
    "version": 2
   },
   "file_extension": ".py",
   "mimetype": "text/x-python",
   "name": "python",
   "nbconvert_exporter": "python",
   "pygments_lexer": "ipython2",
   "version": "2.7.6"
  }
 },
 "nbformat": 4,
 "nbformat_minor": 0
}
