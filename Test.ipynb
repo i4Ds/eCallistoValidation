{
 "cells": [
  {
   "cell_type": "code",
   "execution_count": null,
   "metadata": {},
   "outputs": [],
   "source": [
    "import os\n",
    "import io\n",
    "import glob\n",
    "import sys\n",
    "import astropy.io.fits\n",
    "import matplotlib\n",
    "import numpy as np\n",
    "import time\n",
    "import timeit\n",
    "\n",
    "import psycopg2\n",
    "\n",
    "import pandas as pd\n",
    "import pandas.io.sql as psql\n",
    "from sqlalchemy import create_engine\n",
    "import matplotlib.pyplot as plt\n",
    "\n",
    "from eCallistoProject import plot_config\n",
    "\n",
    "module_path = os.path.abspath(os.path.join('radiospectra'))\n",
    "if module_path not in sys.path:\n",
    "    sys.path.append(module_path)  \n",
    "import radiospectra\n",
    "from radiospectra.sources import CallistoSpectrogram\n",
    "\n",
    "from matplotlib.backends.backend_pdf import PdfPages, FigureCanvasPdf, PdfFile\n",
    "import config as test_config\n",
    "\n",
    "import warnings\n",
    "warnings.filterwarnings(\"ignore\")"
   ]
  },
  {
   "cell_type": "code",
   "execution_count": null,
   "metadata": {},
   "outputs": [],
   "source": [
    "connection = psycopg2.connect(host= test_config.DB_HOST,\n",
    "                              database= test_config.DB_DATABASE,\n",
    "                              user= test_config.DB_USER,\n",
    "                              port= test_config.DB_PORT, \n",
    "                              password=test_config.DB_PASSWORD)\n",
    "\n",
    "cursor = connection.cursor()"
   ]
  },
  {
   "cell_type": "code",
   "execution_count": null,
   "metadata": {},
   "outputs": [],
   "source": [
    "cursor.execute(\"\"\"SELECT * from data WHERE std is null ORDER BY id\"\"\")"
   ]
  },
  {
   "cell_type": "code",
   "execution_count": null,
   "metadata": {},
   "outputs": [],
   "source": [
    "for i in cursor:\n",
    "    print(i)"
   ]
  },
  {
   "cell_type": "code",
   "execution_count": null,
   "metadata": {},
   "outputs": [],
   "source": [
    "import os\n",
    "\n",
    "path = 'R:\\\\radio\\\\2002-20yy_Callisto\\\\2017\\\\09\\\\06'\n"
   ]
  },
  {
   "cell_type": "code",
   "execution_count": null,
   "metadata": {},
   "outputs": [],
   "source": [
    "out = os.path.basename(path)\n",
    "print(out)"
   ]
  },
  {
   "cell_type": "code",
   "execution_count": null,
   "metadata": {},
   "outputs": [],
   "source": [
    "out = os.path.dirname(path)\n",
    "print(out)"
   ]
  },
  {
   "cell_type": "code",
   "execution_count": null,
   "metadata": {},
   "outputs": [],
   "source": [
    "out = os.path.isabs(path)\n",
    "print(out)"
   ]
  },
  {
   "cell_type": "code",
   "execution_count": null,
   "metadata": {},
   "outputs": [],
   "source": [
    "out = os.path.isdir(path)\n",
    "print(out)"
   ]
  },
  {
   "cell_type": "code",
   "execution_count": null,
   "metadata": {},
   "outputs": [],
   "source": [
    "out = os.path.isfile(path)\n",
    "print(out)"
   ]
  },
  {
   "cell_type": "code",
   "execution_count": null,
   "metadata": {},
   "outputs": [],
   "source": [
    "out = os.path.normcase(\"/BAz\")\n",
    "print(out)"
   ]
  },
  {
   "cell_type": "code",
   "execution_count": null,
   "metadata": {},
   "outputs": [],
   "source": [
    "out = os.path.normpath(path)\n",
    "print(out)"
   ]
  },
  {
   "cell_type": "code",
   "execution_count": null,
   "metadata": {},
   "outputs": [],
   "source": [
    "import sys\n",
    "print(sys.path)"
   ]
  },
  {
   "cell_type": "code",
   "execution_count": null,
   "metadata": {},
   "outputs": [],
   "source": [
    "sys.platform"
   ]
  },
  {
   "cell_type": "code",
   "execution_count": null,
   "metadata": {},
   "outputs": [],
   "source": [
    "print(sys.stdin)"
   ]
  },
  {
   "cell_type": "code",
   "execution_count": null,
   "metadata": {},
   "outputs": [],
   "source": [
    "print(sys.stdout)"
   ]
  },
  {
   "cell_type": "code",
   "execution_count": null,
   "metadata": {},
   "outputs": [],
   "source": [
    "print(sys.stderr)"
   ]
  },
  {
   "cell_type": "code",
   "execution_count": null,
   "metadata": {},
   "outputs": [],
   "source": [
    "os.getcwd()"
   ]
  },
  {
   "cell_type": "code",
   "execution_count": null,
   "metadata": {},
   "outputs": [],
   "source": [
    "def move_axes(fig, ax_source, ax_target):\n",
    "    old_fig = ax_source.figure\n",
    "    ax_source.remove()\n",
    "    ax_source.figure = fig\n",
    "    ax_source.set_ylabel('')\n",
    "    ax_source.set_xlabel('')\n",
    "        \n",
    "    ax_source.set_position(ax_target.get_position())\n",
    "    ax_target.remove()\n",
    "    ax_target.set_aspect(\"equal\")\n",
    "    fig.axes.append(ax_source)\n",
    "    fig.add_subplot(ax_source)\n",
    "    \n",
    "    plt.close(old_fig)\n",
    "\n",
    "# Connection between Jupyter notebook and Postgres\n",
    "connection = psycopg2.connect(host= test_config.DB_HOST,\n",
    "                              database= test_config.DB_DATABASE,\n",
    "                              user= test_config.DB_USER,\n",
    "                              port= test_config.DB_PORT, \n",
    "                              password=test_config.DB_PASSWORD)\n",
    "\n",
    "cursor = connection.cursor()\n",
    "\n",
    "# Choosing 10 images for each Station\n",
    "cursor.execute(\"\"\"select * from (\n",
    "                                 select ROW_NUMBER() OVER (partition by path order by id)\n",
    "                                 as row_num, data.* FROM data\n",
    "                                 ) t\n",
    "                                 where row_num <=10\n",
    "                                 order by id\"\"\")\n",
    "\n",
    "\n",
    "my_colormap = matplotlib.colors.LinearSegmentedColormap.from_list(\"myColorMap\", plot_config.COLORMAP / 255)\n",
    "\n",
    "count = 0\n",
    "\n",
    "# with PdfPages('Bg_Sub_Images.pdf') as pdf:\n",
    "\n",
    "for file in cursor.fetchall():\n",
    "    if count < 5 :\n",
    "\n",
    "        spec = CallistoSpectrogram.read(test_config.DATA_PATH + file[2])\n",
    "        fig1, axs1 = plt.subplots(1, 4, figsize=(20, 5))\n",
    "        ax1 = spec.plot()\n",
    "        ax1.title.set_text(\"Original Data\")\n",
    "        plt.close()\n",
    "\n",
    "        # Second column, Constbacksub + elimwrongchannels\n",
    "        spec2 = spec.subtract_bg(\"constbacksub\", \"elimwrongchannels\")\n",
    "        fig2 = plt.subplots(1, 4, figsize=(20, 5))\n",
    "        ax2 = spec2.plot(vmin=-5, vmax=5)\n",
    "        ax2.title.set_text(\"Background subtracted\")\n",
    "        plt.close()\n",
    "\n",
    "        # Third column, subtract_bg_sliding_window\n",
    "        spec3 = spec.subtract_bg(\"subtract_bg_sliding_window\", window_width=800, affected_width=1,\n",
    "                                 amount=0.05, change_points=True)\n",
    "        fig3 = plt.figure(figsize=(20, 5))\n",
    "        ax3 = spec3.plot(vmin=-5, vmax=5)\n",
    "        ax3.title.set_text(\"Gliding background subtracted (window=800)\")\n",
    "        plt.close()\n",
    "        \n",
    "#         std = spec2.data.std()\n",
    "#         mean = spec2.data.mean()\n",
    "\n",
    "        # Fourth column, Histograms\n",
    "        data_hist3 = np.absolute(spec2.data.flatten())\n",
    "        std = data_hist3.std()\n",
    "        mean = data_hist3.mean()\n",
    "        ax4.hist(data_hist3, histtype='step', range= (0, 10),bins=20, label='Background subtracted')\n",
    "        xmin, xmax = plt.xlim()\n",
    "        x = np.linspace(xmin, xmax, 100)\n",
    "        p = norm.pdf(x, mean, std)\n",
    "        plt.plot(x, p, 'k', linewidth=2)\n",
    "        \n",
    "        \n",
    "#         ax4.hist(data_hist4, histtype='step', range= (0, 10),bins=20, label='Gliding background subtracted')\n",
    "        \n",
    "#         ax4.title.set_text(\"Histograms\")\n",
    "        plt.legend()\n",
    "        plt.close()\n",
    "\n",
    "        # Plot final plot by moving axes to the figure\n",
    "        fig_target, (axA, axB, axC, axD) = plt.subplots(1, 4, figsize=(30,7))\n",
    "        plt.suptitle(fig1._suptitle.get_text())\n",
    "\n",
    "        move_axes(fig_target, ax1, axA)\n",
    "        move_axes(fig_target, ax2, axB)\n",
    "        move_axes(fig_target, ax3, axC)\n",
    "        move_axes(fig_target, ax4, axD)\n",
    "\n",
    "        ax1.set_xlabel('Time[UT]')\n",
    "        ax1.set_ylabel('Frequency[MHz]')\n",
    "\n",
    "        ax2.set_xlabel('Time[UT]')\n",
    "        ax2.set_ylabel('Frequency[MHz]')\n",
    "\n",
    "        ax3.set_xlabel('Time[UT]')\n",
    "        ax3.set_ylabel('Frequency[MHz]')\n",
    "\n",
    "        ax4.set_xlabel('Pixel value')\n",
    "        ax4.set_ylabel('Number of pixels')\n",
    "\n",
    "        plt.show()\n",
    "\n",
    "#         count += 1\n",
    "#         pdf.savefig(fig_target)\n",
    "        plt.close()\n",
    "\n",
    "\n",
    "print(\"Finished plotting!\")\n"
   ]
  },
  {
   "cell_type": "code",
   "execution_count": null,
   "metadata": {},
   "outputs": [],
   "source": [
    "import numpy as np\n",
    "from scipy.stats import norm\n",
    "import matplotlib.pyplot as plt\n",
    "\n",
    "# Generate some data for this\n",
    "# demonstration.\n",
    "data = np.random.normal(170, 10, 250)\n",
    "\n",
    "# Fit a normal distribution to\n",
    "# the data:\n",
    "# mean and standard deviation\n",
    "mu, std = norm.fit(data)\n",
    "\n",
    "# Plot the histogram.\n",
    "plt.hist(data, bins=25, density=True, alpha=0.6, color='b')\n",
    "\n",
    "# Plot the PDF.\n",
    "xmin, xmax = plt.xlim()\n",
    "print(xmin)\n",
    "x = np.linspace(xmin, xmax, 100)\n",
    "p = norm.pdf(x, mu, std)\n",
    "\n",
    "plt.plot(x, p, 'k', linewidth=2)\n",
    "title = \"Fit Values: {:.2f} and {:.2f}\".format(mu, std)\n",
    "plt.title(title)\n",
    "\n",
    "plt.show()\n"
   ]
  },
  {
   "cell_type": "code",
   "execution_count": null,
   "metadata": {},
   "outputs": [],
   "source": [
    "import random\n",
    "import matplotlib.pyplot as plt\n",
    "x = random.sample(range(1000), 100)\n",
    "xbins = [0, len(x)]\n",
    "plt.hist(x, bins=xbins, color = 'blue') \n",
    "#Does not make the histogram correct. It counts the occurances of the individual counts. \n",
    "\n",
    "plt.plot(x)\n",
    "#plot works but I need this in histogram format\n"
   ]
  },
  {
   "cell_type": "code",
   "execution_count": null,
   "metadata": {},
   "outputs": [],
   "source": [
    "from matplotlib import pyplot as plt \n",
    "import numpy as np  \n",
    "   \n",
    "a = np.array([22,87,5,43,56,73,55,54,11,20,51,5,79,31,27]) \n",
    "plt.hist(a, bins = 'auto') \n",
    "plt.title(\"histogram\") \n",
    "plt.show()"
   ]
  },
  {
   "cell_type": "code",
   "execution_count": 1,
   "metadata": {},
   "outputs": [
    {
     "name": "stderr",
     "output_type": "stream",
     "text": [
      "C:\\Users\\delbe\\OneDrive\\Desktop\\eCallistoValidation\\radiospectra\\radiospectra\\version.py:12: UserWarning: could not determine radiospectra package version; this indicates a broken installation\n",
      "  warnings.warn(\n"
     ]
    }
   ],
   "source": [
    "import os\n",
    "import io\n",
    "import glob\n",
    "import sys\n",
    "import astropy.io.fits\n",
    "import matplotlib\n",
    "import numpy as np\n",
    "import time\n",
    "import timeit\n",
    "import skimage.transform\n",
    "\n",
    "import psycopg2\n",
    "from PIL import Image, ImageDraw, ImageFont\n",
    "import pandas as pd\n",
    "import pandas.io.sql as psql\n",
    "from sqlalchemy import create_engine\n",
    "import matplotlib.pyplot as plt\n",
    "import re \n",
    "from eCallistoProject import plot_config\n",
    "\n",
    "module_path = os.path.abspath(os.path.join('radiospectra'))\n",
    "if module_path not in sys.path:\n",
    "    sys.path.append(module_path)\n",
    "    \n",
    "import radiospectra\n",
    "\n",
    "from radiospectra.sources import CallistoSpectrogram\n",
    "\n",
    "from matplotlib.backends.backend_pdf import PdfPages, FigureCanvasPdf, PdfFile\n",
    "import datetime\n",
    "import warnings\n",
    "warnings.filterwarnings(\"ignore\")\n",
    "\n",
    "# print(\"Hello\")\n",
    "\n",
    "                \n",
    "\n"
   ]
  },
  {
   "cell_type": "code",
   "execution_count": 10,
   "metadata": {},
   "outputs": [],
   "source": [
    "def __to_timestamp(date_string, time_string):\n",
    "\n",
    "    sixty_seconds = int(time_string[6:8]) == 60\n",
    "    sixty_minutes = int(time_string[3:5]) == 60\n",
    "    twentyfour_hours = int(time_string[:2]) == 24\n",
    "\n",
    "    # replacing  24 to 00\n",
    "    if sixty_seconds:\n",
    "        time_string = time_string[:6] + '59' + time_string[8:]\n",
    "    if sixty_minutes:\n",
    "        time_string = time_string[:3] + '59' + time_string[5:]\n",
    "    if twentyfour_hours:\n",
    "        time_string = '23' + time_string[2:]\n",
    "    if re.findall(\"\\.\\d+\", time_string):\n",
    "        time_string = time_string[:-4]\n",
    "\n",
    "    # lost time\n",
    "    ts = datetime.datetime.strptime(\n",
    "        '%s %s' % (date_string, time_string), '%Y/%m/%d %H:%M:%S')\n",
    "    ts += datetime.timedelta(hours=int(twentyfour_hours),\n",
    "                             minutes=int(sixty_minutes),\n",
    "                             seconds=int(sixty_seconds))\n",
    "\n",
    "    return ts"
   ]
  },
  {
   "cell_type": "code",
   "execution_count": 12,
   "metadata": {},
   "outputs": [
    {
     "name": "stdout",
     "output_type": "stream",
     "text": [
      "Hello\n",
      "/data/radio/2002-20yy_Callisto/2017/09\n"
     ]
    }
   ],
   "source": [
    "print(\"Hello\")\n",
    "path = '/data/radio/2002-20yy_Callisto/2017/09'\n",
    "print(path)\n",
    "engine = create_engine(\"postgresql+psycopg2://\" + 'postgres' + \":\" + 'ecallistohackorange' + \"@\" + 'localhost' + \"/\" + 'validation')\n",
    "# print(engine)\n",
    "df = 0\n",
    "\n",
    "for root, dirs, files in os.walk(path):\n",
    "    print(\"path\")\n",
    "    for name in files:\n",
    "        if name.endswith('.fit.gz'):\n",
    "            full_path = os.path.join(root, name)\n",
    "           # print(\"full_path\")\n",
    "            \n",
    "            hdulist = astropy.io.fits.open(full_path)\n",
    "            split_path = full_path.split(\"Callisto\")\n",
    "            print(\"split_path\")\n",
    "\n",
    "\n",
    "            instrument_name = hdulist[0].header['INSTRUME'] \n",
    "            date_obs = hdulist[0].header['DATE-OBS'] \n",
    "            time_obs = hdulist[0].header['TIME-OBS']\n",
    "            date_end = hdulist[0].header['DATE-END'] \n",
    "            time_end = hdulist[0].header['TIME-END'] \n",
    "            \n",
    "            # combine date and time obs, date and time end\n",
    "            start_time = __to_timestamp(date_obs, time_obs)\n",
    "            end_time = __to_timestamp(date_end, time_end)\n",
    "            \n",
    "            # creating dataframe in pandas\n",
    "            \n",
    "            data = {\n",
    "                'path': [split_path[1]],\n",
    "                'file_name': [name],\n",
    "                'instrument_name': [instrument_name],\n",
    "                'start_time': [start_time],\n",
    "                'end_time': [end_time],\n",
    "                'std': [None]\n",
    "                  }\n",
    "             \n",
    "            data_frame = pd.DataFrame(data, index=[df])\n",
    "            \n",
    "            # connection between pandas and sql \n",
    "            data_frame.to_sql('validation_data', con=engine, if_exists='append', chunksize=10000000, index=False)\n",
    "                       \n",
    "            df = df + 1\n",
    "                "
   ]
  },
  {
   "cell_type": "code",
   "execution_count": null,
   "metadata": {},
   "outputs": [],
   "source": []
  },
  {
   "cell_type": "code",
   "execution_count": null,
   "metadata": {},
   "outputs": [],
   "source": []
  }
 ],
 "metadata": {
  "kernelspec": {
   "display_name": "Python 3",
   "language": "python",
   "name": "python3"
  },
  "language_info": {
   "codemirror_mode": {
    "name": "ipython",
    "version": 3
   },
   "file_extension": ".py",
   "mimetype": "text/x-python",
   "name": "python",
   "nbconvert_exporter": "python",
   "pygments_lexer": "ipython3",
   "version": "3.8.3"
  }
 },
 "nbformat": 4,
 "nbformat_minor": 4
}
