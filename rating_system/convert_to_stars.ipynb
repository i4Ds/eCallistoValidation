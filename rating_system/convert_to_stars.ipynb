{
 "cells": [
  {
   "cell_type": "code",
   "execution_count": null,
   "metadata": {
    "pycharm": {
     "is_executing": true
    }
   },
   "outputs": [],
   "source": [
    "def _to_stars(percentage: int, ranges=None, decimal=False):\n",
    "    if ranges is None:\n",
    "        ranges = [(0, 4), (5, 20), (20, 40), (40, 60), (60, 80), (80, 101)]\n",
    "    for index, ran in enumerate(ranges):\n",
    "        if ran[0] <= percentage < ran[1]:\n",
    "            if decimal and percentage >= sum(ran)//2:\n",
    "                return min(index + 0.5, len(ranges) - 1)\n",
    "            return index\n",
    "    return -1\n",
    "\n",
    "\n",
    "print(_to_stars(80.5, decimal=True))\n",
    "print(_to_stars(50))"
   ]
  },
  {
   "cell_type": "code",
   "execution_count": 1,
   "metadata": {},
   "outputs": [],
   "source": [
    "import pandas as pd\n",
    "import numpy as np\n",
    "\n",
    "df = pd.read_excel('final_rate.xlsx', sheet_name='test')\n",
    "\n",
    "# df = df.dropna()\n",
    "\n",
    "score_snr = df[\"snr_avg\"]\n",
    "\n",
    "ranking_snr = [1.0, 2.0,  3.0,  4.0, 5.0]\n",
    "list_of_snr = []\n",
    "percent_snr = np.percentile(score_snr, [0, 25, 50, 75, 100])\n",
    "\n",
    "ratings = np.interp(score_snr, percent_snr, ranking_snr)\n",
    "for rate in ratings:\n",
    "    list_of_snr.append(int(rate)*\"*\")\n",
    "    \n",
    "df[\"snr_rating\"] = list_of_snr\n",
    "\n",
    "\n",
    "scores_std = df[\"std_avg\"]\n",
    "ranking_std = [1.0, 2.0,  3.0,  4.0, 5.0]\n",
    "list_of_std = []\n",
    "percent_std = np.percentile(scores_std, [0, 25, 50, 75, 100])\n",
    "\n",
    "ratings_std = np.interp(scores_std, percent_std, ranking_std)\n",
    "for rate in ratings_std:\n",
    "    list_of_std.append(int(rate)*\"*\")\n",
    "    \n",
    "df[\"std_rating\"] = list_of_std\n",
    "\n",
    "\n",
    "scores_duration = df[\"hours_amount\"]\n",
    "ranking_duration = [1.0, 2.0,  3.0,  4.0, 5.0]\n",
    "list_of_duration = []\n",
    "percent_duration = np.percentile(scores_duration, [0, 25, 50, 75, 100])\n",
    "\n",
    "ratings_duration = np.interp(scores_duration, percent_duration, ranking_duration)\n",
    "for rate in ratings_duration:\n",
    "    list_of_duration.append(int(rate)*\"*\")\n",
    "    \n",
    "df[\"duration_rating\"] = list_of_duration\n"
   ]
  },
  {
   "cell_type": "code",
   "execution_count": 3,
   "metadata": {},
   "outputs": [
    {
     "name": "stdout",
     "output_type": "stream",
     "text": [
      "         6 function calls in 0.000 seconds\n",
      "\n",
      "   Ordered by: standard name\n",
      "\n",
      "   ncalls  tottime  percall  cumtime  percall filename:lineno(function)\n",
      "        1    0.000    0.000    0.000    0.000 <string>:1(<module>)\n",
      "        1    0.000    0.000    0.000    0.000 re.py:250(compile)\n",
      "        1    0.000    0.000    0.000    0.000 re.py:289(_compile)\n",
      "        1    0.000    0.000    0.000    0.000 {built-in method builtins.exec}\n",
      "        1    0.000    0.000    0.000    0.000 {built-in method builtins.isinstance}\n",
      "        1    0.000    0.000    0.000    0.000 {method 'disable' of '_lsprof.Profiler' objects}\n",
      "\n",
      "\n"
     ]
    }
   ],
   "source": [
    "def rating(name):\n",
    "    for index, row in df.iterrows():\n",
    "        if name.upper() == row[0]:\n",
    "            return f\"The station {name.upper()} got {row[5]}\"\n",
    "\n",
    "  \n",
    "        \n",
    "\n",
    "import cProfile\n",
    "import re\n",
    "cProfile.run('re.compile(\"rating(name)\")')   \n",
    "\n",
    "#rating(\"BIR\")"
   ]
  },
  {
   "cell_type": "code",
   "execution_count": 39,
   "metadata": {},
   "outputs": [],
   "source": []
  },
  {
   "cell_type": "code",
   "execution_count": 4,
   "metadata": {},
   "outputs": [
    {
     "name": "stdout",
     "output_type": "stream",
     "text": [
      "         310 function calls (303 primitive calls) in 0.000 seconds\n",
      "\n",
      "   Ordered by: standard name\n",
      "\n",
      "   ncalls  tottime  percall  cumtime  percall filename:lineno(function)\n",
      "        1    0.000    0.000    0.000    0.000 <string>:1(<module>)\n",
      "        2    0.000    0.000    0.000    0.000 enum.py:358(__call__)\n",
      "        2    0.000    0.000    0.000    0.000 enum.py:670(__new__)\n",
      "        1    0.000    0.000    0.000    0.000 enum.py:977(__and__)\n",
      "        1    0.000    0.000    0.000    0.000 re.py:250(compile)\n",
      "        1    0.000    0.000    0.000    0.000 re.py:289(_compile)\n",
      "        1    0.000    0.000    0.000    0.000 sre_compile.py:456(_generate_overlap_table)\n",
      "        2    0.000    0.000    0.000    0.000 sre_compile.py:477(_get_iscased)\n",
      "      2/1    0.000    0.000    0.000    0.000 sre_compile.py:485(_get_literal_prefix)\n",
      "        1    0.000    0.000    0.000    0.000 sre_compile.py:560(_compile_info)\n",
      "        2    0.000    0.000    0.000    0.000 sre_compile.py:619(isstring)\n",
      "        1    0.000    0.000    0.000    0.000 sre_compile.py:622(_code)\n",
      "        1    0.000    0.000    0.000    0.000 sre_compile.py:783(compile)\n",
      "        2    0.000    0.000    0.000    0.000 sre_compile.py:81(_combine_flags)\n",
      "      2/1    0.000    0.000    0.000    0.000 sre_compile.py:87(_compile)\n",
      "        2    0.000    0.000    0.000    0.000 sre_parse.py:112(__init__)\n",
      "        2    0.000    0.000    0.000    0.000 sre_parse.py:161(__len__)\n",
      "       24    0.000    0.000    0.000    0.000 sre_parse.py:165(__getitem__)\n",
      "       20    0.000    0.000    0.000    0.000 sre_parse.py:173(append)\n",
      "      3/2    0.000    0.000    0.000    0.000 sre_parse.py:175(getwidth)\n",
      "        1    0.000    0.000    0.000    0.000 sre_parse.py:225(__init__)\n",
      "       22    0.000    0.000    0.000    0.000 sre_parse.py:234(__next)\n",
      "        4    0.000    0.000    0.000    0.000 sre_parse.py:250(match)\n",
      "       20    0.000    0.000    0.000    0.000 sre_parse.py:255(get)\n",
      "        3    0.000    0.000    0.000    0.000 sre_parse.py:287(tell)\n",
      "      2/1    0.000    0.000    0.000    0.000 sre_parse.py:436(_parse_sub)\n",
      "      2/1    0.000    0.000    0.000    0.000 sre_parse.py:494(_parse)\n",
      "        1    0.000    0.000    0.000    0.000 sre_parse.py:76(__init__)\n",
      "        4    0.000    0.000    0.000    0.000 sre_parse.py:82(groups)\n",
      "        1    0.000    0.000    0.000    0.000 sre_parse.py:85(opengroup)\n",
      "        1    0.000    0.000    0.000    0.000 sre_parse.py:928(fix_flags)\n",
      "        1    0.000    0.000    0.000    0.000 sre_parse.py:944(parse)\n",
      "        1    0.000    0.000    0.000    0.000 sre_parse.py:97(closegroup)\n",
      "        1    0.000    0.000    0.000    0.000 {built-in method _sre.compile}\n",
      "        1    0.000    0.000    0.000    0.000 {built-in method builtins.exec}\n",
      "       31    0.000    0.000    0.000    0.000 {built-in method builtins.isinstance}\n",
      "    20/18    0.000    0.000    0.000    0.000 {built-in method builtins.len}\n",
      "        5    0.000    0.000    0.000    0.000 {built-in method builtins.min}\n",
      "       19    0.000    0.000    0.000    0.000 {built-in method builtins.ord}\n",
      "       92    0.000    0.000    0.000    0.000 {method 'append' of 'list' objects}\n",
      "        1    0.000    0.000    0.000    0.000 {method 'disable' of '_lsprof.Profiler' objects}\n",
      "        3    0.000    0.000    0.000    0.000 {method 'extend' of 'list' objects}\n",
      "        1    0.000    0.000    0.000    0.000 {method 'items' of 'dict' objects}\n",
      "\n",
      "\n"
     ]
    }
   ],
   "source": [
    "snr=df[\"snr_avg\"]\n",
    "\n",
    "def convert_to_stars(score):\n",
    "    ranking = [1.0, 2.0, 3.0, 4.0, 5.0]\n",
    "    list_of_stars = []\n",
    "    \n",
    "    # Compute the percentile of the data\n",
    "    percent = np.percentile( score, [0, 25, 50, 75, 100] )\n",
    "\n",
    "    rating = np.interp( score, percent, ranking )\n",
    "\n",
    "    return rating\n",
    "\n",
    "#convert_to_stars(snr)\n",
    "import cProfile\n",
    "import re\n",
    "cProfile.run('re.compile(\"convert_to_stars(snr)\")')  "
   ]
  },
  {
   "cell_type": "code",
   "execution_count": 6,
   "metadata": {},
   "outputs": [],
   "source": [
    "# import pandas as pd\n",
    "# import numpy as np\n",
    "\n",
    "# df = pd.read_excel('rating.xlsx', sheet_name='rating')\n",
    "\n",
    "# data =np.array_split(df.dropna(axis=0), 5) \n",
    "# # while True:\n",
    "# station_name  =input( \"Enter the station name: \" ).upper()\n",
    "# # print(\"TRIEST\" in data[0][\"station_name\"].unique())\n",
    "# if station_name in data[0][\"station_name\"].unique():\n",
    "#     print( f\"The station {station_name} got {5* '*' }\" )\n",
    "\n",
    "\n",
    "# if station_name in data[1][\"station_name\"].unique():\n",
    "#     print(f\"The station {station_name} got {4* '*' }\" )\n",
    "\n",
    "\n",
    "# if station_name in data[2][\"station_name\"].unique():\n",
    "#     print( f\"The station {station_name} got {3* '*' }\" )\n",
    "\n",
    "# if station_name in data[3][\"station_name\"].unique():\n",
    "#     print(f\"The station {station_name} got {2* '*' }\" )\n",
    "\n",
    "\n",
    "# if station_name in data[4][\"station_name\"].unique():\n",
    "#     print( f\"The station {\n",
    "# # scores = df[\"snr_avg\"]\n",
    "# # ranking = [1.0, 2.0,  3.0,  4.0, 5.0]\n",
    "# # list_of_stars = []\n",
    "# # percent = np.percentile(scores, [0, 25, 50, 75, 100])\n",
    "\n",
    "# # ratings = np.interp(scores, percent, ranking)\n",
    "# # for rate in ratings:\n",
    "# #     list_of_stars.append(int(rate)*\"*\")\n",
    "# # # for rate in ratings:print(int(rate)*\"*\")\n",
    "# # # for rate in ratings:print(f\" {rate} : \", int(rate)*\"*\")"
   ]
  },
  {
   "cell_type": "code",
   "execution_count": 7,
   "metadata": {},
   "outputs": [],
   "source": [
    "# df[\"snr_rating\"] = list_of_stars"
   ]
  },
  {
   "cell_type": "code",
   "execution_count": 8,
   "metadata": {},
   "outputs": [],
   "source": [
    "# scores_std = df[\"std_avg\"]\n",
    "# ranking_std = [1.0, 2.0,  3.0,  4.0, 5.0]\n",
    "# list_of_stars_std = []\n",
    "# percent_std = np.percentile(scores_std, [0, 25, 50, 75, 100])\n",
    "\n",
    "# ratings_std = np.interp(scores_std, percent_std, ranking_std)\n",
    "# for rate in ratings_std:\n",
    "#     list_of_stars_std.append(int(rate)*\"*\")"
   ]
  },
  {
   "cell_type": "code",
   "execution_count": 9,
   "metadata": {},
   "outputs": [],
   "source": [
    "# scores_duration = df[\"hours_amount\"]\n",
    "# ranking_duration = [1.0, 2.0,  3.0,  4.0, 5.0]\n",
    "# list_of_stars_duration = []\n",
    "# percent_duration = np.percentile(scores_duration, [0, 25, 50, 75, 100])\n",
    "\n",
    "# ratings_duration = np.interp(scores_duration, percent_duration, ranking_duration)\n",
    "# for rate in ratings_duration:\n",
    "#     list_of_stars_duration.append(int(rate)*\"*\")"
   ]
  },
  {
   "cell_type": "code",
   "execution_count": 10,
   "metadata": {},
   "outputs": [],
   "source": [
    "# data.to_excel(\"final_rate.xlsx\", index = False)"
   ]
  },
  {
   "cell_type": "code",
   "execution_count": 11,
   "metadata": {},
   "outputs": [],
   "source": [
    "# import pandas as pd\n",
    "# import numpy as np\n",
    "\n",
    "# df = pd.read_excel('final_rate.xlsx', sheet_name='test')\n",
    "# scores_snr = df[\"snr_avg\"]\n",
    "# scores_std = df[\"std_avg\"]\n",
    "# scores_duration = df[\"hours_amount\"]\n",
    "\n",
    "\n",
    "# def convert_to_stars(scores):\n",
    "#     ranking = [1.0, 2.0,  3.0,  4.0, 5.0]\n",
    "#     list_of_stars = []\n",
    "#     percent = np.percentile(scores, [0, 25, 50, 75, 100])\n",
    "\n",
    "#     ratings = np.interp(scores, percent, ranking)\n",
    "#     for rate in ratings:\n",
    "#         list_of_stars.append(int(rate)*\"*\")\n",
    "        \n",
    "#     return list_of_stars\n",
    "\n",
    "# # df[\"snr_rating\"] = convert_to_stars(scores_snr)"
   ]
  },
  {
   "cell_type": "code",
   "execution_count": 12,
   "metadata": {},
   "outputs": [],
   "source": [
    "# df[\"std_rating\"] = convert_to_stars(scores_std)"
   ]
  },
  {
   "cell_type": "code",
   "execution_count": 13,
   "metadata": {},
   "outputs": [],
   "source": [
    "# df[\"duration_rating\"] = convert_to_stars(scores_duration)"
   ]
  },
  {
   "cell_type": "code",
   "execution_count": null,
   "metadata": {},
   "outputs": [],
   "source": []
  },
  {
   "cell_type": "code",
   "execution_count": 17,
   "metadata": {},
   "outputs": [],
   "source": [
    "# def percentile(values, percentile)\n",
    "#     values_sorted = values.sort\n",
    "#     k = (percentile*(values_sorted.length-1)+1).floor - 1\n",
    "#     f = (percentile*(values_sorted.length-1)+1).modulo(1)\n",
    "\n",
    "#     return values_sorted[k] + (f * (values_sorted[k+1] - values_sorted[k]))\n",
    "#   end\n"
   ]
  },
  {
   "cell_type": "code",
   "execution_count": null,
   "metadata": {},
   "outputs": [],
   "source": []
  },
  {
   "cell_type": "code",
   "execution_count": 12,
   "metadata": {},
   "outputs": [
    {
     "name": "stdout",
     "output_type": "stream",
     "text": [
      "0.010257799999976669\n",
      "0.030040799999937917\n"
     ]
    }
   ],
   "source": [
    "def f1():\n",
    "    for n in range(100):\n",
    "        pass\n",
    "    \n",
    "def f2():\n",
    "    n = 0\n",
    "    while n < 100:\n",
    "        n += 1 \n",
    "        \n",
    "        \n",
    "        \n",
    "if __name__==\"__main__\":\n",
    "    import timeit\n",
    "    \n",
    "    print(timeit.timeit(f1, number=10000))\n",
    "    print(timeit.timeit(f2, number=10000))\n",
    "    \n"
   ]
  },
  {
   "cell_type": "code",
   "execution_count": null,
   "metadata": {},
   "outputs": [],
   "source": []
  }
 ],
 "metadata": {
  "kernelspec": {
   "display_name": "Python 3 (ipykernel)",
   "language": "python",
   "name": "python3"
  },
  "language_info": {
   "codemirror_mode": {
    "name": "ipython",
    "version": 3
   },
   "file_extension": ".py",
   "mimetype": "text/x-python",
   "name": "python",
   "nbconvert_exporter": "python",
   "pygments_lexer": "ipython3",
   "version": "3.9.13"
  }
 },
 "nbformat": 4,
 "nbformat_minor": 4
}
