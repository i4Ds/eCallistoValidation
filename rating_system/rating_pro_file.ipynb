{
 "cells": [
  {
   "cell_type": "code",
   "execution_count": 1,
   "metadata": {
    "collapsed": true,
    "ExecuteTime": {
     "end_time": "2024-06-19T08:11:13.726346Z",
     "start_time": "2024-06-19T08:11:11.971980Z"
    }
   },
   "outputs": [
    {
     "name": "stderr",
     "output_type": "stream",
     "text": [
      "/tmp/pycharm_project_368/validation/rating_system/radiospectra/version.py:12: UserWarning: could not determine radiospectra package version; this indicates a broken installation\n",
      "  warnings.warn(\n"
     ]
    }
   ],
   "source": [
    "import psycopg2\n",
    "from radiospectra.sources import CallistoSpectrogram\n",
    "import numpy as np\n",
    "import config as ecallisto_config\n",
    "import pandas as pd"
   ]
  },
  {
   "cell_type": "code",
   "execution_count": 2,
   "outputs": [],
   "source": [
    "def _get_db():\n",
    "        \"\"\"\n",
    "        Connects to the database and returns a database connection object.\n",
    "\n",
    "        Returns:\n",
    "            psycopg2.extensions.connection: The database connection object.\n",
    "        \"\"\"\n",
    "        database = psycopg2.connect(\n",
    "            host=ecallisto_config.DB_HOST,\n",
    "            user=ecallisto_config.DB_USER,\n",
    "            database=ecallisto_config.DB_DATABASE,\n",
    "            port=ecallisto_config.DB_PORT,\n",
    "            password=ecallisto_config.DB_PASSWORD\n",
    "        )\n",
    "        return database\n",
    "\n",
    "\n",
    "def convert_to_stars(score):\n",
    "    ranking = [1.0, 2.0, 3.0, 4.0, 5.0]\n",
    "\n",
    "    # Compute the percentile of the data\n",
    "    percent = np.percentile(score, [0, 25, 50, 75, 100])\n",
    "    rating = np.interp(score, percent, ranking)\n",
    "    rating = np.round(rating, 2)\n",
    "\n",
    "    return rating\n",
    "\n",
    "\n",
    "def _get_all_instruments(start_date, end_date):\n",
    "    \"\"\"\n",
    "    Retrieves instrument data from the database between the given start_date and end_date.\n",
    "\n",
    "    Args:\n",
    "        start_date (str): Start date in the format 'YYYY-MM-DD HH:MM:SS'.\n",
    "        end_date (str): End date in the format 'YYYY-MM-DD HH:MM:SS'.\n",
    "\n",
    "    Returns:\n",
    "        list: List of instrument data.\n",
    "    \"\"\"\n",
    "    database = _get_db()\n",
    "\n",
    "    sql_query_instruments = \"\"\"\n",
    "    SELECT *, lower(observation_times) AS start_date, upper(observation_times) AS end_date\n",
    "    FROM test\n",
    "    WHERE observation_times && tsrange(%s, %s) AND snr IS NOT NULL\n",
    "    ORDER BY snr DESC;\n",
    "        \"\"\"\n",
    "\n",
    "    with database.cursor() as cursor:\n",
    "        cursor.execute(sql_query_instruments, (start_date, end_date))\n",
    "        instruments = cursor.fetchall()\n",
    "\n",
    "    return instruments\n",
    "\n",
    "\n",
    "\n",
    "def get_station_files(start_date, end_date, station_name):\n",
    "    rows = _get_all_instruments(start_date, end_date)\n",
    "    result = []\n",
    "\n",
    "    for row in rows:\n",
    "        spec = CallistoSpectrogram.read(ecallisto_config.DATA_PATH + row[6])\n",
    "        file_station_name = spec.header['INSTRUME']\n",
    "\n",
    "        if file_station_name == station_name:\n",
    "            file_name = row[6]\n",
    "            std = row[4]\n",
    "            snr = row[5]\n",
    "            result.append((file_name, file_station_name, std, snr))\n",
    "\n",
    "    columns = ['File Name', 'Station Name','SNR', 'Std']\n",
    "\n",
    "\n",
    "\n",
    "    df = pd.DataFrame(result, columns=columns)\n",
    "\n",
    "    df['snr_rating'] = convert_to_stars(df['SNR'])\n",
    "    df['std_rating'] = convert_to_stars(df['Std'])\n",
    "    \n",
    "    \n",
    "\n",
    "    return df\n",
    "\n",
    "\n",
    "def get_available_stations_with_averages(start_date, end_date):\n",
    "    rows = _get_all_instruments(start_date, end_date)\n",
    "    result = []\n",
    "\n",
    "    for row in rows:\n",
    "        spec = CallistoSpectrogram.read(ecallisto_config.DATA_PATH + row[6])\n",
    "        file_station_name = spec.header['INSTRUME']\n",
    "        file_name = row[6]\n",
    "        std = row[4]\n",
    "        snr = row[5]\n",
    "        obs_start = row[-2]\n",
    "        obs_end = row[-1]\n",
    "        duration = (obs_end - obs_start).total_seconds()\n",
    "        result.append((file_station_name, std, snr, duration))\n",
    "\n",
    "    columns = ['Station Name', 'Std', 'SNR', 'Duration']\n",
    "\n",
    "    df = pd.DataFrame(result, columns=columns)\n",
    "\n",
    "    # Group by station name and calculate the mean of Std and SNR\n",
    "    df_grouped = df.groupby('Station Name').agg({\n",
    "        'Std': 'mean',\n",
    "        'SNR': 'mean',\n",
    "        'Duration': 'sum'\n",
    "    }).reset_index()\n",
    "\n",
    "    # Convert the SNR and Std to star ratings\n",
    "    df_grouped['snr_rating'] = convert_to_stars(df_grouped['SNR'])\n",
    "    df_grouped['std_rating'] = convert_to_stars(df_grouped['Std'])\n",
    "\n",
    "    # Convert duration to a human-readable format\n",
    "    df_grouped['Duration'] = pd.to_timedelta(df_grouped['Duration'], unit='s')\n",
    "    df_grouped['Duration'] = df_grouped['Duration'].apply(\n",
    "        lambda duration: f\"{duration.components.days} days, {duration.components.hours} hours, {duration.components.minutes} minutes, {duration.components.seconds} seconds\"\n",
    "    )\n",
    "\n",
    "    # Sort by SNR in descending order\n",
    "    df_grouped = df_grouped.sort_values(by='SNR', ascending=False)\n",
    "\n",
    "    return df_grouped\n",
    "\n",
    "start_date = '2020-10-16 07:00:03'\n",
    "end_date = '2020-10-20 14:30:03'\n",
    "\n",
    "df_stations = get_available_stations_with_averages(start_date, end_date)"
   ],
   "metadata": {
    "collapsed": false,
    "ExecuteTime": {
     "end_time": "2024-06-19T08:22:58.690649Z",
     "start_time": "2024-06-19T08:12:05.542971Z"
    }
   }
  },
  {
   "cell_type": "code",
   "outputs": [
    {
     "data": {
      "text/plain": "          Station Name       Std       SNR  \\\n29                MRT3  0.353214  1.230496   \n33                OOTY  0.376093  1.113477   \n27                MRT1  0.442425  1.075425   \n28                MRT2  0.416559  1.031231   \n34          ROSWELL-NM  0.721055  0.992532   \n7       AUSTRIA-OE3FLB  0.992565  0.946051   \n39        SWISS-HB9SCT  0.766350  0.943908   \n13           GREENLAND  1.016178  0.940780   \n1         ALASKA-COHOE  0.544381  0.927274   \n4               ALMATY  0.765500  0.918931   \n22                KRIM  0.558163  0.914578   \n36     SPAIN-PERALEJOS  0.845766  0.887633   \n12             GLASGOW  0.626817  0.872498   \n44              TRIEST  0.704446  0.872435   \n23              MEXART  0.611353  0.863926   \n2         ALASKA-HAARP  1.252222  0.855125   \n19           INDONESIA  0.946689  0.848553   \n17        INDIA-IISERP  0.592729  0.847851   \n14  Germany-Hildesheim  0.777471  0.837075   \n20       JAPAN-IBARAKI  1.732048  0.822277   \n8      AUSTRIA-UNIGRAZ  1.152915  0.797352   \n5     AUSTRIA-Krumbach  1.134845  0.779727   \n35        SPAIN-ALCALA  0.869751  0.776906   \n10      Australia-LMRO  0.704354  0.773490   \n43         SWISS-MUHEN  1.334979  0.758426   \n21                KASI  0.610939  0.754150   \n26                 MRO  1.082100  0.737117   \n41         SWISS-IRSOL  0.740272  0.716641   \n38                SSRT  0.749663  0.707876   \n30      NEWZEALAND-AUT  0.876289  0.699169   \n16         INDIA-GAURI  0.755698  0.698512   \n18       INDIA-UDAIPUR  0.879889  0.697525   \n0     ALASKA-ANCHORAGE  1.191063  0.679347   \n42  SWISS-Landschlacht  1.242539  0.659260   \n3        ALGERIA-CRAAG  1.116918  0.653528   \n6   AUSTRIA-MICHELBACH  0.877211  0.638789   \n9       Australia-ASSA  0.934610  0.613634   \n24       MONGOLIA-GOBI  0.950274  0.596076   \n40    SWISS-HEITERSWIL  1.288899  0.565224   \n31  NORWAY-NY-AALESUND  0.220149  0.548344   \n45             URUGUAY  1.335786  0.526842   \n15              HUMAIN  1.408851  0.525088   \n32    NORWAY-RANDABERG  0.477482  0.506472   \n37      SPAIN-SIGUENZA  2.687935  0.436566   \n46    USA-ARIZONA-ERAU  2.136966  0.359573   \n11            ETHIOPIA  2.138041  0.347856   \n25         MONGOLIA-UB  5.120640  0.206050   \n\n                                    Duration  snr_rating  std_rating  \n29   2 days, 7 hours, 54 minutes, 19 seconds        5.00        1.30  \n33   3 days, 12 hours, 20 minutes, 0 seconds        4.67        1.35  \n27   2 days, 0 hours, 52 minutes, 25 seconds        4.56        1.50  \n28  2 days, 13 hours, 44 minutes, 46 seconds        4.43        1.44  \n34   12 days, 23 hours, 0 minutes, 0 seconds        4.32        2.26  \n7    4 days, 2 hours, 43 minutes, 39 seconds        4.19        3.39  \n39   4 days, 1 hours, 32 minutes, 41 seconds        4.18        2.48  \n13   8 days, 15 hours, 30 minutes, 0 seconds        4.17        3.47  \n1   5 days, 19 hours, 44 minutes, 40 seconds        4.13        1.73  \n4     3 days, 0 hours, 29 minutes, 8 seconds        4.11        2.47  \n22  1 days, 17 hours, 28 minutes, 28 seconds        4.10        1.76  \n36  5 days, 14 hours, 10 minutes, 49 seconds        4.02        2.86  \n12   2 days, 6 hours, 44 minutes, 28 seconds        3.93        1.91  \n44  4 days, 23 hours, 26 minutes, 14 seconds        3.93        2.18  \n23  1 days, 23 hours, 29 minutes, 38 seconds        3.85        1.88  \n2   1 days, 11 hours, 59 minutes, 24 seconds        3.77        4.02  \n19   2 days, 3 hours, 29 minutes, 34 seconds        3.70        3.24  \n17   2 days, 7 hours, 14 minutes, 11 seconds        3.70        1.84  \n14   2 days, 15 hours, 44 minutes, 9 seconds        3.60        2.53  \n20    4 days, 7 hours, 45 minutes, 0 seconds        3.46        4.14  \n8    2 days, 5 hours, 14 minutes, 23 seconds        3.22        3.94  \n5   2 days, 12 hours, 13 minutes, 45 seconds        3.06        3.87  \n35   2 days, 9 hours, 55 minutes, 10 seconds        3.03        2.97  \n10   2 days, 1 hours, 28 minutes, 36 seconds        3.00        2.18  \n43    4 days, 1 hours, 29 minutes, 6 seconds        2.88        4.04  \n21  1 days, 12 hours, 44 minutes, 45 seconds        2.85        1.88  \n26  7 days, 22 hours, 47 minutes, 44 seconds        2.71        3.70  \n41   2 days, 0 hours, 44 minutes, 30 seconds        2.55        2.35  \n38  0 days, 21 hours, 51 minutes, 10 seconds        2.48        2.40  \n30   4 days, 7 hours, 44 minutes, 38 seconds        2.42        3.00  \n16  1 days, 16 hours, 23 minutes, 20 seconds        2.41        2.43  \n18    2 days, 1 hours, 14 minutes, 7 seconds        2.40        3.01  \n0   1 days, 11 hours, 59 minutes, 24 seconds        2.26        4.00  \n42    4 days, 5 hours, 59 minutes, 6 seconds        2.10        4.02  \n3     2 days, 8 hours, 22 minutes, 3 seconds        2.06        3.81  \n6    2 days, 0 hours, 29 minutes, 33 seconds        1.98        3.00  \n9     1 days, 19 hours, 0 minutes, 0 seconds        1.93        3.20  \n24  1 days, 15 hours, 14 minutes, 40 seconds        1.89        3.25  \n40  2 days, 23 hours, 29 minutes, 33 seconds        1.82        4.03  \n31   3 days, 3 hours, 29 minutes, 25 seconds        1.78        1.00  \n45   2 days, 5 hours, 44 minutes, 52 seconds        1.73        4.04  \n15   2 days, 5 hours, 42 minutes, 24 seconds        1.72        4.06  \n32    4 days, 7 hours, 44 minutes, 4 seconds        1.68        1.58  \n37  2 days, 21 hours, 44 minutes, 21 seconds        1.52        4.38  \n46    4 days, 7 hours, 45 minutes, 0 seconds        1.35        4.24  \n11    1 days, 0 hours, 5 minutes, 52 seconds        1.32        4.24  \n25   0 days, 8 hours, 57 minutes, 53 seconds        1.00        5.00  ",
      "text/html": "<div>\n<style scoped>\n    .dataframe tbody tr th:only-of-type {\n        vertical-align: middle;\n    }\n\n    .dataframe tbody tr th {\n        vertical-align: top;\n    }\n\n    .dataframe thead th {\n        text-align: right;\n    }\n</style>\n<table border=\"1\" class=\"dataframe\">\n  <thead>\n    <tr style=\"text-align: right;\">\n      <th></th>\n      <th>Station Name</th>\n      <th>Std</th>\n      <th>SNR</th>\n      <th>Duration</th>\n      <th>snr_rating</th>\n      <th>std_rating</th>\n    </tr>\n  </thead>\n  <tbody>\n    <tr>\n      <th>29</th>\n      <td>MRT3</td>\n      <td>0.353214</td>\n      <td>1.230496</td>\n      <td>2 days, 7 hours, 54 minutes, 19 seconds</td>\n      <td>5.00</td>\n      <td>1.30</td>\n    </tr>\n    <tr>\n      <th>33</th>\n      <td>OOTY</td>\n      <td>0.376093</td>\n      <td>1.113477</td>\n      <td>3 days, 12 hours, 20 minutes, 0 seconds</td>\n      <td>4.67</td>\n      <td>1.35</td>\n    </tr>\n    <tr>\n      <th>27</th>\n      <td>MRT1</td>\n      <td>0.442425</td>\n      <td>1.075425</td>\n      <td>2 days, 0 hours, 52 minutes, 25 seconds</td>\n      <td>4.56</td>\n      <td>1.50</td>\n    </tr>\n    <tr>\n      <th>28</th>\n      <td>MRT2</td>\n      <td>0.416559</td>\n      <td>1.031231</td>\n      <td>2 days, 13 hours, 44 minutes, 46 seconds</td>\n      <td>4.43</td>\n      <td>1.44</td>\n    </tr>\n    <tr>\n      <th>34</th>\n      <td>ROSWELL-NM</td>\n      <td>0.721055</td>\n      <td>0.992532</td>\n      <td>12 days, 23 hours, 0 minutes, 0 seconds</td>\n      <td>4.32</td>\n      <td>2.26</td>\n    </tr>\n    <tr>\n      <th>7</th>\n      <td>AUSTRIA-OE3FLB</td>\n      <td>0.992565</td>\n      <td>0.946051</td>\n      <td>4 days, 2 hours, 43 minutes, 39 seconds</td>\n      <td>4.19</td>\n      <td>3.39</td>\n    </tr>\n    <tr>\n      <th>39</th>\n      <td>SWISS-HB9SCT</td>\n      <td>0.766350</td>\n      <td>0.943908</td>\n      <td>4 days, 1 hours, 32 minutes, 41 seconds</td>\n      <td>4.18</td>\n      <td>2.48</td>\n    </tr>\n    <tr>\n      <th>13</th>\n      <td>GREENLAND</td>\n      <td>1.016178</td>\n      <td>0.940780</td>\n      <td>8 days, 15 hours, 30 minutes, 0 seconds</td>\n      <td>4.17</td>\n      <td>3.47</td>\n    </tr>\n    <tr>\n      <th>1</th>\n      <td>ALASKA-COHOE</td>\n      <td>0.544381</td>\n      <td>0.927274</td>\n      <td>5 days, 19 hours, 44 minutes, 40 seconds</td>\n      <td>4.13</td>\n      <td>1.73</td>\n    </tr>\n    <tr>\n      <th>4</th>\n      <td>ALMATY</td>\n      <td>0.765500</td>\n      <td>0.918931</td>\n      <td>3 days, 0 hours, 29 minutes, 8 seconds</td>\n      <td>4.11</td>\n      <td>2.47</td>\n    </tr>\n    <tr>\n      <th>22</th>\n      <td>KRIM</td>\n      <td>0.558163</td>\n      <td>0.914578</td>\n      <td>1 days, 17 hours, 28 minutes, 28 seconds</td>\n      <td>4.10</td>\n      <td>1.76</td>\n    </tr>\n    <tr>\n      <th>36</th>\n      <td>SPAIN-PERALEJOS</td>\n      <td>0.845766</td>\n      <td>0.887633</td>\n      <td>5 days, 14 hours, 10 minutes, 49 seconds</td>\n      <td>4.02</td>\n      <td>2.86</td>\n    </tr>\n    <tr>\n      <th>12</th>\n      <td>GLASGOW</td>\n      <td>0.626817</td>\n      <td>0.872498</td>\n      <td>2 days, 6 hours, 44 minutes, 28 seconds</td>\n      <td>3.93</td>\n      <td>1.91</td>\n    </tr>\n    <tr>\n      <th>44</th>\n      <td>TRIEST</td>\n      <td>0.704446</td>\n      <td>0.872435</td>\n      <td>4 days, 23 hours, 26 minutes, 14 seconds</td>\n      <td>3.93</td>\n      <td>2.18</td>\n    </tr>\n    <tr>\n      <th>23</th>\n      <td>MEXART</td>\n      <td>0.611353</td>\n      <td>0.863926</td>\n      <td>1 days, 23 hours, 29 minutes, 38 seconds</td>\n      <td>3.85</td>\n      <td>1.88</td>\n    </tr>\n    <tr>\n      <th>2</th>\n      <td>ALASKA-HAARP</td>\n      <td>1.252222</td>\n      <td>0.855125</td>\n      <td>1 days, 11 hours, 59 minutes, 24 seconds</td>\n      <td>3.77</td>\n      <td>4.02</td>\n    </tr>\n    <tr>\n      <th>19</th>\n      <td>INDONESIA</td>\n      <td>0.946689</td>\n      <td>0.848553</td>\n      <td>2 days, 3 hours, 29 minutes, 34 seconds</td>\n      <td>3.70</td>\n      <td>3.24</td>\n    </tr>\n    <tr>\n      <th>17</th>\n      <td>INDIA-IISERP</td>\n      <td>0.592729</td>\n      <td>0.847851</td>\n      <td>2 days, 7 hours, 14 minutes, 11 seconds</td>\n      <td>3.70</td>\n      <td>1.84</td>\n    </tr>\n    <tr>\n      <th>14</th>\n      <td>Germany-Hildesheim</td>\n      <td>0.777471</td>\n      <td>0.837075</td>\n      <td>2 days, 15 hours, 44 minutes, 9 seconds</td>\n      <td>3.60</td>\n      <td>2.53</td>\n    </tr>\n    <tr>\n      <th>20</th>\n      <td>JAPAN-IBARAKI</td>\n      <td>1.732048</td>\n      <td>0.822277</td>\n      <td>4 days, 7 hours, 45 minutes, 0 seconds</td>\n      <td>3.46</td>\n      <td>4.14</td>\n    </tr>\n    <tr>\n      <th>8</th>\n      <td>AUSTRIA-UNIGRAZ</td>\n      <td>1.152915</td>\n      <td>0.797352</td>\n      <td>2 days, 5 hours, 14 minutes, 23 seconds</td>\n      <td>3.22</td>\n      <td>3.94</td>\n    </tr>\n    <tr>\n      <th>5</th>\n      <td>AUSTRIA-Krumbach</td>\n      <td>1.134845</td>\n      <td>0.779727</td>\n      <td>2 days, 12 hours, 13 minutes, 45 seconds</td>\n      <td>3.06</td>\n      <td>3.87</td>\n    </tr>\n    <tr>\n      <th>35</th>\n      <td>SPAIN-ALCALA</td>\n      <td>0.869751</td>\n      <td>0.776906</td>\n      <td>2 days, 9 hours, 55 minutes, 10 seconds</td>\n      <td>3.03</td>\n      <td>2.97</td>\n    </tr>\n    <tr>\n      <th>10</th>\n      <td>Australia-LMRO</td>\n      <td>0.704354</td>\n      <td>0.773490</td>\n      <td>2 days, 1 hours, 28 minutes, 36 seconds</td>\n      <td>3.00</td>\n      <td>2.18</td>\n    </tr>\n    <tr>\n      <th>43</th>\n      <td>SWISS-MUHEN</td>\n      <td>1.334979</td>\n      <td>0.758426</td>\n      <td>4 days, 1 hours, 29 minutes, 6 seconds</td>\n      <td>2.88</td>\n      <td>4.04</td>\n    </tr>\n    <tr>\n      <th>21</th>\n      <td>KASI</td>\n      <td>0.610939</td>\n      <td>0.754150</td>\n      <td>1 days, 12 hours, 44 minutes, 45 seconds</td>\n      <td>2.85</td>\n      <td>1.88</td>\n    </tr>\n    <tr>\n      <th>26</th>\n      <td>MRO</td>\n      <td>1.082100</td>\n      <td>0.737117</td>\n      <td>7 days, 22 hours, 47 minutes, 44 seconds</td>\n      <td>2.71</td>\n      <td>3.70</td>\n    </tr>\n    <tr>\n      <th>41</th>\n      <td>SWISS-IRSOL</td>\n      <td>0.740272</td>\n      <td>0.716641</td>\n      <td>2 days, 0 hours, 44 minutes, 30 seconds</td>\n      <td>2.55</td>\n      <td>2.35</td>\n    </tr>\n    <tr>\n      <th>38</th>\n      <td>SSRT</td>\n      <td>0.749663</td>\n      <td>0.707876</td>\n      <td>0 days, 21 hours, 51 minutes, 10 seconds</td>\n      <td>2.48</td>\n      <td>2.40</td>\n    </tr>\n    <tr>\n      <th>30</th>\n      <td>NEWZEALAND-AUT</td>\n      <td>0.876289</td>\n      <td>0.699169</td>\n      <td>4 days, 7 hours, 44 minutes, 38 seconds</td>\n      <td>2.42</td>\n      <td>3.00</td>\n    </tr>\n    <tr>\n      <th>16</th>\n      <td>INDIA-GAURI</td>\n      <td>0.755698</td>\n      <td>0.698512</td>\n      <td>1 days, 16 hours, 23 minutes, 20 seconds</td>\n      <td>2.41</td>\n      <td>2.43</td>\n    </tr>\n    <tr>\n      <th>18</th>\n      <td>INDIA-UDAIPUR</td>\n      <td>0.879889</td>\n      <td>0.697525</td>\n      <td>2 days, 1 hours, 14 minutes, 7 seconds</td>\n      <td>2.40</td>\n      <td>3.01</td>\n    </tr>\n    <tr>\n      <th>0</th>\n      <td>ALASKA-ANCHORAGE</td>\n      <td>1.191063</td>\n      <td>0.679347</td>\n      <td>1 days, 11 hours, 59 minutes, 24 seconds</td>\n      <td>2.26</td>\n      <td>4.00</td>\n    </tr>\n    <tr>\n      <th>42</th>\n      <td>SWISS-Landschlacht</td>\n      <td>1.242539</td>\n      <td>0.659260</td>\n      <td>4 days, 5 hours, 59 minutes, 6 seconds</td>\n      <td>2.10</td>\n      <td>4.02</td>\n    </tr>\n    <tr>\n      <th>3</th>\n      <td>ALGERIA-CRAAG</td>\n      <td>1.116918</td>\n      <td>0.653528</td>\n      <td>2 days, 8 hours, 22 minutes, 3 seconds</td>\n      <td>2.06</td>\n      <td>3.81</td>\n    </tr>\n    <tr>\n      <th>6</th>\n      <td>AUSTRIA-MICHELBACH</td>\n      <td>0.877211</td>\n      <td>0.638789</td>\n      <td>2 days, 0 hours, 29 minutes, 33 seconds</td>\n      <td>1.98</td>\n      <td>3.00</td>\n    </tr>\n    <tr>\n      <th>9</th>\n      <td>Australia-ASSA</td>\n      <td>0.934610</td>\n      <td>0.613634</td>\n      <td>1 days, 19 hours, 0 minutes, 0 seconds</td>\n      <td>1.93</td>\n      <td>3.20</td>\n    </tr>\n    <tr>\n      <th>24</th>\n      <td>MONGOLIA-GOBI</td>\n      <td>0.950274</td>\n      <td>0.596076</td>\n      <td>1 days, 15 hours, 14 minutes, 40 seconds</td>\n      <td>1.89</td>\n      <td>3.25</td>\n    </tr>\n    <tr>\n      <th>40</th>\n      <td>SWISS-HEITERSWIL</td>\n      <td>1.288899</td>\n      <td>0.565224</td>\n      <td>2 days, 23 hours, 29 minutes, 33 seconds</td>\n      <td>1.82</td>\n      <td>4.03</td>\n    </tr>\n    <tr>\n      <th>31</th>\n      <td>NORWAY-NY-AALESUND</td>\n      <td>0.220149</td>\n      <td>0.548344</td>\n      <td>3 days, 3 hours, 29 minutes, 25 seconds</td>\n      <td>1.78</td>\n      <td>1.00</td>\n    </tr>\n    <tr>\n      <th>45</th>\n      <td>URUGUAY</td>\n      <td>1.335786</td>\n      <td>0.526842</td>\n      <td>2 days, 5 hours, 44 minutes, 52 seconds</td>\n      <td>1.73</td>\n      <td>4.04</td>\n    </tr>\n    <tr>\n      <th>15</th>\n      <td>HUMAIN</td>\n      <td>1.408851</td>\n      <td>0.525088</td>\n      <td>2 days, 5 hours, 42 minutes, 24 seconds</td>\n      <td>1.72</td>\n      <td>4.06</td>\n    </tr>\n    <tr>\n      <th>32</th>\n      <td>NORWAY-RANDABERG</td>\n      <td>0.477482</td>\n      <td>0.506472</td>\n      <td>4 days, 7 hours, 44 minutes, 4 seconds</td>\n      <td>1.68</td>\n      <td>1.58</td>\n    </tr>\n    <tr>\n      <th>37</th>\n      <td>SPAIN-SIGUENZA</td>\n      <td>2.687935</td>\n      <td>0.436566</td>\n      <td>2 days, 21 hours, 44 minutes, 21 seconds</td>\n      <td>1.52</td>\n      <td>4.38</td>\n    </tr>\n    <tr>\n      <th>46</th>\n      <td>USA-ARIZONA-ERAU</td>\n      <td>2.136966</td>\n      <td>0.359573</td>\n      <td>4 days, 7 hours, 45 minutes, 0 seconds</td>\n      <td>1.35</td>\n      <td>4.24</td>\n    </tr>\n    <tr>\n      <th>11</th>\n      <td>ETHIOPIA</td>\n      <td>2.138041</td>\n      <td>0.347856</td>\n      <td>1 days, 0 hours, 5 minutes, 52 seconds</td>\n      <td>1.32</td>\n      <td>4.24</td>\n    </tr>\n    <tr>\n      <th>25</th>\n      <td>MONGOLIA-UB</td>\n      <td>5.120640</td>\n      <td>0.206050</td>\n      <td>0 days, 8 hours, 57 minutes, 53 seconds</td>\n      <td>1.00</td>\n      <td>5.00</td>\n    </tr>\n  </tbody>\n</table>\n</div>"
     },
     "execution_count": 3,
     "metadata": {},
     "output_type": "execute_result"
    }
   ],
   "source": [
    "df_stations"
   ],
   "metadata": {
    "collapsed": false,
    "ExecuteTime": {
     "end_time": "2024-06-19T08:23:18.828440Z",
     "start_time": "2024-06-19T08:23:18.804678Z"
    }
   },
   "execution_count": 3
  },
  {
   "cell_type": "code",
   "outputs": [
    {
     "ename": "NameError",
     "evalue": "name 'get_station_files' is not defined",
     "output_type": "error",
     "traceback": [
      "\u001B[0;31m---------------------------------------------------------------------------\u001B[0m",
      "\u001B[0;31mNameError\u001B[0m                                 Traceback (most recent call last)",
      "Cell \u001B[0;32mIn[1], line 4\u001B[0m\n\u001B[1;32m      2\u001B[0m end_date \u001B[38;5;241m=\u001B[39m \u001B[38;5;124m'\u001B[39m\u001B[38;5;124m2022-03-09 14:30:03\u001B[39m\u001B[38;5;124m'\u001B[39m\n\u001B[1;32m      3\u001B[0m station_name \u001B[38;5;241m=\u001B[39m \u001B[38;5;124m'\u001B[39m\u001B[38;5;124mINDONESIA\u001B[39m\u001B[38;5;124m'\u001B[39m\n\u001B[0;32m----> 4\u001B[0m df \u001B[38;5;241m=\u001B[39m \u001B[43mget_station_files\u001B[49m(start_date, end_date, station_name)\n",
      "\u001B[0;31mNameError\u001B[0m: name 'get_station_files' is not defined"
     ]
    }
   ],
   "source": [
    "start_date = '2022-03-08 14:30:03'\n",
    "end_date = '2022-03-09 14:30:03'\n",
    "station_name = 'INDONESIA'\n",
    "df = get_station_files(start_date, end_date, station_name)"
   ],
   "metadata": {
    "collapsed": false,
    "ExecuteTime": {
     "end_time": "2024-06-19T11:08:44.712914Z",
     "start_time": "2024-06-19T11:08:44.498296Z"
    }
   },
   "execution_count": 1
  },
  {
   "cell_type": "code",
   "outputs": [],
   "source": [],
   "metadata": {
    "collapsed": false
   }
  }
 ],
 "metadata": {
  "kernelspec": {
   "display_name": "Python 3",
   "language": "python",
   "name": "python3"
  },
  "language_info": {
   "codemirror_mode": {
    "name": "ipython",
    "version": 2
   },
   "file_extension": ".py",
   "mimetype": "text/x-python",
   "name": "python",
   "nbconvert_exporter": "python",
   "pygments_lexer": "ipython2",
   "version": "2.7.6"
  }
 },
 "nbformat": 4,
 "nbformat_minor": 0
}
