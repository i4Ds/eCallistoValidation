{
 "cells": [
  {
   "cell_type": "markdown",
   "source": [
    "# This Juypter file is to test the daily_observations class"
   ],
   "metadata": {
    "collapsed": false
   }
  },
  {
   "cell_type": "code",
   "execution_count": 1,
   "outputs": [
    {
     "name": "stderr",
     "output_type": "stream",
     "text": [
      "/tmp/pycharm_project_368/validation/rating_system/radiospectra/version.py:12: UserWarning: could not determine radiospectra package version; this indicates a broken installation\n",
      "  warnings.warn(\n"
     ]
    }
   ],
   "source": [
    "from daily_observations import *"
   ],
   "metadata": {
    "collapsed": false,
    "ExecuteTime": {
     "end_time": "2024-06-14T08:07:48.389382Z",
     "start_time": "2024-06-14T08:07:46.751846Z"
    }
   }
  },
  {
   "cell_type": "code",
   "execution_count": 3,
   "outputs": [
    {
     "data": {
      "text/plain": "   Station   Sunrise    Sunset               Obs_start             Obs_end  \\\n0  MRT3_02  02:20:32  14:17:30 2022-03-12 02:00:00.722 2022-03-12 13:58:58   \n1  MRT3_02  02:19:41  14:17:48 2022-03-13 02:00:00.789 2022-03-13 13:58:58   \n2  MRT3_02  02:18:50  14:18:07 2022-03-14 02:00:00.761 2022-03-14 13:58:58   \n3  MRT3_03  02:17:58  14:18:25 2022-03-15 02:39:00.843 2022-03-15 13:58:58   \n4  MRT3_02  02:17:07  14:18:42 2022-03-16 02:00:00.703 2022-03-16 13:58:58   \n\n         Duration   Avg-SNR   Avg-STD  \n0 0 days 11:58:57  1.200021  0.374646  \n1 0 days 11:58:57  1.175563  0.385146  \n2 0 days 11:58:57  1.203028  0.367611  \n3 0 days 11:19:57  1.209239  0.367087  \n4 0 days 11:58:57  1.176104  0.383792  ",
      "text/html": "<div>\n<style scoped>\n    .dataframe tbody tr th:only-of-type {\n        vertical-align: middle;\n    }\n\n    .dataframe tbody tr th {\n        vertical-align: top;\n    }\n\n    .dataframe thead th {\n        text-align: right;\n    }\n</style>\n<table border=\"1\" class=\"dataframe\">\n  <thead>\n    <tr style=\"text-align: right;\">\n      <th></th>\n      <th>Station</th>\n      <th>Sunrise</th>\n      <th>Sunset</th>\n      <th>Obs_start</th>\n      <th>Obs_end</th>\n      <th>Duration</th>\n      <th>Avg-SNR</th>\n      <th>Avg-STD</th>\n    </tr>\n  </thead>\n  <tbody>\n    <tr>\n      <th>0</th>\n      <td>MRT3_02</td>\n      <td>02:20:32</td>\n      <td>14:17:30</td>\n      <td>2022-03-12 02:00:00.722</td>\n      <td>2022-03-12 13:58:58</td>\n      <td>0 days 11:58:57</td>\n      <td>1.200021</td>\n      <td>0.374646</td>\n    </tr>\n    <tr>\n      <th>1</th>\n      <td>MRT3_02</td>\n      <td>02:19:41</td>\n      <td>14:17:48</td>\n      <td>2022-03-13 02:00:00.789</td>\n      <td>2022-03-13 13:58:58</td>\n      <td>0 days 11:58:57</td>\n      <td>1.175563</td>\n      <td>0.385146</td>\n    </tr>\n    <tr>\n      <th>2</th>\n      <td>MRT3_02</td>\n      <td>02:18:50</td>\n      <td>14:18:07</td>\n      <td>2022-03-14 02:00:00.761</td>\n      <td>2022-03-14 13:58:58</td>\n      <td>0 days 11:58:57</td>\n      <td>1.203028</td>\n      <td>0.367611</td>\n    </tr>\n    <tr>\n      <th>3</th>\n      <td>MRT3_03</td>\n      <td>02:17:58</td>\n      <td>14:18:25</td>\n      <td>2022-03-15 02:39:00.843</td>\n      <td>2022-03-15 13:58:58</td>\n      <td>0 days 11:19:57</td>\n      <td>1.209239</td>\n      <td>0.367087</td>\n    </tr>\n    <tr>\n      <th>4</th>\n      <td>MRT3_02</td>\n      <td>02:17:07</td>\n      <td>14:18:42</td>\n      <td>2022-03-16 02:00:00.703</td>\n      <td>2022-03-16 13:58:58</td>\n      <td>0 days 11:58:57</td>\n      <td>1.176104</td>\n      <td>0.383792</td>\n    </tr>\n  </tbody>\n</table>\n</div>"
     },
     "execution_count": 3,
     "metadata": {},
     "output_type": "execute_result"
    }
   ],
   "source": [
    "start_date = '2022-03-11 14:30:03'\n",
    "end_date = '2022-03-16 14:30:03'\n",
    "station_name = 'MRT3'\n",
    "\n",
    "daily_observation = DailyObservation(start_date, end_date, station_name)\n",
    "daily_observation.data"
   ],
   "metadata": {
    "collapsed": false,
    "ExecuteTime": {
     "end_time": "2024-06-14T08:09:02.918197Z",
     "start_time": "2024-06-14T08:08:15.324455Z"
    }
   }
  },
  {
   "cell_type": "code",
   "execution_count": 4,
   "outputs": [
    {
     "data": {
      "text/plain": "   Station          Duration   Avg-SNR   Avg-STD\n0  MRT3_02  1 days, 23:55:48  1.188679  0.377799\n1  MRT3_03   0 days 11:19:57  1.209239  0.367087",
      "text/html": "<div>\n<style scoped>\n    .dataframe tbody tr th:only-of-type {\n        vertical-align: middle;\n    }\n\n    .dataframe tbody tr th {\n        vertical-align: top;\n    }\n\n    .dataframe thead th {\n        text-align: right;\n    }\n</style>\n<table border=\"1\" class=\"dataframe\">\n  <thead>\n    <tr style=\"text-align: right;\">\n      <th></th>\n      <th>Station</th>\n      <th>Duration</th>\n      <th>Avg-SNR</th>\n      <th>Avg-STD</th>\n    </tr>\n  </thead>\n  <tbody>\n    <tr>\n      <th>0</th>\n      <td>MRT3_02</td>\n      <td>1 days, 23:55:48</td>\n      <td>1.188679</td>\n      <td>0.377799</td>\n    </tr>\n    <tr>\n      <th>1</th>\n      <td>MRT3_03</td>\n      <td>0 days 11:19:57</td>\n      <td>1.209239</td>\n      <td>0.367087</td>\n    </tr>\n  </tbody>\n</table>\n</div>"
     },
     "execution_count": 4,
     "metadata": {},
     "output_type": "execute_result"
    }
   ],
   "source": [
    "total_duration_data = daily_observation.calculate_total_duration()\n",
    "total_duration_data"
   ],
   "metadata": {
    "collapsed": false,
    "ExecuteTime": {
     "end_time": "2024-06-14T08:09:07.584262Z",
     "start_time": "2024-06-14T08:09:07.561280Z"
    }
   }
  },
  {
   "cell_type": "code",
   "execution_count": 5,
   "outputs": [
    {
     "data": {
      "text/plain": "          Station   Sunrise    Sunset               Obs_start  \\\n0  SWISS-MUHEN_01  05:48:19  16:37:20 2020-10-16 07:00:00.867   \n1  SWISS-MUHEN_01  05:49:46  16:35:30 2020-10-17 06:00:00.758   \n2  SWISS-MUHEN_01  05:51:12  16:33:40 2020-10-18 06:00:00.741   \n3  SWISS-MUHEN_01  05:52:39  16:31:51 2020-10-19 06:00:00.650   \n4  SWISS-MUHEN_01  05:54:06  16:30:04 2020-10-20 06:00:00.684   \n\n              Obs_end        Duration   Avg-SNR   Avg-STD  \n0 2020-10-16 16:14:58 0 days 09:14:57  0.793284  1.309014  \n1 2020-10-17 16:14:58 0 days 10:14:57  0.754256  1.196244  \n2 2020-10-18 16:14:58 0 days 10:14:57  0.749805  1.324963  \n3 2020-10-19 16:14:57 0 days 10:14:56  0.779768  1.325610  \n4 2020-10-20 14:45:00 0 days 08:44:59  0.711557  1.547657  ",
      "text/html": "<div>\n<style scoped>\n    .dataframe tbody tr th:only-of-type {\n        vertical-align: middle;\n    }\n\n    .dataframe tbody tr th {\n        vertical-align: top;\n    }\n\n    .dataframe thead th {\n        text-align: right;\n    }\n</style>\n<table border=\"1\" class=\"dataframe\">\n  <thead>\n    <tr style=\"text-align: right;\">\n      <th></th>\n      <th>Station</th>\n      <th>Sunrise</th>\n      <th>Sunset</th>\n      <th>Obs_start</th>\n      <th>Obs_end</th>\n      <th>Duration</th>\n      <th>Avg-SNR</th>\n      <th>Avg-STD</th>\n    </tr>\n  </thead>\n  <tbody>\n    <tr>\n      <th>0</th>\n      <td>SWISS-MUHEN_01</td>\n      <td>05:48:19</td>\n      <td>16:37:20</td>\n      <td>2020-10-16 07:00:00.867</td>\n      <td>2020-10-16 16:14:58</td>\n      <td>0 days 09:14:57</td>\n      <td>0.793284</td>\n      <td>1.309014</td>\n    </tr>\n    <tr>\n      <th>1</th>\n      <td>SWISS-MUHEN_01</td>\n      <td>05:49:46</td>\n      <td>16:35:30</td>\n      <td>2020-10-17 06:00:00.758</td>\n      <td>2020-10-17 16:14:58</td>\n      <td>0 days 10:14:57</td>\n      <td>0.754256</td>\n      <td>1.196244</td>\n    </tr>\n    <tr>\n      <th>2</th>\n      <td>SWISS-MUHEN_01</td>\n      <td>05:51:12</td>\n      <td>16:33:40</td>\n      <td>2020-10-18 06:00:00.741</td>\n      <td>2020-10-18 16:14:58</td>\n      <td>0 days 10:14:57</td>\n      <td>0.749805</td>\n      <td>1.324963</td>\n    </tr>\n    <tr>\n      <th>3</th>\n      <td>SWISS-MUHEN_01</td>\n      <td>05:52:39</td>\n      <td>16:31:51</td>\n      <td>2020-10-19 06:00:00.650</td>\n      <td>2020-10-19 16:14:57</td>\n      <td>0 days 10:14:56</td>\n      <td>0.779768</td>\n      <td>1.325610</td>\n    </tr>\n    <tr>\n      <th>4</th>\n      <td>SWISS-MUHEN_01</td>\n      <td>05:54:06</td>\n      <td>16:30:04</td>\n      <td>2020-10-20 06:00:00.684</td>\n      <td>2020-10-20 14:45:00</td>\n      <td>0 days 08:44:59</td>\n      <td>0.711557</td>\n      <td>1.547657</td>\n    </tr>\n  </tbody>\n</table>\n</div>"
     },
     "execution_count": 5,
     "metadata": {},
     "output_type": "execute_result"
    }
   ],
   "source": [
    "start_date = '2020-10-16 07:00:03'\n",
    "end_date = '2020-10-20 14:30:03'\n",
    "station_name = 'SWISS-MUHEN'\n",
    "\n",
    "\n",
    "daily_observation = DailyObservation(start_date, end_date, station_name)\n",
    "daily_observation.data"
   ],
   "metadata": {
    "collapsed": false,
    "ExecuteTime": {
     "end_time": "2024-06-14T08:10:53.430377Z",
     "start_time": "2024-06-14T08:09:23.808576Z"
    }
   }
  },
  {
   "cell_type": "code",
   "execution_count": 6,
   "outputs": [
    {
     "data": {
      "text/plain": "          Station          Duration   Avg-SNR   Avg-STD\n0  SWISS-MUHEN_01  2 days, 00:44:46  0.757734  1.340698",
      "text/html": "<div>\n<style scoped>\n    .dataframe tbody tr th:only-of-type {\n        vertical-align: middle;\n    }\n\n    .dataframe tbody tr th {\n        vertical-align: top;\n    }\n\n    .dataframe thead th {\n        text-align: right;\n    }\n</style>\n<table border=\"1\" class=\"dataframe\">\n  <thead>\n    <tr style=\"text-align: right;\">\n      <th></th>\n      <th>Station</th>\n      <th>Duration</th>\n      <th>Avg-SNR</th>\n      <th>Avg-STD</th>\n    </tr>\n  </thead>\n  <tbody>\n    <tr>\n      <th>0</th>\n      <td>SWISS-MUHEN_01</td>\n      <td>2 days, 00:44:46</td>\n      <td>0.757734</td>\n      <td>1.340698</td>\n    </tr>\n  </tbody>\n</table>\n</div>"
     },
     "execution_count": 6,
     "metadata": {},
     "output_type": "execute_result"
    }
   ],
   "source": [
    "total_duration_data = daily_observation.calculate_total_duration()\n",
    "total_duration_data"
   ],
   "metadata": {
    "collapsed": false,
    "ExecuteTime": {
     "end_time": "2024-06-14T08:11:38.172210Z",
     "start_time": "2024-06-14T08:11:38.152050Z"
    }
   }
  },
  {
   "cell_type": "code",
   "outputs": [],
   "source": [],
   "metadata": {
    "collapsed": false
   }
  }
 ],
 "metadata": {
  "kernelspec": {
   "display_name": "Python 3",
   "language": "python",
   "name": "python3"
  },
  "language_info": {
   "codemirror_mode": {
    "name": "ipython",
    "version": 2
   },
   "file_extension": ".py",
   "mimetype": "text/x-python",
   "name": "python",
   "nbconvert_exporter": "python",
   "pygments_lexer": "ipython2",
   "version": "2.7.6"
  }
 },
 "nbformat": 4,
 "nbformat_minor": 0
}
