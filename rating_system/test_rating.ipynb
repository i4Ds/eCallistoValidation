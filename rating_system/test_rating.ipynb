{
 "cells": [
  {
   "cell_type": "markdown",
   "source": [
    "## This Jupyter is to test the Rating class\n"
   ],
   "metadata": {
    "collapsed": false
   }
  },
  {
   "cell_type": "code",
   "execution_count": 1,
   "outputs": [],
   "source": [
    "from rating import *\n",
    "\n",
    "rating = Rating('2019-09-08 08:00:00', '2023-02-08 18:45:00')\n",
    "df = rating.rate_stations()\n"
   ],
   "metadata": {
    "collapsed": false,
    "ExecuteTime": {
     "end_time": "2024-06-14T08:22:33.956169Z",
     "start_time": "2024-06-14T08:21:37.714830Z"
    }
   }
  },
  {
   "cell_type": "code",
   "execution_count": 2,
   "outputs": [
    {
     "data": {
      "text/plain": "              station_name   snr   std  snr_rating  std_rating\n16       AUSTRIA-OE3FLB_55  1.19  0.41        4.14        1.66\n87                 MRT3_59  1.20  0.36        4.14        1.55\n85                 MRT3_02  1.19  0.38        4.13        1.60\n86                 MRT3_03  1.18  0.39        4.11        1.61\n122        SWISS-BLEN7M_03  1.17  0.38        4.11        1.58\n..                     ...   ...   ...         ...         ...\n91   NORWAY-NY-AALESUND_01  0.48  0.77        1.78        2.01\n109      SPAIN-SIGUENZA_01  0.44  2.54        1.68        4.03\n67                 KRIM_01  0.41  2.24        1.64        4.03\n141                UNAM_59  0.40  2.38        1.63        4.00\n144    USA-ARIZONA-ERAU_58  0.38  2.11        1.58        4.01\n\n[145 rows x 5 columns]",
      "text/html": "<div>\n<style scoped>\n    .dataframe tbody tr th:only-of-type {\n        vertical-align: middle;\n    }\n\n    .dataframe tbody tr th {\n        vertical-align: top;\n    }\n\n    .dataframe thead th {\n        text-align: right;\n    }\n</style>\n<table border=\"1\" class=\"dataframe\">\n  <thead>\n    <tr style=\"text-align: right;\">\n      <th></th>\n      <th>station_name</th>\n      <th>snr</th>\n      <th>std</th>\n      <th>snr_rating</th>\n      <th>std_rating</th>\n    </tr>\n  </thead>\n  <tbody>\n    <tr>\n      <th>16</th>\n      <td>AUSTRIA-OE3FLB_55</td>\n      <td>1.19</td>\n      <td>0.41</td>\n      <td>4.14</td>\n      <td>1.66</td>\n    </tr>\n    <tr>\n      <th>87</th>\n      <td>MRT3_59</td>\n      <td>1.20</td>\n      <td>0.36</td>\n      <td>4.14</td>\n      <td>1.55</td>\n    </tr>\n    <tr>\n      <th>85</th>\n      <td>MRT3_02</td>\n      <td>1.19</td>\n      <td>0.38</td>\n      <td>4.13</td>\n      <td>1.60</td>\n    </tr>\n    <tr>\n      <th>86</th>\n      <td>MRT3_03</td>\n      <td>1.18</td>\n      <td>0.39</td>\n      <td>4.11</td>\n      <td>1.61</td>\n    </tr>\n    <tr>\n      <th>122</th>\n      <td>SWISS-BLEN7M_03</td>\n      <td>1.17</td>\n      <td>0.38</td>\n      <td>4.11</td>\n      <td>1.58</td>\n    </tr>\n    <tr>\n      <th>...</th>\n      <td>...</td>\n      <td>...</td>\n      <td>...</td>\n      <td>...</td>\n      <td>...</td>\n    </tr>\n    <tr>\n      <th>91</th>\n      <td>NORWAY-NY-AALESUND_01</td>\n      <td>0.48</td>\n      <td>0.77</td>\n      <td>1.78</td>\n      <td>2.01</td>\n    </tr>\n    <tr>\n      <th>109</th>\n      <td>SPAIN-SIGUENZA_01</td>\n      <td>0.44</td>\n      <td>2.54</td>\n      <td>1.68</td>\n      <td>4.03</td>\n    </tr>\n    <tr>\n      <th>67</th>\n      <td>KRIM_01</td>\n      <td>0.41</td>\n      <td>2.24</td>\n      <td>1.64</td>\n      <td>4.03</td>\n    </tr>\n    <tr>\n      <th>141</th>\n      <td>UNAM_59</td>\n      <td>0.40</td>\n      <td>2.38</td>\n      <td>1.63</td>\n      <td>4.00</td>\n    </tr>\n    <tr>\n      <th>144</th>\n      <td>USA-ARIZONA-ERAU_58</td>\n      <td>0.38</td>\n      <td>2.11</td>\n      <td>1.58</td>\n      <td>4.01</td>\n    </tr>\n  </tbody>\n</table>\n<p>145 rows × 5 columns</p>\n</div>"
     },
     "execution_count": 2,
     "metadata": {},
     "output_type": "execute_result"
    }
   ],
   "source": [
    "df"
   ],
   "metadata": {
    "collapsed": false,
    "ExecuteTime": {
     "end_time": "2024-06-14T08:25:13.608286Z",
     "start_time": "2024-06-14T08:25:13.592073Z"
    }
   }
  },
  {
   "cell_type": "code",
   "execution_count": 10,
   "outputs": [
    {
     "name": "stdout",
     "output_type": "stream",
     "text": [
      "                            col2  col3  col4\n",
      "test                                        \n",
      "2023-10-03 16:02:32.025711    29    58   841\n",
      "2023-10-04 16:02:32.025711    56   112  3136\n",
      "2023-10-05 16:02:32.025711    82   164  6724\n",
      "2023-10-06 16:02:32.025711    13    26   169\n",
      "2023-10-07 16:02:32.025711    35    70  1225\n",
      "2023-10-08 16:02:32.025711    53   106  2809\n",
      "2023-10-09 16:02:32.025711    25    50   625\n",
      "2023-10-10 16:02:32.025711    23    46   529\n"
     ]
    }
   ],
   "source": [
    "import pandas as pd\n",
    "import numpy as np\n",
    "from datetime import datetime, timedelta\n",
    "\n",
    "date_today = datetime.now()\n",
    "days = pd.date_range(date_today, date_today + timedelta(7), freq='D')\n",
    "\n",
    "np.random.seed(seed=1111)\n",
    "data = np.random.randint(1, high=100, size=len(days))\n",
    "df = pd.DataFrame({'test': days, 'col2': data, 'col3': 2*data, 'col4': data**2})\n",
    "df = df.set_index('test')\n",
    "print(df)"
   ],
   "metadata": {
    "collapsed": false,
    "ExecuteTime": {
     "end_time": "2023-10-03T14:02:47.586971Z",
     "start_time": "2023-10-03T14:02:47.571346300Z"
    }
   }
  },
  {
   "cell_type": "code",
   "execution_count": 11,
   "outputs": [
    {
     "data": {
      "text/plain": "1.470421312215637"
     },
     "execution_count": 11,
     "metadata": {},
     "output_type": "execute_result"
    }
   ],
   "source": [
    "(df.mean() / df.std()).mean()"
   ],
   "metadata": {
    "collapsed": false,
    "ExecuteTime": {
     "end_time": "2023-10-03T14:02:47.861109300Z",
     "start_time": "2023-10-03T14:02:47.861109300Z"
    }
   }
  },
  {
   "cell_type": "code",
   "execution_count": 12,
   "outputs": [
    {
     "data": {
      "text/plain": "col2    1.747621\ncol3    1.747621\ncol4    0.916021\ndtype: float64"
     },
     "execution_count": 12,
     "metadata": {},
     "output_type": "execute_result"
    }
   ],
   "source": [
    "df.mean() / df.std()"
   ],
   "metadata": {
    "collapsed": false,
    "ExecuteTime": {
     "end_time": "2023-10-03T14:02:52.419782300Z",
     "start_time": "2023-10-03T14:02:52.404122100Z"
    }
   }
  },
  {
   "cell_type": "code",
   "execution_count": 15,
   "outputs": [
    {
     "data": {
      "text/plain": "test\n2023-10-03 16:02:32.025711         NaN\n2023-10-04 16:02:32.025711         NaN\n2023-10-05 16:02:32.025711    1.801336\n2023-10-06 16:02:32.025711    1.302419\n2023-10-07 16:02:32.025711    1.075903\n2023-10-08 16:02:32.025711    1.471809\n2023-10-09 16:02:32.025711    2.228520\n2023-10-10 16:02:32.025711    1.679595\ndtype: float64"
     },
     "execution_count": 15,
     "metadata": {},
     "output_type": "execute_result"
    }
   ],
   "source": [
    "(df.rolling(window=3).mean() / df.rolling(window=3).std()).mean(axis=1)"
   ],
   "metadata": {
    "collapsed": false,
    "ExecuteTime": {
     "end_time": "2023-10-03T14:04:07.517917600Z",
     "start_time": "2023-10-03T14:04:07.470741300Z"
    }
   }
  },
  {
   "cell_type": "code",
   "outputs": [
    {
     "name": "stdout",
     "output_type": "stream",
     "text": [
      "                       snr  snr_rating   std  std_rating  number_of_files\n",
      "station_name                                                             \n",
      "MRT3                  1.21        4.78  0.37        1.41                8\n",
      "ALASKA-COHOE          1.14        4.58  0.41        1.52               38\n",
      "INDIA-OOTY            1.13        4.53  0.37        1.41               39\n",
      "MRT2                  1.05        4.29  0.38        1.43               22\n",
      "SWISS-IRSOL           1.04        4.20  0.44        1.59               30\n",
      "MRT1                  0.99        4.11  1.47        4.08               37\n",
      "SWISS-HB9SCT          1.01        4.07  0.71        2.37               73\n",
      "GLASGOW               0.99        4.07  0.49        1.71               38\n",
      "DENMARK               0.97        4.03  0.58        1.94                6\n",
      "KRIM                  0.99        4.01  0.58        1.96               44\n",
      "TRIEST                0.99        3.98  0.61        2.11               43\n",
      "POLAND-Grotniki       0.93        3.84  0.91        3.02               84\n",
      "Australia-ASSA        0.93        3.76  0.59        2.03               43\n",
      "ALMATY                0.92        3.61  0.83        2.64               40\n",
      "AUSTRIA-OE3FLB        0.94        3.61  0.90        2.74               32\n",
      "HURBANOVO             0.86        3.48  0.65        2.18               21\n",
      "BIR                   0.86        3.46  0.66        2.21               12\n",
      "INDIA-GAURI           0.85        3.43  0.59        2.00               30\n",
      "INDONESIA             0.84        3.36  1.04        3.28               22\n",
      "ROMANIA               0.83        3.30  0.59        1.97               11\n",
      "MRO                   0.83        3.20  1.03        3.01               70\n",
      "EGYPT-Alexandria      0.81        3.18  1.31        3.79                3\n",
      "ALASKA-ANCHORAGE      0.81        3.17  0.67        2.23               19\n",
      "AUSTRIA-UNIGRAZ       0.79        3.09  0.93        3.10               23\n",
      "MEXART                0.79        3.07  0.73        2.47               44\n",
      "GERMANY-DLR           0.78        3.06  0.77        2.56              147\n",
      "SPAIN-PERALEJOS       0.78        2.98  0.99        3.01               14\n",
      "INPE                  0.76        2.94  0.90        3.01               18\n",
      "SWISS-MUHEN           0.76        2.94  1.69        4.22               14\n",
      "KASI                  0.76        2.94  0.64        2.10               39\n",
      "AUSTRIA-Krumbach      0.72        2.72  1.26        3.81               43\n",
      "SWISS-Landschlacht    0.63        2.29  1.38        3.89               43\n",
      "ROSWELL-NM            0.62        2.26  1.74        4.00               43\n",
      "ALGERIA-CRAAG         0.63        2.24  1.10        3.49               50\n",
      "AUSTRIA-MICHELBACH    0.62        2.22  0.86        2.92               44\n",
      "INDIA-UDAIPUR         0.61        2.16  0.98        3.12               81\n",
      "MONGOLIA-UB           0.58        2.03  1.78        4.28               30\n",
      "SPAIN-ALCALA          0.58        2.02  1.14        3.57               72\n",
      "SWISS-HEITERSWIL      0.58        1.99  1.19        3.67               44\n",
      "HUMAIN                0.53        1.80  1.36        3.80               38\n",
      "THAILAND-Pathumthani  0.53        1.77  1.58        4.15               76\n",
      "NORWAY-NY-AALESUND    0.50        1.67  0.22        1.04               77\n",
      "URUGUAY               0.50        1.66  1.08        3.44               39\n",
      "NORWAY-RANDABERG      0.49        1.63  0.62        2.10              123\n",
      "SPAIN-SIGUENZA        0.45        1.44  2.58        4.81               35\n",
      "USA-ARIZONA-ERAU      0.35        1.04  2.16        4.53               43\n"
     ]
    },
    {
     "name": "stderr",
     "output_type": "stream",
     "text": [
      "/tmp/ipykernel_245430/1802454132.py:67: FutureWarning: The default value of numeric_only in DataFrameGroupBy.mean is deprecated. In a future version, numeric_only will default to False. Either specify numeric_only or select only columns which should be valid for the function.\n",
      "  df = df.groupby('station_name').mean().round(decimals=2).sort_values(by='snr_rating', ascending=False)\n"
     ]
    }
   ],
   "source": [
    "import sys\n",
    "import os\n",
    "import astropy.io.fits\n",
    "import numpy as np\n",
    "import psycopg2.extras\n",
    "import psycopg2\n",
    "import pandas as pd\n",
    "import matplotlib.pyplot as plt\n",
    "import re\n",
    "import datetime\n",
    "import math\n",
    "import mpu\n",
    "import config as ecallisto_config\n",
    "\n",
    "from collections import Counter\n",
    "from daily_observations import DailyObservation\n",
    "from astral import Observer\n",
    "from astral.sun import sun\n",
    "\n",
    "# sys.path.append(os.path.join(os.path.dirname(__file__), \"../..\", \"radiospectra2\"))\n",
    "from radiospectra.sources import CallistoSpectrogram\n",
    "\n",
    "\n",
    "class Rating:\n",
    "    def __init__(self, start_time, end_time):\n",
    "        self.start_time = start_time\n",
    "        self.end_time = end_time\n",
    "        self.database = self.get_db()\n",
    "\n",
    "    def get_db(self):\n",
    "        \"\"\"Connect to the database\"\"\"\n",
    "        return psycopg2.connect(host=ecallisto_config.DB_HOST,\n",
    "                                user=ecallisto_config.DB_USER,\n",
    "                                database=ecallisto_config.DB_DATABASE,\n",
    "                                port=ecallisto_config.DB_PORT,\n",
    "                                password=ecallisto_config.DB_PASSWORD)\n",
    "\n",
    "    def get_all_instruments(self):\n",
    "        \"\"\"Get all data from the database\"\"\"\n",
    "        sql_query_instruments = f\"\"\"\n",
    "            SELECT path, snr, std \n",
    "            FROM test \n",
    "            WHERE start_time BETWEEN '{self.start_time}' AND '{self.end_time}' \n",
    "                AND snr IS NOT NULL \n",
    "            ORDER BY snr DESC;\n",
    "        \"\"\"\n",
    "        with self.database.cursor(cursor_factory=psycopg2.extras.DictCursor) as cursor:\n",
    "            cursor.execute(sql_query_instruments)\n",
    "            instruments = cursor.fetchall()\n",
    "        return instruments\n",
    "\n",
    "    def convert_to_stars(self, score):\n",
    "        ranking = [1.0, 2.0, 3.0, 4.0, 5.0]\n",
    "        percent = np.percentile(score, [0, 25, 50, 75, 100])\n",
    "        rating = np.interp(score, percent, ranking)\n",
    "        return np.round(rating, 2)\n",
    "\n",
    "    def rate_stations(self):\n",
    "        instruments = self.get_all_instruments()\n",
    "        df = pd.DataFrame(instruments, columns=[\"path\", \"snr\", \"std\"])\n",
    "        df = df[df['snr'].notna()]\n",
    "        df[\"station_name\"] = df[\"path\"].str.split('[/|_]', expand=True)[4]\n",
    "        df[\"snr_rating\"] = self.convert_to_stars(df[\"snr\"])\n",
    "        df[\"std_rating\"] = self.convert_to_stars(df[\"std\"])\n",
    "        df[\"counter\"] = df[\"station_name\"].tolist()\n",
    "        values, counts = np.unique(df[\"counter\"], return_counts=True)\n",
    "        df = df.groupby('station_name').mean().round(decimals=2).sort_values(by='snr_rating', ascending=False)\n",
    "        df[\"number_of_files\"] = counts\n",
    "        return df[[\"snr\", \"snr_rating\", \"std\", \"std_rating\", \"number_of_files\"]]\n",
    "\n",
    "    def combine_daily_observations(self):\n",
    "        \"\"\"\n",
    "        Integrates DailyObservation with the rating system to provide a comprehensive analysis.\n",
    "        \"\"\"\n",
    "        daily_observation = DailyObservation(self.start_time, self.end_time, \"\")\n",
    "        daily_data = daily_observation.data\n",
    "\n",
    "        ratings = self.rate_stations()\n",
    "\n",
    "        # Merge daily observations with ratings\n",
    "        combined_data = pd.merge(daily_data, ratings, left_on='Station', right_index=True, how='inner')\n",
    "        return combined_data\n",
    "\n",
    "    def calculate_total_duration(self):\n",
    "        \"\"\"\n",
    "        Calculates the total duration and average SNR and std for each station.\n",
    "\n",
    "        Returns:\n",
    "            pandas.DataFrame: Total duration and average SNR and std data by station.\n",
    "        \"\"\"\n",
    "        combined_data = self.combine_daily_observations()\n",
    "\n",
    "        combined_data['Duration'] = pd.to_timedelta(combined_data['Duration'])\n",
    "        total_duration = combined_data.groupby('Station')['Duration'].sum().reset_index()\n",
    "        total_duration['Duration'] = total_duration['Duration'].apply(\n",
    "            lambda duration: f\"{duration.days} days, {str(duration)[-8:]}\" if duration.days > 0 else str(duration)\n",
    "        )\n",
    "\n",
    "        average_stats = combined_data.groupby('Station').agg({'Avg-SNR': 'mean', 'Avg-STD': 'mean'}).reset_index()\n",
    "        total_duration = total_duration.merge(average_stats, on='Station')\n",
    "        return total_duration\n",
    "\n",
    "\n",
    "\n",
    "rating = Rating('2021-09-08 08:00:00', '2021-09-08 18:45:00')\n",
    "df_ratings = rating.rate_stations()\n",
    "print(df_ratings)"
   ],
   "metadata": {
    "collapsed": false,
    "ExecuteTime": {
     "end_time": "2024-06-14T09:03:11.833060Z",
     "start_time": "2024-06-14T09:03:11.447624Z"
    }
   },
   "execution_count": 4
  },
  {
   "cell_type": "code",
   "outputs": [
    {
     "name": "stdout",
     "output_type": "stream",
     "text": [
      "Error calculating sunrise/sunset: Sun never reaches 6 degrees below the horizon, at this location.\n",
      "Error calculating sunrise/sunset: Sun never reaches 6 degrees below the horizon, at this location.\n",
      "Error calculating sunrise/sunset: Sun never reaches 6 degrees below the horizon, at this location.\n",
      "Error calculating sunrise/sunset: Sun never reaches 6 degrees below the horizon, at this location.\n",
      "Error calculating sunrise/sunset: Sun never reaches 6 degrees below the horizon, at this location.\n",
      "Error calculating sunrise/sunset: Sun never reaches 6 degrees below the horizon, at this location.\n",
      "Error calculating sunrise/sunset: Sun never reaches 6 degrees below the horizon, at this location.\n",
      "Error calculating sunrise/sunset: Sun never reaches 6 degrees below the horizon, at this location.\n",
      "Error calculating sunrise/sunset: Sun never reaches 6 degrees below the horizon, at this location.\n",
      "Error calculating sunrise/sunset: Sun never reaches 6 degrees below the horizon, at this location.\n",
      "Error calculating sunrise/sunset: Sun never reaches 6 degrees below the horizon, at this location.\n",
      "Error calculating sunrise/sunset: Sun never reaches 6 degrees below the horizon, at this location.\n",
      "Error calculating sunrise/sunset: Sun never reaches 6 degrees below the horizon, at this location.\n",
      "Error calculating sunrise/sunset: Sun never reaches 6 degrees below the horizon, at this location.\n",
      "Error calculating sunrise/sunset: Sun never reaches 6 degrees below the horizon, at this location.\n",
      "Error calculating sunrise/sunset: Sun never reaches 6 degrees below the horizon, at this location.\n",
      "Error calculating sunrise/sunset: Sun never reaches 6 degrees below the horizon, at this location.\n",
      "Error calculating sunrise/sunset: Sun never reaches 6 degrees below the horizon, at this location.\n",
      "Error calculating sunrise/sunset: Sun never reaches 6 degrees below the horizon, at this location.\n",
      "Error calculating sunrise/sunset: Sun never reaches 6 degrees below the horizon, at this location.\n",
      "Error calculating sunrise/sunset: Sun never reaches 6 degrees below the horizon, at this location.\n",
      "Error calculating sunrise/sunset: Sun never reaches 6 degrees below the horizon, at this location.\n",
      "Error calculating sunrise/sunset: Sun never reaches 6 degrees below the horizon, at this location.\n",
      "Error calculating sunrise/sunset: Sun never reaches 6 degrees below the horizon, at this location.\n",
      "Error calculating sunrise/sunset: Sun never reaches 6 degrees below the horizon, at this location.\n",
      "Error calculating sunrise/sunset: Sun never reaches 6 degrees below the horizon, at this location.\n",
      "Error calculating sunrise/sunset: Sun never reaches 6 degrees below the horizon, at this location.\n",
      "Error calculating sunrise/sunset: Sun never reaches 6 degrees below the horizon, at this location.\n",
      "Error calculating sunrise/sunset: Sun never reaches 6 degrees below the horizon, at this location.\n",
      "Error calculating sunrise/sunset: Sun never reaches 6 degrees below the horizon, at this location.\n",
      "Error calculating sunrise/sunset: Sun never reaches 6 degrees below the horizon, at this location.\n",
      "Error calculating sunrise/sunset: Sun never reaches 6 degrees below the horizon, at this location.\n",
      "Error calculating sunrise/sunset: Sun never reaches 6 degrees below the horizon, at this location.\n",
      "Error calculating sunrise/sunset: Sun never reaches 6 degrees below the horizon, at this location.\n",
      "Error calculating sunrise/sunset: Sun never reaches 6 degrees below the horizon, at this location.\n",
      "Error calculating sunrise/sunset: Sun never reaches 6 degrees below the horizon, at this location.\n",
      "Error calculating sunrise/sunset: Sun never reaches 6 degrees below the horizon, at this location.\n",
      "Error calculating sunrise/sunset: Sun never reaches 6 degrees below the horizon, at this location.\n",
      "Error calculating sunrise/sunset: Sun never reaches 6 degrees below the horizon, at this location.\n",
      "Error calculating sunrise/sunset: Sun never reaches 6 degrees below the horizon, at this location.\n",
      "Empty DataFrame\n",
      "Columns: [Station, Sunrise, Sunset, Obs_start, Obs_end, Duration, Avg-SNR, Avg-STD, snr, snr_rating, std, std_rating, number_of_files]\n",
      "Index: []\n"
     ]
    },
    {
     "name": "stderr",
     "output_type": "stream",
     "text": [
      "/tmp/ipykernel_245430/1802454132.py:67: FutureWarning: The default value of numeric_only in DataFrameGroupBy.mean is deprecated. In a future version, numeric_only will default to False. Either specify numeric_only or select only columns which should be valid for the function.\n",
      "  df = df.groupby('station_name').mean().round(decimals=2).sort_values(by='snr_rating', ascending=False)\n"
     ]
    }
   ],
   "source": [
    "combined_data = rating.combine_daily_observations()\n",
    "print(combined_data)"
   ],
   "metadata": {
    "collapsed": false,
    "ExecuteTime": {
     "end_time": "2024-06-14T09:04:44.739467Z",
     "start_time": "2024-06-14T09:03:28.147685Z"
    }
   },
   "execution_count": 5
  },
  {
   "cell_type": "code",
   "outputs": [
    {
     "name": "stdout",
     "output_type": "stream",
     "text": [
      "Error calculating sunrise/sunset: Sun never reaches 6 degrees below the horizon, at this location.\n",
      "Error calculating sunrise/sunset: Sun never reaches 6 degrees below the horizon, at this location.\n",
      "Error calculating sunrise/sunset: Sun never reaches 6 degrees below the horizon, at this location.\n",
      "Error calculating sunrise/sunset: Sun never reaches 6 degrees below the horizon, at this location.\n",
      "Error calculating sunrise/sunset: Sun never reaches 6 degrees below the horizon, at this location.\n",
      "Error calculating sunrise/sunset: Sun never reaches 6 degrees below the horizon, at this location.\n",
      "Error calculating sunrise/sunset: Sun never reaches 6 degrees below the horizon, at this location.\n",
      "Error calculating sunrise/sunset: Sun never reaches 6 degrees below the horizon, at this location.\n",
      "Error calculating sunrise/sunset: Sun never reaches 6 degrees below the horizon, at this location.\n",
      "Error calculating sunrise/sunset: Sun never reaches 6 degrees below the horizon, at this location.\n",
      "Error calculating sunrise/sunset: Sun never reaches 6 degrees below the horizon, at this location.\n",
      "Error calculating sunrise/sunset: Sun never reaches 6 degrees below the horizon, at this location.\n",
      "Error calculating sunrise/sunset: Sun never reaches 6 degrees below the horizon, at this location.\n",
      "Error calculating sunrise/sunset: Sun never reaches 6 degrees below the horizon, at this location.\n",
      "Error calculating sunrise/sunset: Sun never reaches 6 degrees below the horizon, at this location.\n",
      "Error calculating sunrise/sunset: Sun never reaches 6 degrees below the horizon, at this location.\n",
      "Error calculating sunrise/sunset: Sun never reaches 6 degrees below the horizon, at this location.\n",
      "Error calculating sunrise/sunset: Sun never reaches 6 degrees below the horizon, at this location.\n",
      "Error calculating sunrise/sunset: Sun never reaches 6 degrees below the horizon, at this location.\n",
      "Error calculating sunrise/sunset: Sun never reaches 6 degrees below the horizon, at this location.\n",
      "Error calculating sunrise/sunset: Sun never reaches 6 degrees below the horizon, at this location.\n",
      "Error calculating sunrise/sunset: Sun never reaches 6 degrees below the horizon, at this location.\n",
      "Error calculating sunrise/sunset: Sun never reaches 6 degrees below the horizon, at this location.\n",
      "Error calculating sunrise/sunset: Sun never reaches 6 degrees below the horizon, at this location.\n",
      "Error calculating sunrise/sunset: Sun never reaches 6 degrees below the horizon, at this location.\n",
      "Error calculating sunrise/sunset: Sun never reaches 6 degrees below the horizon, at this location.\n",
      "Error calculating sunrise/sunset: Sun never reaches 6 degrees below the horizon, at this location.\n",
      "Error calculating sunrise/sunset: Sun never reaches 6 degrees below the horizon, at this location.\n",
      "Error calculating sunrise/sunset: Sun never reaches 6 degrees below the horizon, at this location.\n",
      "Error calculating sunrise/sunset: Sun never reaches 6 degrees below the horizon, at this location.\n",
      "Error calculating sunrise/sunset: Sun never reaches 6 degrees below the horizon, at this location.\n",
      "Error calculating sunrise/sunset: Sun never reaches 6 degrees below the horizon, at this location.\n",
      "Error calculating sunrise/sunset: Sun never reaches 6 degrees below the horizon, at this location.\n",
      "Error calculating sunrise/sunset: Sun never reaches 6 degrees below the horizon, at this location.\n",
      "Error calculating sunrise/sunset: Sun never reaches 6 degrees below the horizon, at this location.\n",
      "Error calculating sunrise/sunset: Sun never reaches 6 degrees below the horizon, at this location.\n",
      "Error calculating sunrise/sunset: Sun never reaches 6 degrees below the horizon, at this location.\n",
      "Error calculating sunrise/sunset: Sun never reaches 6 degrees below the horizon, at this location.\n",
      "Error calculating sunrise/sunset: Sun never reaches 6 degrees below the horizon, at this location.\n",
      "Error calculating sunrise/sunset: Sun never reaches 6 degrees below the horizon, at this location.\n"
     ]
    },
    {
     "ename": "KeyboardInterrupt",
     "evalue": "",
     "output_type": "error",
     "traceback": [
      "\u001B[0;31m---------------------------------------------------------------------------\u001B[0m",
      "\u001B[0;31mKeyboardInterrupt\u001B[0m                         Traceback (most recent call last)",
      "Cell \u001B[0;32mIn[6], line 1\u001B[0m\n\u001B[0;32m----> 1\u001B[0m total_duration_data \u001B[38;5;241m=\u001B[39m \u001B[43mrating\u001B[49m\u001B[38;5;241;43m.\u001B[39;49m\u001B[43mcalculate_total_duration\u001B[49m\u001B[43m(\u001B[49m\u001B[43m)\u001B[49m\n\u001B[1;32m      2\u001B[0m \u001B[38;5;28mprint\u001B[39m(total_duration_data)\n",
      "Cell \u001B[0;32mIn[4], line 91\u001B[0m, in \u001B[0;36mRating.calculate_total_duration\u001B[0;34m(self)\u001B[0m\n\u001B[1;32m     84\u001B[0m \u001B[38;5;28;01mdef\u001B[39;00m \u001B[38;5;21mcalculate_total_duration\u001B[39m(\u001B[38;5;28mself\u001B[39m):\n\u001B[1;32m     85\u001B[0m \u001B[38;5;250m    \u001B[39m\u001B[38;5;124;03m\"\"\"\u001B[39;00m\n\u001B[1;32m     86\u001B[0m \u001B[38;5;124;03m    Calculates the total duration and average SNR and std for each station.\u001B[39;00m\n\u001B[1;32m     87\u001B[0m \n\u001B[1;32m     88\u001B[0m \u001B[38;5;124;03m    Returns:\u001B[39;00m\n\u001B[1;32m     89\u001B[0m \u001B[38;5;124;03m        pandas.DataFrame: Total duration and average SNR and std data by station.\u001B[39;00m\n\u001B[1;32m     90\u001B[0m \u001B[38;5;124;03m    \"\"\"\u001B[39;00m\n\u001B[0;32m---> 91\u001B[0m     combined_data \u001B[38;5;241m=\u001B[39m \u001B[38;5;28;43mself\u001B[39;49m\u001B[38;5;241;43m.\u001B[39;49m\u001B[43mcombine_daily_observations\u001B[49m\u001B[43m(\u001B[49m\u001B[43m)\u001B[49m\n\u001B[1;32m     93\u001B[0m     combined_data[\u001B[38;5;124m'\u001B[39m\u001B[38;5;124mDuration\u001B[39m\u001B[38;5;124m'\u001B[39m] \u001B[38;5;241m=\u001B[39m pd\u001B[38;5;241m.\u001B[39mto_timedelta(combined_data[\u001B[38;5;124m'\u001B[39m\u001B[38;5;124mDuration\u001B[39m\u001B[38;5;124m'\u001B[39m])\n\u001B[1;32m     94\u001B[0m     total_duration \u001B[38;5;241m=\u001B[39m combined_data\u001B[38;5;241m.\u001B[39mgroupby(\u001B[38;5;124m'\u001B[39m\u001B[38;5;124mStation\u001B[39m\u001B[38;5;124m'\u001B[39m)[\u001B[38;5;124m'\u001B[39m\u001B[38;5;124mDuration\u001B[39m\u001B[38;5;124m'\u001B[39m]\u001B[38;5;241m.\u001B[39msum()\u001B[38;5;241m.\u001B[39mreset_index()\n",
      "Cell \u001B[0;32mIn[4], line 75\u001B[0m, in \u001B[0;36mRating.combine_daily_observations\u001B[0;34m(self)\u001B[0m\n\u001B[1;32m     71\u001B[0m \u001B[38;5;28;01mdef\u001B[39;00m \u001B[38;5;21mcombine_daily_observations\u001B[39m(\u001B[38;5;28mself\u001B[39m):\n\u001B[1;32m     72\u001B[0m \u001B[38;5;250m    \u001B[39m\u001B[38;5;124;03m\"\"\"\u001B[39;00m\n\u001B[1;32m     73\u001B[0m \u001B[38;5;124;03m    Integrates DailyObservation with the rating system to provide a comprehensive analysis.\u001B[39;00m\n\u001B[1;32m     74\u001B[0m \u001B[38;5;124;03m    \"\"\"\u001B[39;00m\n\u001B[0;32m---> 75\u001B[0m     daily_observation \u001B[38;5;241m=\u001B[39m \u001B[43mDailyObservation\u001B[49m\u001B[43m(\u001B[49m\u001B[38;5;28;43mself\u001B[39;49m\u001B[38;5;241;43m.\u001B[39;49m\u001B[43mstart_time\u001B[49m\u001B[43m,\u001B[49m\u001B[43m \u001B[49m\u001B[38;5;28;43mself\u001B[39;49m\u001B[38;5;241;43m.\u001B[39;49m\u001B[43mend_time\u001B[49m\u001B[43m,\u001B[49m\u001B[43m \u001B[49m\u001B[38;5;124;43m\"\u001B[39;49m\u001B[38;5;124;43m\"\u001B[39;49m\u001B[43m)\u001B[49m\n\u001B[1;32m     76\u001B[0m     daily_data \u001B[38;5;241m=\u001B[39m daily_observation\u001B[38;5;241m.\u001B[39mdata\n\u001B[1;32m     78\u001B[0m     ratings \u001B[38;5;241m=\u001B[39m \u001B[38;5;28mself\u001B[39m\u001B[38;5;241m.\u001B[39mrate_stations()\n",
      "File \u001B[0;32m/tmp/pycharm_project_368/validation/rating_system/daily_observations.py:50\u001B[0m, in \u001B[0;36mDailyObservation.__init__\u001B[0;34m(self, start_date, end_date, station_name)\u001B[0m\n\u001B[1;32m     48\u001B[0m \u001B[38;5;28mself\u001B[39m\u001B[38;5;241m.\u001B[39mstation_name \u001B[38;5;241m=\u001B[39m station_name\n\u001B[1;32m     49\u001B[0m \u001B[38;5;28mself\u001B[39m\u001B[38;5;241m.\u001B[39mrows \u001B[38;5;241m=\u001B[39m \u001B[38;5;28mself\u001B[39m\u001B[38;5;241m.\u001B[39mget_files_by_station(start_date, end_date, station_name)\n\u001B[0;32m---> 50\u001B[0m \u001B[38;5;28mself\u001B[39m\u001B[38;5;241m.\u001B[39mdata \u001B[38;5;241m=\u001B[39m \u001B[38;5;28;43mself\u001B[39;49m\u001B[38;5;241;43m.\u001B[39;49m\u001B[43m_process_stations\u001B[49m\u001B[43m(\u001B[49m\u001B[43m)\u001B[49m\n\u001B[1;32m     51\u001B[0m \u001B[38;5;28mself\u001B[39m\u001B[38;5;241m.\u001B[39mduration_by_station \u001B[38;5;241m=\u001B[39m \u001B[38;5;28mself\u001B[39m\u001B[38;5;241m.\u001B[39mcalculate_total_duration()\n",
      "File \u001B[0;32m/tmp/pycharm_project_368/validation/rating_system/daily_observations.py:158\u001B[0m, in \u001B[0;36mDailyObservation._process_stations\u001B[0;34m(self)\u001B[0m\n\u001B[1;32m    155\u001B[0m std_values \u001B[38;5;241m=\u001B[39m []\n\u001B[1;32m    157\u001B[0m \u001B[38;5;28;01mfor\u001B[39;00m row \u001B[38;5;129;01min\u001B[39;00m \u001B[38;5;28mself\u001B[39m\u001B[38;5;241m.\u001B[39mrows:\n\u001B[0;32m--> 158\u001B[0m     spec \u001B[38;5;241m=\u001B[39m \u001B[43mCallistoSpectrogram\u001B[49m\u001B[38;5;241;43m.\u001B[39;49m\u001B[43mread\u001B[49m\u001B[43m(\u001B[49m\u001B[43mecallisto_config\u001B[49m\u001B[38;5;241;43m.\u001B[39;49m\u001B[43mDATA_PATH\u001B[49m\u001B[43m \u001B[49m\u001B[38;5;241;43m+\u001B[39;49m\u001B[43m \u001B[49m\u001B[43mrow\u001B[49m\u001B[43m[\u001B[49m\u001B[38;5;241;43m6\u001B[39;49m\u001B[43m]\u001B[49m\u001B[43m)\u001B[49m\n\u001B[1;32m    159\u001B[0m     station_name \u001B[38;5;241m=\u001B[39m \u001B[38;5;28mself\u001B[39m\u001B[38;5;241m.\u001B[39mextract_station_name(row[\u001B[38;5;241m6\u001B[39m])\n\u001B[1;32m    160\u001B[0m     latitude \u001B[38;5;241m=\u001B[39m spec\u001B[38;5;241m.\u001B[39mheader[\u001B[38;5;124m\"\u001B[39m\u001B[38;5;124mOBS_LAT\u001B[39m\u001B[38;5;124m\"\u001B[39m]\n",
      "File \u001B[0;32m/tmp/pycharm_project_368/validation/rating_system/radiospectra/sources/callisto.py:369\u001B[0m, in \u001B[0;36mCallistoSpectrogram.read\u001B[0;34m(cls, filename, **kwargs)\u001B[0m\n\u001B[1;32m    367\u001B[0m zigzag \u001B[38;5;241m=\u001B[39m [\u001B[38;5;241m*\u001B[39m\u001B[38;5;28mrange\u001B[39m(\u001B[38;5;241m255\u001B[39m), \u001B[38;5;241m*\u001B[39m\u001B[38;5;28mrange\u001B[39m(\u001B[38;5;241m255\u001B[39m)]\n\u001B[1;32m    368\u001B[0m \u001B[38;5;28;01mfor\u001B[39;00m row_index \u001B[38;5;129;01min\u001B[39;00m \u001B[38;5;28mrange\u001B[39m(data\u001B[38;5;241m.\u001B[39mshape[\u001B[38;5;241m0\u001B[39m]):\n\u001B[0;32m--> 369\u001B[0m     \u001B[38;5;28;01mif\u001B[39;00m \u001B[43mnp\u001B[49m\u001B[38;5;241;43m.\u001B[39;49m\u001B[43marray_equal\u001B[49m\u001B[43m(\u001B[49m\u001B[43mdata\u001B[49m\u001B[43m[\u001B[49m\u001B[43mrow_index\u001B[49m\u001B[43m,\u001B[49m\u001B[43m \u001B[49m\u001B[43m:\u001B[49m\u001B[38;5;28;43mlen\u001B[39;49m\u001B[43m(\u001B[49m\u001B[43mzigzag\u001B[49m\u001B[43m)\u001B[49m\u001B[43m]\u001B[49m\u001B[43m,\u001B[49m\u001B[43m \u001B[49m\u001B[43mzigzag\u001B[49m\u001B[43m)\u001B[49m:\n\u001B[1;32m    370\u001B[0m         data\u001B[38;5;241m.\u001B[39mdata[row_index] \u001B[38;5;241m=\u001B[39m \u001B[38;5;28mcls\u001B[39m\u001B[38;5;241m.\u001B[39mMISSING_VALUE\n\u001B[1;32m    371\u001B[0m         data\u001B[38;5;241m.\u001B[39mmask[row_index] \u001B[38;5;241m=\u001B[39m \u001B[38;5;28;01mTrue\u001B[39;00m\n",
      "File \u001B[0;32m<__array_function__ internals>:180\u001B[0m, in \u001B[0;36marray_equal\u001B[0;34m(*args, **kwargs)\u001B[0m\n",
      "File \u001B[0;32m~/.virtualenvs/eCallistoValidation/lib/python3.10/site-packages/numpy/core/numeric.py:2457\u001B[0m, in \u001B[0;36marray_equal\u001B[0;34m(a1, a2, equal_nan)\u001B[0m\n\u001B[1;32m   2404\u001B[0m \u001B[38;5;250m\u001B[39m\u001B[38;5;124;03m\"\"\"\u001B[39;00m\n\u001B[1;32m   2405\u001B[0m \u001B[38;5;124;03mTrue if two arrays have the same shape and elements, False otherwise.\u001B[39;00m\n\u001B[1;32m   2406\u001B[0m \n\u001B[0;32m   (...)\u001B[0m\n\u001B[1;32m   2454\u001B[0m \u001B[38;5;124;03mTrue\u001B[39;00m\n\u001B[1;32m   2455\u001B[0m \u001B[38;5;124;03m\"\"\"\u001B[39;00m\n\u001B[1;32m   2456\u001B[0m \u001B[38;5;28;01mtry\u001B[39;00m:\n\u001B[0;32m-> 2457\u001B[0m     a1, a2 \u001B[38;5;241m=\u001B[39m asarray(a1), \u001B[43masarray\u001B[49m\u001B[43m(\u001B[49m\u001B[43ma2\u001B[49m\u001B[43m)\u001B[49m\n\u001B[1;32m   2458\u001B[0m \u001B[38;5;28;01mexcept\u001B[39;00m \u001B[38;5;167;01mException\u001B[39;00m:\n\u001B[1;32m   2459\u001B[0m     \u001B[38;5;28;01mreturn\u001B[39;00m \u001B[38;5;28;01mFalse\u001B[39;00m\n",
      "\u001B[0;31mKeyboardInterrupt\u001B[0m: "
     ]
    }
   ],
   "source": [
    "total_duration_data = rating.calculate_total_duration()\n",
    "print(total_duration_data)"
   ],
   "metadata": {
    "collapsed": false,
    "ExecuteTime": {
     "end_time": "2024-06-14T09:09:29.106522Z",
     "start_time": "2024-06-14T09:08:16.132679Z"
    }
   },
   "execution_count": 6
  },
  {
   "cell_type": "code",
   "outputs": [],
   "source": [],
   "metadata": {
    "collapsed": false
   }
  }
 ],
 "metadata": {
  "kernelspec": {
   "display_name": "Python 3",
   "language": "python",
   "name": "python3"
  },
  "language_info": {
   "codemirror_mode": {
    "name": "ipython",
    "version": 2
   },
   "file_extension": ".py",
   "mimetype": "text/x-python",
   "name": "python",
   "nbconvert_exporter": "python",
   "pygments_lexer": "ipython2",
   "version": "2.7.6"
  }
 },
 "nbformat": 4,
 "nbformat_minor": 0
}
