{
 "cells": [
  {
   "cell_type": "markdown",
   "metadata": {},
   "source": [
    "# eCallisto Validation:"
   ]
  },
  {
   "cell_type": "markdown",
   "metadata": {},
   "source": [
    "#### Das Ziel dieses Pakets ist:\n",
    "\n",
    "1) Anhängen die Metadaten an die Datenbank(save_to_sql.py).\n",
    "* Metadaten sind definiert als Daten, die Informationen über einen oder mehrere Aspekte der Daten liefern; Es wird verwendet, um grundlegende Informationen über Daten zusammenzufassen.\n",
    "* Datenbank ist eine organisierte Sammlung strukturierter Informationen oder Daten, die normalerweise elektronisch in einem Computersystem gespeichert werden\n",
    "\n",
    "2) Berechnen die Standardabweichung und upadte in die Datenbank (STD.py).\n",
    "* Was ist die Standardabweichung? Die Standardabweichung ist die durchschnittliche Variabilität im Datensatz. Es sagt im Durchschnitt, wie weit jede Punktzahl vom Mittelwert entfernt ist. Eine hohe Standardabweichung bedeutet, dass die Werte in Normalverteilungen im Allgemeinen weit vom Mittelwert entfernt sind, während eine niedrige Standardabweichung anzeigt, dass die Werte nahe am Mittelwert geclustert sind.\n",
    "\n",
    "3) Wählen 10 Spectrograms pro Station und Plotten sie mit 4 Spalten, dann speichern sie als PDF-Datei(Testing_10000.py).\n"
   ]
  },
  {
   "cell_type": "markdown",
   "metadata": {},
   "source": [
    "### Importieren der Module"
   ]
  },
  {
   "cell_type": "code",
   "execution_count": null,
   "metadata": {},
   "outputs": [],
   "source": [
    "import os\n",
    "import sys\n",
    "import io\n",
    "import glob\n",
    "import astropy.io.fits\n",
    "\n",
    "import numpy as np\n",
    "import time\n",
    "import psycopg2\n",
    "import pandas as pd\n",
    "import pandas.io.sql as psql\n",
    "from sqlalchemy import create_engine\n",
    "import matplotlib.pyplot as plt\n",
    "\n",
    "from eCallistoProject import plot_config\n",
    "\n",
    "module_path = os.path.abspath(os.path.join('radiospectra'))\n",
    "if module_path not in sys.path:\n",
    "    sys.path.append(module_path)\n",
    "\n",
    "\n",
    "import radiospectra\n",
    "from radiospectra.sources import CallistoSpectrogram\n",
    "from matplotlib.backends.backend_pdf import PdfPages\n",
    "\n",
    "import warnings\n",
    "warnings.filterwarnings(\"ignore\")"
   ]
  },
  {
   "cell_type": "markdown",
   "metadata": {},
   "source": [
    "* Der Weg zu den Daten in meinem Notebook"
   ]
  },
  {
   "cell_type": "code",
   "execution_count": null,
   "metadata": {},
   "outputs": [],
   "source": [
    "PATH = 'R:\\\\radio\\\\2002-20yy_Callisto\\\\2017\\\\09'"
   ]
  },
  {
   "cell_type": "markdown",
   "metadata": {},
   "source": [
    "## save_to_sql.py"
   ]
  },
  {
   "cell_type": "markdown",
   "metadata": {},
   "source": [
    "* Umrechnen der Zeit(von Kushtrim)."
   ]
  },
  {
   "cell_type": "code",
   "execution_count": null,
   "metadata": {},
   "outputs": [],
   "source": [
    "def __to_timestamp(date_string, time_string):\n",
    "    \n",
    "                sixty_seconds = int(time_string[6:8]) == 60\n",
    "                sixty_minutes = int(time_string[3:5]) == 60\n",
    "                twentyfour_hours = int(time_string[:2]) == 24\n",
    "                \n",
    "                # replacing  24 to 00 \n",
    "                if sixty_seconds :\n",
    "                    time_string = time_string[:6] + '59' + time_string[8:]\n",
    "                if sixty_minutes :\n",
    "                    time_string = time_string[:3] + '59' + time_string[5:]\n",
    "                if twentyfour_hours :\n",
    "                    time_string = '23' + time_string[2:]\n",
    "                if re.findall(\"\\.\\d+\", time_string):\n",
    "                    time_string = time_string[:-4]\n",
    "                    \n",
    "                # lost time     \n",
    "                ts = datetime.datetime.strptime(\n",
    "                    '%s %s' % (date_string, time_string), '%Y/%m/%d %H:%M:%S')                  \n",
    "                ts += datetime.timedelta(hours = int(twentyfour_hours),\n",
    "                                         minutes = int(sixty_minutes),\n",
    "                                         seconds = int(sixty_seconds))\n",
    "                \n",
    "                return ts  "
   ]
  },
  {
   "cell_type": "markdown",
   "metadata": {},
   "source": [
    "* Stellen eine DBAPI-Verbindung unter localhost:5432 her, wenn eine Verbindungsanforderung."
   ]
  },
  {
   "cell_type": "code",
   "execution_count": null,
   "metadata": {},
   "outputs": [],
   "source": [
    "engine = create_engine(\"postgresql+psycopg2://\" + 'postgres' + \":\" + 'ecallistohackorange'\n",
    "                        + \"@\" + 'localhost' + \"/\" + 'validation')"
   ]
  },
  {
   "cell_type": "markdown",
   "metadata": {},
   "source": [
    "### Das Ziel dieses Skripts ist:\n",
    "* Gehen in den Pfad entlang, um die Daten zu finden.\n",
    "* Öffnen die Fits-Datei aus der Header-Liste (hdulist).\n",
    "* Rufen die Metadaten aus der Header-Liste (hdulist) auf. "
   ]
  },
  {
   "cell_type": "code",
   "execution_count": null,
   "metadata": {},
   "outputs": [],
   "source": [
    "for root, dirs, files in os.walk(PATH):\n",
    "    for file in files:\n",
    "        if file.endswith('.fit.gz'):\n",
    "                \n",
    "            full_path = os.path.join(root, file)\n",
    "\n",
    "            hdulist = astropy.io.fits.open(full_path)\n",
    "\n",
    "            instrument_name = hdulist[0].header['INSTRUME'] \n",
    "            date_obs = hdulist[0].header['DATE-OBS'] \n",
    "            time_obs = hdulist[0].header['TIME-OBS']\n",
    "            date_end = hdulist[0].header['DATE-END'] \n",
    "            time_end = hdulist[0].header['TIME-END'] "
   ]
  },
  {
   "cell_type": "markdown",
   "metadata": {},
   "source": [
    "* Kombinieren \"date and time obs, date and time end\".\n"
   ]
  },
  {
   "cell_type": "code",
   "execution_count": null,
   "metadata": {},
   "outputs": [],
   "source": [
    "start_time = __to_timestamp(date_obs, time_obs)\n",
    "end_time = __to_timestamp(date_end, time_end)"
   ]
  },
  {
   "cell_type": "markdown",
   "metadata": {},
   "source": [
    "### In diesem Skript :\n",
    "* Erstellen eines Datenrahmens in Pandas.\n",
    "* Einfügen der Daten in den Datenrahmen."
   ]
  },
  {
   "cell_type": "code",
   "execution_count": null,
   "metadata": {},
   "outputs": [],
   "source": [
    "\"\"\"\n",
    "- creating dataframe in pandas\n",
    "- Inserting the data into the DataFrame\n",
    "\"\"\"\n",
    "data={\n",
    "    'path':[full_path],\n",
    "    'file_name':[file],\n",
    "    'instrument_name':[instrument_name],\n",
    "    'start_time':[start_time] ,\n",
    "    'end_time':[end_time],\n",
    "    'std' : [None]\n",
    "      }\n",
    "\n",
    "data_frame = pd.DataFrame(data, index = [df]) "
   ]
  },
  {
   "cell_type": "markdown",
   "metadata": {},
   "source": [
    "* Erstellen eine Verbindung zwischen Pandas und SQL und dann hängen den Datenrahmen an SQL an."
   ]
  },
  {
   "cell_type": "code",
   "execution_count": null,
   "metadata": {},
   "outputs": [],
   "source": [
    "data_frame.to_sql('ecallisto', con = engine, if_exists = 'append',\n",
    "                  chunksize = 50000, index=False)"
   ]
  },
  {
   "cell_type": "markdown",
   "metadata": {},
   "source": [
    "## STD.py (Standardabweichung)"
   ]
  },
  {
   "cell_type": "markdown",
   "metadata": {},
   "source": [
    "* Die Verbindung mit der Postgres-Datenbank."
   ]
  },
  {
   "cell_type": "code",
   "execution_count": null,
   "metadata": {},
   "outputs": [],
   "source": [
    "connection = psycopg2.connect(user=\"postgres\",\n",
    "                              password=\"ecallistohackorange\",\n",
    "                              host=\"localhost\",\n",
    "                              port=\"5432\",\n",
    "                              database=\"validation\")\n",
    "cursor = connection.cursor()"
   ]
  },
  {
   "cell_type": "markdown",
   "metadata": {},
   "source": [
    "* Wählen aus der Tabelle \"ecallisto\",  um die Standardabweichung zu berechnen."
   ]
  },
  {
   "cell_type": "code",
   "execution_count": null,
   "metadata": {},
   "outputs": [],
   "source": [
    "\"\"\"Return a table from DB where the std is null\"\"\"\n",
    "\n",
    "cursor.execute(\"\"\"SELECT * from  ecallisto WHERE std is null ORDER BY id\"\"\")"
   ]
  },
  {
   "cell_type": "markdown",
   "metadata": {},
   "source": [
    "* Subtrahiere den Hintergrund.\n",
    "* Berechnen die Standardabweichung(std).\n",
    "* Update die berechnete Standardabweichung in die Tabelle ecallisto.\n",
    "* Exception, um alle Fehler zu fangen und füge sie in die \"List_of_err\" ein.\n",
    "* Schliesslich, die Verbindung schliessen."
   ]
  },
  {
   "cell_type": "code",
   "execution_count": null,
   "metadata": {},
   "outputs": [],
   "source": [
    "\"\"\"\n",
    "- [1] is the index of file_name in the cursor.\n",
    "- subtract the background and then calculate the std.\n",
    "- update the std into the Database ecallisto\n",
    "- expetion to catch the all errors and append them into the List_of_err to check the erros.\n",
    "- close the connection\n",
    "\"\"\"\n",
    "\n",
    "\"\"\"Return a list of STD and then update them into the DB\"\"\"\n",
    "\n",
    "list_of_err =[] \n",
    "for path in cursor.fetchall():\n",
    "    \n",
    "    try:\n",
    "        spec = CallistoSpectrogram.read(path[1])\n",
    "        spec2 = spec.subtract_bg(\"subtract_bg_sliding_window\", window_width=800, affected_width=1,\n",
    "                                 amount=0.05, change_points=True)\n",
    "\n",
    "        spec_std = spec2.data.std()\n",
    "        sql_update_query = f\"\"\"UPDATE ecallisto SET std = {spec_std} where id = {path[0]} \"\"\"\n",
    "        cursor.execute(sql_update_query)\n",
    "        connection.commit()\n",
    "        \n",
    "    except Exception as err:\n",
    "        exception_type = type(err).__name__ + path[2]\n",
    "        list_of_err.append(exception_type)\n",
    "        \n",
    "    finally:\n",
    "        connection.close()\n",
    "        print(\"Table after Updating the records\")"
   ]
  },
  {
   "cell_type": "markdown",
   "metadata": {},
   "source": [
    "## Testing_10'000.py"
   ]
  },
  {
   "cell_type": "markdown",
   "metadata": {},
   "source": [
    "* Auswahl von 10 Spektrogrammen pro Station."
   ]
  },
  {
   "cell_type": "code",
   "execution_count": null,
   "metadata": {},
   "outputs": [],
   "source": [
    "cursor.execute(\"\"\"select * from (\n",
    "                                 select ROW_NUMBER() OVER (partition by instrument_name order by id)\n",
    "                                 as row_num, ecallisto.* FROM ecallisto\n",
    "                                 ) t\n",
    "                                 where row_num <=10\n",
    "                                 order by instrument_name\"\"\")"
   ]
  },
  {
   "cell_type": "markdown",
   "metadata": {},
   "source": [
    "Die Achsen bewegen:\n",
    "* Source: https://gist.github.com/salotz/8b4542d7fe9ea3e2eacc1a2eef2532c5 \n",
    "* von Kushtrim."
   ]
  },
  {
   "cell_type": "code",
   "execution_count": null,
   "metadata": {},
   "outputs": [],
   "source": [
    "def move_axes(fig, ax_source, ax_target):\n",
    "    old_fig = ax_source.figure\n",
    "    ax_source.remove()\n",
    "    ax_source.figure = fig\n",
    "    ax_source.set_ylabel('')\n",
    "    ax_source.set_xlabel('')\n",
    "        \n",
    "    ax_source.set_position(ax_target.get_position())\n",
    "    ax_target.remove()\n",
    "    ax_target.set_aspect(\"equal\")\n",
    "    fig.axes.append(ax_source)\n",
    "    fig.add_subplot(ax_source)\n",
    "    \n",
    "    plt.close(old_fig)"
   ]
  },
  {
   "cell_type": "markdown",
   "metadata": {},
   "source": [
    "* Generieren die Colormap (von Kushtrim)."
   ]
  },
  {
   "cell_type": "code",
   "execution_count": null,
   "metadata": {},
   "outputs": [],
   "source": [
    "my_colormap = matplotlib.colors.LinearSegmentedColormap.from_list(\"myColorMap\", plot_config.COLORMAP / 255)"
   ]
  },
  {
   "cell_type": "markdown",
   "metadata": {},
   "source": [
    "* Das Ziel dieses Skripts ist es, eine PDF-Datei mit mehreren Seiten zu erstellen sowie die Plotten und Histogramme zu PDF-Dateien hinzuzufügen.."
   ]
  },
  {
   "cell_type": "code",
   "execution_count": null,
   "metadata": {},
   "outputs": [],
   "source": [
    "with PdfPages('C:\\\\Users\\\\delbe\\\\OneDrive\\\\Desktop\\\\eCallisto_validation\\\\Plot_PDF.pdf') as pdf:\n",
    "        pdf.savefig(fig_target)\n",
    "        plt.close()"
   ]
  },
  {
   "cell_type": "markdown",
   "metadata": {},
   "source": [
    "* Die erste Spalte enthält die Originaldaten (Spektrogramm)."
   ]
  },
  {
   "cell_type": "code",
   "execution_count": null,
   "metadata": {},
   "outputs": [],
   "source": [
    "full_path = os.path.join(PATH, file[2])\n",
    "spec = CallistoSpectrogram.read(full_path)\n",
    "fig1, axs1 = plt.subplots(1, 4, figsize=(25,5))\n",
    "ax1 = spec.plot(cmap=my_colormap, colorbar=None)\n",
    "ax1.title.set_text(\"Original Data\")\n",
    "plt.close()"
   ]
  },
  {
   "cell_type": "markdown",
   "metadata": {},
   "source": [
    "* Die zweite Spalte enthält \"Background subtracted\" (von Kushtrim)."
   ]
  },
  {
   "cell_type": "code",
   "execution_count": null,
   "metadata": {},
   "outputs": [],
   "source": [
    "spec2 = spec.subtract_bg(\"constbacksub\", \"elimwrongchannels\")\n",
    "fig2 = plt.subplots(1, 4, figsize=(25,5))\n",
    "ax2 = spec2.plot(cmap=my_colormap, colorbar=None, vmin=-5, vmax=5)\n",
    "ax2.title.set_text(\"Background subtracted\")\n",
    "ax2.set_xlabel('Time[UT]')\n",
    "ax2.set_ylabel('Frequency[MHz]')\n",
    "plt.close()"
   ]
  },
  {
   "cell_type": "markdown",
   "metadata": {},
   "source": [
    "* Die dritte Spalte enthält 'Gliding background subtracted' (von Simon)."
   ]
  },
  {
   "cell_type": "code",
   "execution_count": null,
   "metadata": {},
   "outputs": [],
   "source": [
    "spec3 = spec.subtract_bg(\"subtract_bg_sliding_window\", window_width=800, affected_width=1,\n",
    "                         amount=0.05, change_points=True)\n",
    "fig3 = plt.figure(figsize=(25,5))\n",
    "ax3 = spec3.plot(cmap=my_colormap, colorbar=None, vmin=-5, vmax=5)\n",
    "ax3.title.set_text(\"Gliding background subtracted (window=800)\")\n",
    "ax3.set_xlabel('Time[UT]')\n",
    "ax3.set_ylabel('Frequency[MHz]')\n",
    "plt.close()"
   ]
  },
  {
   "cell_type": "markdown",
   "metadata": {},
   "source": [
    "* Die vierte Spalte enthält die Histogramme von \"Background subtracted\" and \"Gliding background subtracted (window=800)\""
   ]
  },
  {
   "cell_type": "code",
   "execution_count": null,
   "metadata": {},
   "outputs": [],
   "source": [
    "\"\"\"\n",
    "# the histogram for Background subtracted.\n",
    "# the histogram for Gliding background subtracted (window=800).\n",
    "\"\"\"\n",
    "data_hist3 = np.absolute(spec2.data.flatten())\n",
    "data_hist4 = np.absolute(spec3.data.flatten())\n",
    "\n",
    "fig4, ax4 = plt.subplots(figsize=(25,5))\n",
    "ax4.hist(data_hist3 ,histtype='step',range= (0, 10), bins= 40, label='Bg_cbs_rfi')\n",
    "ax4.hist(data_hist4 ,histtype='step',range= (0, 10), bins= 40, label='Bg_sub_sliding_rfi')\n",
    "\n",
    "ax4.title.set_text(\"Histograms\")\n",
    "ax4.set_xlabel('Pixel value')\n",
    "ax4.set_ylabel('Number of pixels')\n",
    "plt.legend()\n",
    "plt.close()"
   ]
  },
  {
   "cell_type": "markdown",
   "metadata": {},
   "source": [
    "* Plotten den endgültigen Plot, indem die Achsen zur Figur veschieben."
   ]
  },
  {
   "cell_type": "code",
   "execution_count": null,
   "metadata": {},
   "outputs": [],
   "source": [
    "fig_target, (axA, axB, axC, axD) = plt.subplots(1, 4, figsize=(30,5))\n",
    "plt.suptitle(fig1._suptitle.get_text())"
   ]
  },
  {
   "cell_type": "markdown",
   "metadata": {},
   "source": [
    "* Die Achsen bewegen von Kushtrim."
   ]
  },
  {
   "cell_type": "code",
   "execution_count": null,
   "metadata": {},
   "outputs": [],
   "source": [
    "move_axes(fig_target, ax1, axA)\n",
    "move_axes(fig_target, ax2, axB)\n",
    "move_axes(fig_target, ax3, axC)\n",
    "move_axes(fig_target, ax4, axD)\n",
    "plt.show()"
   ]
  }
 ],
 "metadata": {
  "kernelspec": {
   "display_name": "Python 3",
   "language": "python",
   "name": "python3"
  },
  "language_info": {
   "codemirror_mode": {
    "name": "ipython",
    "version": 3
   },
   "file_extension": ".py",
   "mimetype": "text/x-python",
   "name": "python",
   "nbconvert_exporter": "python",
   "pygments_lexer": "ipython3",
   "version": "3.8.3"
  }
 },
 "nbformat": 4,
 "nbformat_minor": 4
}
