{
 "cells": [
  {
   "cell_type": "markdown",
   "metadata": {},
   "source": [
    "# eCallisto Validation"
   ]
  },
  {
   "cell_type": "markdown",
   "metadata": {},
   "source": [
    "The aim of this package is to:\n",
    "\n",
    "1) Append the Metadata into the datebase (save_to_sql.py).\n",
    "* Metadata is defined as the data providing information about one or more aspects of the data; it is used to summarize basic information about data which can make tracking and working with specific data easier. \n",
    "* Database is an organized collection of structured information, or data, typically stored electronically in a computer system.\n",
    "\n",
    "2) Calculate the standard deviation and update it into the datebase (STD.py).\n",
    "* What is the standard deviation? The standard deviation is the average amount of variability in your data set. It tells you, on average, how far each score lies from the mean. In normal distributions, a high standard deviation means that values are generally far from the mean, while a low standard deviation indicates that values are clustered close to the mean.\n",
    "\n",
    "3) Choose 10 Spectrograms pro Station and plot them with 4 columns, then save them as a pdf file (Testing_10000.py).\n"
   ]
  },
  {
   "cell_type": "markdown",
   "metadata": {},
   "source": [
    "### Importing the Modules "
   ]
  },
  {
   "cell_type": "code",
   "execution_count": null,
   "metadata": {},
   "outputs": [],
   "source": [
    "import os\n",
    "import sys\n",
    "import io\n",
    "import glob\n",
    "import astropy.io.fits\n",
    "\n",
    "import numpy as np\n",
    "import time\n",
    "import psycopg2\n",
    "import pandas as pd\n",
    "import pandas.io.sql as psql\n",
    "from sqlalchemy import create_engine\n",
    "import matplotlib.pyplot as plt\n",
    "\n",
    "from eCallistoProject import plot_config\n",
    "\n",
    "module_path = os.path.abspath(os.path.join('radiospectra'))\n",
    "if module_path not in sys.path:\n",
    "    sys.path.append(module_path)\n",
    "\n",
    "\n",
    "import radiospectra\n",
    "from radiospectra.sources import CallistoSpectrogram\n",
    "from matplotlib.backends.backend_pdf import PdfPages\n",
    "\n",
    "import warnings\n",
    "warnings.filterwarnings(\"ignore\")"
   ]
  },
  {
   "cell_type": "markdown",
   "metadata": {},
   "source": [
    "* The path to the data in my notebook"
   ]
  },
  {
   "cell_type": "code",
   "execution_count": null,
   "metadata": {},
   "outputs": [],
   "source": [
    "PATH = 'R:\\\\radio\\\\2002-20yy_Callisto\\\\2017\\\\09'"
   ]
  },
  {
   "cell_type": "markdown",
   "metadata": {},
   "source": [
    "## save_to_sql.py"
   ]
  },
  {
   "cell_type": "markdown",
   "metadata": {},
   "source": [
    "* Converting the time (by Kushtrim)."
   ]
  },
  {
   "cell_type": "code",
   "execution_count": null,
   "metadata": {},
   "outputs": [],
   "source": [
    "def __to_timestamp(date_string, time_string):\n",
    "    \n",
    "                sixty_seconds = int(time_string[6:8]) == 60\n",
    "                sixty_minutes = int(time_string[3:5]) == 60\n",
    "                twentyfour_hours = int(time_string[:2]) == 24\n",
    "                \n",
    "                # replacing  24 to 00 \n",
    "                if sixty_seconds :\n",
    "                    time_string = time_string[:6] + '59' + time_string[8:]\n",
    "                if sixty_minutes :\n",
    "                    time_string = time_string[:3] + '59' + time_string[5:]\n",
    "                if twentyfour_hours :\n",
    "                    time_string = '23' + time_string[2:]\n",
    "                if re.findall(\"\\.\\d+\", time_string):\n",
    "                    time_string = time_string[:-4]\n",
    "                    \n",
    "                # lost time     \n",
    "                ts = datetime.datetime.strptime(\n",
    "                    '%s %s' % (date_string, time_string), '%Y/%m/%d %H:%M:%S')                  \n",
    "                ts += datetime.timedelta(hours = int(twentyfour_hours),\n",
    "                                         minutes = int(sixty_minutes),\n",
    "                                         seconds = int(sixty_seconds))\n",
    "                \n",
    "                return ts  "
   ]
  },
  {
   "cell_type": "markdown",
   "metadata": {},
   "source": [
    "* Establish a DBAPI connection at localhost:5432 when a connection request\n"
   ]
  },
  {
   "cell_type": "code",
   "execution_count": null,
   "metadata": {},
   "outputs": [],
   "source": [
    "engine = create_engine(\"postgresql+psycopg2://\" + 'postgres' + \":\" + 'ecallistohackorange'\n",
    "                        + \"@\" + 'localhost' + \"/\" + 'validation')"
   ]
  },
  {
   "cell_type": "markdown",
   "metadata": {},
   "source": [
    "### The aim of this Script to:\n",
    "* Walk through the path to find the data.\n",
    "* Open the fits-file from the header list (hdulist).\n",
    "* Call the Mata Data from the header list."
   ]
  },
  {
   "cell_type": "code",
   "execution_count": null,
   "metadata": {},
   "outputs": [],
   "source": [
    "for root, dirs, files in os.walk(PATH):\n",
    "    for file in files:\n",
    "        if file.endswith('.fit.gz'):\n",
    "                \n",
    "            full_path = os.path.join(root, file)\n",
    "\n",
    "            hdulist = astropy.io.fits.open(full_path)\n",
    "\n",
    "            instrument_name = hdulist[0].header['INSTRUME'] \n",
    "            date_obs = hdulist[0].header['DATE-OBS'] \n",
    "            time_obs = hdulist[0].header['TIME-OBS']\n",
    "            date_end = hdulist[0].header['DATE-END'] \n",
    "            time_end = hdulist[0].header['TIME-END'] "
   ]
  },
  {
   "cell_type": "markdown",
   "metadata": {},
   "source": [
    "* Combine date and time obs, date and time end.\n"
   ]
  },
  {
   "cell_type": "code",
   "execution_count": null,
   "metadata": {},
   "outputs": [],
   "source": [
    "start_time = __to_timestamp(date_obs, time_obs)\n",
    "end_time = __to_timestamp(date_end, time_end)"
   ]
  },
  {
   "cell_type": "markdown",
   "metadata": {},
   "source": [
    "### In this Script we are:\n",
    "* Creating a dataframe in pandas.\n",
    "* Inserting the data into the Dataframe."
   ]
  },
  {
   "cell_type": "code",
   "execution_count": null,
   "metadata": {},
   "outputs": [],
   "source": [
    "\"\"\"\n",
    "- creating dataframe in pandas\n",
    "- Inserting the data into the DataFrame\n",
    "\"\"\"\n",
    "data={\n",
    "    'path':[full_path],\n",
    "    'file_name':[file],\n",
    "    'instrument_name':[instrument_name],\n",
    "    'start_time':[start_time] ,\n",
    "    'end_time':[end_time],\n",
    "    'std' : [None]\n",
    "      }\n",
    "\n",
    "data_frame = pd.DataFrame(data, index = [df]) "
   ]
  },
  {
   "cell_type": "markdown",
   "metadata": {},
   "source": [
    "* Create a connection between pandas and sql and then append the dataframe into sql."
   ]
  },
  {
   "cell_type": "code",
   "execution_count": null,
   "metadata": {},
   "outputs": [],
   "source": [
    "data_frame.to_sql('ecallisto', con = engine, if_exists = 'append',\n",
    "                  chunksize = 50000, index=False)"
   ]
  },
  {
   "cell_type": "markdown",
   "metadata": {},
   "source": [
    "## STD.py (Standard Deviation)"
   ]
  },
  {
   "cell_type": "markdown",
   "metadata": {},
   "source": [
    "* Connect to the database Postgres."
   ]
  },
  {
   "cell_type": "code",
   "execution_count": null,
   "metadata": {},
   "outputs": [],
   "source": [
    "connection = psycopg2.connect(user=\"postgres\",\n",
    "                              password=\"ecallistohackorange\",\n",
    "                              host=\"localhost\",\n",
    "                              port=\"5432\",\n",
    "                              database=\"validation\")\n",
    "cursor = connection.cursor()"
   ]
  },
  {
   "cell_type": "markdown",
   "metadata": {},
   "source": [
    "* Select from the table \"ecallisto\" from Database to calculate the Std."
   ]
  },
  {
   "cell_type": "code",
   "execution_count": null,
   "metadata": {},
   "outputs": [],
   "source": [
    "\"\"\"Return a table from DB where the std is null\"\"\"\n",
    "\n",
    "cursor.execute(\"\"\"SELECT * from  ecallisto WHERE std is null ORDER BY id\"\"\")"
   ]
  },
  {
   "cell_type": "markdown",
   "metadata": {},
   "source": [
    "* Subtract the background.\n",
    "* Calculate the std (standard deviation).\n",
    "* Update the std into the Database ecallisto (the name of the database).\n",
    "* Exception to catch all the errors and append them into List_of_err.\n",
    "* Finally close the connection."
   ]
  },
  {
   "cell_type": "code",
   "execution_count": null,
   "metadata": {},
   "outputs": [],
   "source": [
    "\"\"\"\n",
    "- [1] is the index of file_name in the cursor.\n",
    "- subtract the background and then calculate the std.\n",
    "- update the std into the Database ecallisto\n",
    "- expetion to catch the all errors and append them into the List_of_err to check the erros.\n",
    "- close the connection\n",
    "\"\"\"\n",
    "\n",
    "\"\"\"Return a list of STD and then update them into the DB\"\"\"\n",
    "\n",
    "list_of_err =[] \n",
    "for path in cursor.fetchall():\n",
    "    \n",
    "    try:\n",
    "        spec = CallistoSpectrogram.read(path[1])\n",
    "        spec2 = spec.subtract_bg(\"subtract_bg_sliding_window\", window_width=800, affected_width=1,\n",
    "                                 amount=0.05, change_points=True)\n",
    "\n",
    "        spec_std = spec2.data.std()\n",
    "        sql_update_query = f\"\"\"UPDATE ecallisto SET std = {spec_std} where id = {path[0]} \"\"\"\n",
    "        cursor.execute(sql_update_query)\n",
    "        connection.commit()\n",
    "        \n",
    "    except Exception as err:\n",
    "        exception_type = type(err).__name__ + path[2]\n",
    "        list_of_err.append(exception_type)\n",
    "        \n",
    "    finally:\n",
    "        connection.close()\n",
    "        print(\"Table after Updating the records\")"
   ]
  },
  {
   "cell_type": "markdown",
   "metadata": {},
   "source": [
    "## Testing_10'000.py"
   ]
  },
  {
   "cell_type": "markdown",
   "metadata": {},
   "source": [
    "* Selecting 10 Spectrograms pro Station. "
   ]
  },
  {
   "cell_type": "code",
   "execution_count": null,
   "metadata": {},
   "outputs": [],
   "source": [
    "cursor.execute(\"\"\"select * from (\n",
    "                                 select ROW_NUMBER() OVER (partition by instrument_name order by id)\n",
    "                                 as row_num, ecallisto.* FROM ecallisto\n",
    "                                 ) t\n",
    "                                 where row_num <=10\n",
    "                                 order by instrument_name\"\"\")"
   ]
  },
  {
   "cell_type": "markdown",
   "metadata": {},
   "source": [
    "To move the Axes:\n",
    "* Source: https://gist.github.com/salotz/8b4542d7fe9ea3e2eacc1a2eef2532c5 \n",
    "* By Kushtrim."
   ]
  },
  {
   "cell_type": "code",
   "execution_count": null,
   "metadata": {},
   "outputs": [],
   "source": [
    "def move_axes(fig, ax_source, ax_target):\n",
    "    old_fig = ax_source.figure\n",
    "    ax_source.remove()\n",
    "    ax_source.figure = fig\n",
    "    ax_source.set_ylabel('')\n",
    "    ax_source.set_xlabel('')\n",
    "        \n",
    "    ax_source.set_position(ax_target.get_position())\n",
    "    ax_target.remove()\n",
    "    ax_target.set_aspect(\"equal\")\n",
    "    fig.axes.append(ax_source)\n",
    "    fig.add_subplot(ax_source)\n",
    "    \n",
    "    plt.close(old_fig)"
   ]
  },
  {
   "cell_type": "markdown",
   "metadata": {},
   "source": [
    "* To generate the Colormap (by Kushtrim)."
   ]
  },
  {
   "cell_type": "code",
   "execution_count": null,
   "metadata": {},
   "outputs": [],
   "source": [
    "my_colormap = matplotlib.colors.LinearSegmentedColormap.from_list(\"myColorMap\", plot_config.COLORMAP / 255)"
   ]
  },
  {
   "cell_type": "markdown",
   "metadata": {},
   "source": [
    "* The aim of this script is to create a pdf file with several pages, as well as adding the plots and histograms to pdf files."
   ]
  },
  {
   "cell_type": "code",
   "execution_count": null,
   "metadata": {},
   "outputs": [],
   "source": [
    "with PdfPages('C:\\\\Users\\\\delbe\\\\OneDrive\\\\Desktop\\\\eCallisto_validation\\\\Plot_PDF.pdf') as pdf:\n",
    "        pdf.savefig(fig_target)\n",
    "        plt.close()"
   ]
  },
  {
   "cell_type": "markdown",
   "metadata": {},
   "source": [
    "* The first column include the original data (Spectrogram)."
   ]
  },
  {
   "cell_type": "code",
   "execution_count": null,
   "metadata": {},
   "outputs": [],
   "source": [
    "full_path = os.path.join(PATH, file[2])\n",
    "spec = CallistoSpectrogram.read(full_path)\n",
    "fig1, axs1 = plt.subplots(1, 4, figsize=(25,5))\n",
    "ax1 = spec.plot(cmap=my_colormap, colorbar=None)\n",
    "ax1.title.set_text(\"Original Data\")\n",
    "plt.close()"
   ]
  },
  {
   "cell_type": "markdown",
   "metadata": {},
   "source": [
    "* The second column include the \"Background subtracted\" by Kushtrim."
   ]
  },
  {
   "cell_type": "code",
   "execution_count": null,
   "metadata": {},
   "outputs": [],
   "source": [
    "spec2 = spec.subtract_bg(\"constbacksub\", \"elimwrongchannels\")\n",
    "fig2 = plt.subplots(1, 4, figsize=(25,5))\n",
    "ax2 = spec2.plot(cmap=my_colormap, colorbar=None, vmin=-5, vmax=5)\n",
    "ax2.title.set_text(\"Background subtracted\")\n",
    "ax2.set_xlabel('Time[UT]')\n",
    "ax2.set_ylabel('Frequency[MHz]')\n",
    "plt.close()"
   ]
  },
  {
   "cell_type": "markdown",
   "metadata": {},
   "source": [
    "* The third Column include the 'Gliding background subtracted' by Simon."
   ]
  },
  {
   "cell_type": "code",
   "execution_count": null,
   "metadata": {},
   "outputs": [],
   "source": [
    "spec3 = spec.subtract_bg(\"subtract_bg_sliding_window\", window_width=800, affected_width=1,\n",
    "                         amount=0.05, change_points=True)\n",
    "fig3 = plt.figure(figsize=(25,5))\n",
    "ax3 = spec3.plot(cmap=my_colormap, colorbar=None, vmin=-5, vmax=5)\n",
    "ax3.title.set_text(\"Gliding background subtracted (window=800)\")\n",
    "ax3.set_xlabel('Time[UT]')\n",
    "ax3.set_ylabel('Frequency[MHz]')\n",
    "plt.close()"
   ]
  },
  {
   "cell_type": "markdown",
   "metadata": {},
   "source": [
    "* The fourth column include the Histograms of \"Background subtracted\" and \"Gliding background subtracted (window=800)\""
   ]
  },
  {
   "cell_type": "code",
   "execution_count": null,
   "metadata": {},
   "outputs": [],
   "source": [
    "\"\"\"\n",
    "# the histogram for Background subtracted.\n",
    "# the histogram for Gliding background subtracted (window=800).\n",
    "\"\"\"\n",
    "data_hist3 = np.absolute(spec2.data.flatten())\n",
    "data_hist4 = np.absolute(spec3.data.flatten())\n",
    "\n",
    "fig4, ax4 = plt.subplots(figsize=(25,5))\n",
    "ax4.hist(data_hist3 ,histtype='step',range= (0, 10), bins= 40, label='Bg_cbs_rfi')\n",
    "ax4.hist(data_hist4 ,histtype='step',range= (0, 10), bins= 40, label='Bg_sub_sliding_rfi')\n",
    "\n",
    "ax4.title.set_text(\"Histograms\")\n",
    "ax4.set_xlabel('Pixel value')\n",
    "ax4.set_ylabel('Number of pixels')\n",
    "plt.legend()\n",
    "plt.close()"
   ]
  },
  {
   "cell_type": "markdown",
   "metadata": {},
   "source": [
    "* Plot final plot by moving axes to the figure."
   ]
  },
  {
   "cell_type": "code",
   "execution_count": null,
   "metadata": {},
   "outputs": [],
   "source": [
    "fig_target, (axA, axB, axC, axD) = plt.subplots(1, 4, figsize=(30,5))\n",
    "plt.suptitle(fig1._suptitle.get_text())"
   ]
  },
  {
   "cell_type": "markdown",
   "metadata": {},
   "source": [
    "* Move the axes by Kushtrim."
   ]
  },
  {
   "cell_type": "code",
   "execution_count": null,
   "metadata": {},
   "outputs": [],
   "source": [
    "move_axes(fig_target, ax1, axA)\n",
    "move_axes(fig_target, ax2, axB)\n",
    "move_axes(fig_target, ax3, axC)\n",
    "move_axes(fig_target, ax4, axD)\n",
    "plt.show()"
   ]
  }
 ],
 "metadata": {
  "kernelspec": {
   "display_name": "Python 3",
   "language": "python",
   "name": "python3"
  },
  "language_info": {
   "codemirror_mode": {
    "name": "ipython",
    "version": 3
   },
   "file_extension": ".py",
   "mimetype": "text/x-python",
   "name": "python",
   "nbconvert_exporter": "python",
   "pygments_lexer": "ipython3",
   "version": "3.8.3"
  }
 },
 "nbformat": 4,
 "nbformat_minor": 4
}
