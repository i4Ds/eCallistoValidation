{
 "cells": [
  {
   "cell_type": "code",
   "execution_count": null,
   "metadata": {},
   "outputs": [],
   "source": [
    "import os\n",
    "import io\n",
    "import glob\n",
    "import sys\n",
    "import astropy.io.fits\n",
    "import matplotlib\n",
    "import numpy as np\n",
    "import time\n",
    "\n",
    "import skimage.transform\n",
    "import cv2\n",
    "import psycopg2\n",
    "from PIL import Image, ImageDraw, ImageFont\n",
    "import pandas as pd\n",
    "import pandas.io.sql as psql\n",
    "from sqlalchemy import create_engine\n",
    "import matplotlib.pyplot as plt\n",
    "\n",
    "from eCallistoProject import plot_config\n",
    "\n",
    "module_path = os.path.abspath(os.path.join('radiospectra'))\n",
    "if module_path not in sys.path:\n",
    "    sys.path.append(module_path)\n",
    "    \n",
    "import radiospectra\n",
    "\n",
    "from radiospectra.sources import CallistoSpectrogram\n",
    "\n",
    "from matplotlib.backends.backend_pdf import PdfPages\n",
    "\n",
    "import warnings\n",
    "warnings.filterwarnings(\"ignore\")\n"
   ]
  },
  {
   "cell_type": "code",
   "execution_count": null,
   "metadata": {},
   "outputs": [],
   "source": [
    "def connect_database(dbName):\n",
    "    \"\"\"\n",
    "    The function to create database\n",
    "\n",
    "    Returns:\n",
    "        cur  : Use the connection to get a cursor that will be used to execute queries.\n",
    "        conn : The connection towards current connecting database.\n",
    "    \"\"\"\n",
    "\n",
    "    # Connect to an existing database\n",
    "    conn = psycopg2.connect(\"host=localhost port=5432 dbname={} user=postgres password=ecallistohackorange\".format(dbName))\n",
    "\n",
    "   # Set one or more parameters for the next transactions or statements in the current session.\n",
    "    conn.set_session(autocommit=True)\n",
    "\n",
    "   # Open a cursor to perform database operations\n",
    "    cur = conn.cursor()\n",
    "\n",
    "    return cur, conn\n"
   ]
  },
  {
   "cell_type": "code",
   "execution_count": null,
   "metadata": {},
   "outputs": [],
   "source": [
    "cur, conn = connect_database('validation')"
   ]
  },
  {
   "cell_type": "code",
   "execution_count": null,
   "metadata": {},
   "outputs": [],
   "source": [
    "# Databases from 2020/10/07 for Testing\n",
    "\n",
    "def get_data_frame1():\n",
    "    dataframe = psql.read_sql(\"SELECT * from ecallisto WHERE start_time BETWEEN '2020-10-07 12:00:00' AND '2020-10-07  15:00:00'\",conn)\n",
    "    return dataframe\n",
    "\n",
    "get_data_frame1()"
   ]
  },
  {
   "cell_type": "code",
   "execution_count": null,
   "metadata": {},
   "outputs": [],
   "source": [
    "# the average of STD(Standard deviation)\n",
    "\n",
    "def get_std():\n",
    "    Std_dataframe = psql.read_sql(\"SELECT instrument_name, AVG(DISTINCT std) FROM ecallisto GROUP BY instrument_name ORDER BY AVG(std)\", conn)\n",
    "\n",
    "    return Std_dataframe\n",
    "\n",
    "get_std()"
   ]
  },
  {
   "cell_type": "code",
   "execution_count": null,
   "metadata": {},
   "outputs": [],
   "source": [
    "# Databases for 2017/09/06\n",
    "\n",
    "def get_data2017():\n",
    "    dataframe = psql.read_sql(\"SELECT * from ecallisto_2017\",conn)\n",
    "    return dataframe\n",
    "\n",
    "get_data2017()"
   ]
  },
  {
   "cell_type": "code",
   "execution_count": null,
   "metadata": {},
   "outputs": [],
   "source": [
    "# Source: https://gist.github.com/salotz/8b4542d7fe9ea3e2eacc1a2eef2532c5\n",
    "\n",
    "def move_axes(fig, ax_source, ax_target):\n",
    "    old_fig = ax_source.figure\n",
    "    ax_source.remove()\n",
    "    ax_source.figure = fig\n",
    "    ax_source.set_ylabel('')\n",
    "    ax_source.set_xlabel('')\n",
    "        \n",
    "    ax_source.set_position(ax_target.get_position())\n",
    "    ax_target.remove()\n",
    "    ax_target.set_aspect(\"equal\")\n",
    "    fig.axes.append(ax_source)\n",
    "    fig.add_subplot(ax_source)\n",
    "    \n",
    "    plt.close(old_fig)\n",
    "                "
   ]
  },
  {
   "cell_type": "code",
   "execution_count": null,
   "metadata": {},
   "outputs": [],
   "source": [
    "# calling the databases\n",
    "ecallisto_DB = get_data2017()\n",
    "\n",
    "# defining the colormap by Kushtrim \n",
    "my_colormap = matplotlib.colors.LinearSegmentedColormap.from_list(\"myColorMap\", plot_config.COLORMAP / 255)\n",
    "\n",
    "path = 'R:\\\\radio\\\\2002-20yy_Callisto\\\\2017\\\\09\\\\06'\n",
    "\n",
    "for file in ecallisto_DB[\"file_name\"]:\n",
    "    \n",
    "    path_fits = os.path.join(path,file)\n",
    "    spec = CallistoSpectrogram.read(path_fits)\n",
    "\n",
    "    # First column, Original plot\n",
    "    fig1, axs1 = plt.subplots(1, 4, figsize=(20,5))\n",
    "    ax1 = spec.plot(cmap=my_colormap, colorbar=None)\n",
    "    ax1.title.set_text(\"Original Data\")\n",
    "    plt.close()\n",
    "\n",
    "    # Second column, Constbacksub + elimwrongchannels\n",
    "    spec2 = spec.subtract_bg(\"constbacksub\", \"elimwrongchannels\")\n",
    "    fig2 = plt.subplots(1, 4, figsize=(20,5))\n",
    "    ax2 = spec2.plot(cmap=my_colormap, colorbar=None)\n",
    "    ax2.title.set_text(\"Bg_cbs_rfi\")\n",
    "    plt.close()\n",
    "\n",
    "    # Third column, subtract_bg_sliding_window\n",
    "    spec3 = spec.subtract_bg(\"subtract_bg_sliding_window\", window_width=800, affected_width=1,\n",
    "                             amount=0.05, change_points=True)\n",
    "    fig3 = plt.figure(figsize=(20,5))\n",
    "    ax3 = spec3.plot(cmap=my_colormap, colorbar=None)\n",
    "    ax3.title.set_text(\"Bg_sub_sliding_rfi\")\n",
    "    plt.close()\n",
    "\n",
    "    # Fourth column, Histograms\n",
    "    data_hist3 = spec2.data.flatten()\n",
    "    data_hist4 = spec3.data.flatten()\n",
    "    fig4, ax4 = plt.subplots(figsize=(20,5))\n",
    "    ax4.hist(data_hist3 ,histtype='step', bins= 20, label='Bg_cbs_rfi')\n",
    "    ax4.hist(data_hist4 ,histtype='step', bins= 20, label='Bg_sub_sliding_rfi')\n",
    "    ax4.title.set_text(\"Histograms\")\n",
    "    plt.legend()\n",
    "    plt.close()\n",
    "\n",
    "    # Plot final plot by moving axes to the figure\n",
    "    fig_target, (axA, axB, axC, axD) = plt.subplots(1, 4, figsize=(40,5))\n",
    "    plt.suptitle(fig1._suptitle.get_text())\n",
    "\n",
    "    move_axes(fig_target, ax1, axA)\n",
    "    move_axes(fig_target, ax2, axB)\n",
    "    move_axes(fig_target, ax3, axC)\n",
    "    move_axes(fig_target, ax4, axD)\n",
    "    plt.show()\n",
    "                \n",
    "print(\"Finished plotting!\")"
   ]
  }
 ],
 "metadata": {
  "kernelspec": {
   "display_name": "Python 3",
   "language": "python",
   "name": "python3"
  },
  "language_info": {
   "codemirror_mode": {
    "name": "ipython",
    "version": 3
   },
   "file_extension": ".py",
   "mimetype": "text/x-python",
   "name": "python",
   "nbconvert_exporter": "python",
   "pygments_lexer": "ipython3",
   "version": "3.8.3"
  },
  "metadata": {
   "interpreter": {
    "hash": "62b32c3f295bc0b79935c9fd8064986e270cc5fd42460debee91395e60f3c57a"
   }
  }
 },
 "nbformat": 4,
 "nbformat_minor": 4
}
